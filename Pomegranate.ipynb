{
 "cells": [
  {
   "cell_type": "markdown",
   "metadata": {},
   "source": [
    "# Pomegranate library\n",
    "\n",
    "[`pomegranate` is a Python package](https://pomegranate.readthedocs.io/en/latest/index.html) that implements fast and flexible probabilistic models ranging from individual probability distributions to compositional models such as [Bayesian networks](https://en.wikipedia.org/wiki/Bayesian_network) and [Hidden Markov models](https://en.wikipedia.org/wiki/Hidden_Markov_model). \n",
    "\n",
    "The core philosophy behind pomegranate is that **all probabilistic models can be viewed as a probability distribution in that they all yield probability estimates for samples and can be updated given samples and their associated weights**. The primary consequence of this view is that the components that are implemented in pomegranate can be stacked more flexibly than other packages."
   ]
  },
  {
   "cell_type": "code",
   "execution_count": 1,
   "metadata": {},
   "outputs": [],
   "source": [
    "from pomegranate import *\n",
    "import matplotlib.pyplot as plt\n",
    "import numpy as np\n",
    "import matplotlib as mpl\n",
    "mpl.rcParams['figure.dpi']= 150"
   ]
  },
  {
   "cell_type": "markdown",
   "metadata": {},
   "source": [
    "---\n",
    "\n",
    "## Probability distributions"
   ]
  },
  {
   "cell_type": "markdown",
   "metadata": {},
   "source": [
    "### Initialization"
   ]
  },
  {
   "cell_type": "code",
   "execution_count": 2,
   "metadata": {},
   "outputs": [],
   "source": [
    "n1 = NormalDistribution(5, 2)"
   ]
  },
  {
   "cell_type": "markdown",
   "metadata": {},
   "source": [
    "### Random samples"
   ]
  },
  {
   "cell_type": "code",
   "execution_count": 3,
   "metadata": {},
   "outputs": [
    {
     "data": {
      "text/plain": [
       "array([ 4.63182744,  6.36621905,  1.79253477,  2.47307143,  4.9550475 ,\n",
       "       12.03512287,  1.45765111,  3.75971927,  5.63179653,  5.98264793])"
      ]
     },
     "execution_count": 3,
     "metadata": {},
     "output_type": "execute_result"
    }
   ],
   "source": [
    "n1.sample(10)"
   ]
  },
  {
   "cell_type": "markdown",
   "metadata": {},
   "source": [
    "### What's the probability of a sample data?"
   ]
  },
  {
   "cell_type": "code",
   "execution_count": 4,
   "metadata": {},
   "outputs": [
    {
     "data": {
      "text/plain": [
       "0.17603266338221998"
      ]
     },
     "execution_count": 4,
     "metadata": {},
     "output_type": "execute_result"
    }
   ],
   "source": [
    "n1.probability(6)"
   ]
  },
  {
   "cell_type": "code",
   "execution_count": 5,
   "metadata": {},
   "outputs": [
    {
     "data": {
      "text/plain": [
       "-1.737085713764219"
      ]
     },
     "execution_count": 5,
     "metadata": {},
     "output_type": "execute_result"
    }
   ],
   "source": [
    "n1.log_probability(6)"
   ]
  },
  {
   "cell_type": "code",
   "execution_count": 6,
   "metadata": {},
   "outputs": [
    {
     "data": {
      "text/plain": [
       "array([0.19947114, 0.17603266, 0.00876415, 0.00043634])"
      ]
     },
     "execution_count": 6,
     "metadata": {},
     "output_type": "execute_result"
    }
   ],
   "source": [
    "n1.probability([5,6,0,-2])"
   ]
  },
  {
   "cell_type": "markdown",
   "metadata": {},
   "source": [
    "### Fitting with an array"
   ]
  },
  {
   "cell_type": "code",
   "execution_count": 7,
   "metadata": {},
   "outputs": [
    {
     "data": {
      "text/plain": [
       "[5.0, 2.0]"
      ]
     },
     "execution_count": 7,
     "metadata": {},
     "output_type": "execute_result"
    }
   ],
   "source": [
    "n1.parameters"
   ]
  },
  {
   "cell_type": "code",
   "execution_count": 8,
   "metadata": {},
   "outputs": [],
   "source": [
    "a = np.random.normal(3.5,2.0,1000)+np.random.random(1000)"
   ]
  },
  {
   "cell_type": "code",
   "execution_count": 9,
   "metadata": {},
   "outputs": [
    {
     "data": {
      "image/png": "[encoded data removed]",
      "text/plain": [
       "<Figure size 432x288 with 1 Axes>"
      ]
     },
     "metadata": {
      "needs_background": "light"
     },
     "output_type": "display_data"
    }
   ],
   "source": [
    "plt.hist(a,bins=20, edgecolor='k')\n",
    "plt.show()"
   ]
  },
  {
   "cell_type": "code",
   "execution_count": 10,
   "metadata": {},
   "outputs": [],
   "source": [
    "n1.fit(a)"
   ]
  },
  {
   "cell_type": "code",
   "execution_count": 11,
   "metadata": {},
   "outputs": [
    {
     "data": {
      "text/plain": [
       "[3.8909056080889504, 2.0772587381572114]"
      ]
     },
     "execution_count": 11,
     "metadata": {},
     "output_type": "execute_result"
    }
   ],
   "source": [
    "n1.parameters"
   ]
  },
  {
   "cell_type": "markdown",
   "metadata": {},
   "source": [
    "### Creating the distribution from the sample data directly"
   ]
  },
  {
   "cell_type": "code",
   "execution_count": 12,
   "metadata": {},
   "outputs": [],
   "source": [
    "n2 = NormalDistribution.from_samples(a)"
   ]
  },
  {
   "cell_type": "code",
   "execution_count": 13,
   "metadata": {},
   "outputs": [
    {
     "name": "stdout",
     "output_type": "stream",
     "text": [
      "{\n",
      "    \"class\" : \"Distribution\",\n",
      "    \"name\" : \"NormalDistribution\",\n",
      "    \"parameters\" : [\n",
      "        3.8909056080889504,\n",
      "        2.0772587381572114\n",
      "    ],\n",
      "    \"frozen\" : false\n",
      "}\n"
     ]
    }
   ],
   "source": [
    "print(n2)"
   ]
  },
  {
   "cell_type": "markdown",
   "metadata": {},
   "source": [
    "### Plotting (histogram) is natively supported on the distribution class with the `plot()` method"
   ]
  },
  {
   "cell_type": "code",
   "execution_count": 14,
   "metadata": {},
   "outputs": [],
   "source": [
    "beta = BetaDistribution(2,3)"
   ]
  },
  {
   "cell_type": "code",
   "execution_count": 15,
   "metadata": {},
   "outputs": [
    {
     "data": {
      "image/png": "[encoded data removed]",
      "text/plain": [
       "<Figure size 432x288 with 1 Axes>"
      ]
     },
     "metadata": {
      "needs_background": "light"
     },
     "output_type": "display_data"
    }
   ],
   "source": [
    "beta.plot(500,\n",
    "          bins=20,\n",
    "          edgecolor='k',\n",
    "          color='orange')"
   ]
  },
  {
   "cell_type": "markdown",
   "metadata": {},
   "source": [
    "### Discrete distribution\n",
    "\n",
    "Instead of passing parameters as floats, you instead pass in a dictionary where keys can be any objects and values are the probability of them occurring."
   ]
  },
  {
   "cell_type": "code",
   "execution_count": 16,
   "metadata": {},
   "outputs": [],
   "source": [
    "discrete = DiscreteDistribution({'Harry':0.25, 'Ron':0.2, 'Hermione':0.35, 'Draco':0.2})"
   ]
  },
  {
   "cell_type": "code",
   "execution_count": 17,
   "metadata": {},
   "outputs": [
    {
     "data": {
      "text/plain": [
       "0.25"
      ]
     },
     "execution_count": 17,
     "metadata": {},
     "output_type": "execute_result"
    }
   ],
   "source": [
    "discrete.probability('Harry')"
   ]
  },
  {
   "cell_type": "code",
   "execution_count": 18,
   "metadata": {},
   "outputs": [
    {
     "data": {
      "text/plain": [
       "0.0"
      ]
     },
     "execution_count": 18,
     "metadata": {},
     "output_type": "execute_result"
    }
   ],
   "source": [
    "discrete.probability('Hagrid')"
   ]
  },
  {
   "cell_type": "code",
   "execution_count": 19,
   "metadata": {},
   "outputs": [
    {
     "data": {
      "text/plain": [
       "array(['Ron', 'Draco', 'Ron', 'Ron', 'Draco', 'Hermione', 'Draco',\n",
       "       'Draco', 'Harry', 'Hermione'], dtype='<U8')"
      ]
     },
     "execution_count": 19,
     "metadata": {},
     "output_type": "execute_result"
    }
   ],
   "source": [
    "discrete.sample(10)"
   ]
  },
  {
   "cell_type": "markdown",
   "metadata": {},
   "source": [
    "### Fitting a discrete distribution is easy"
   ]
  },
  {
   "cell_type": "code",
   "execution_count": 20,
   "metadata": {},
   "outputs": [],
   "source": [
    "# A DNA sequence\n",
    "dna_data = 'ACGATACACTGAATGACAGCAGTCACTGACAGTAGTACGAGTAGTAGCAGAGAGTAATAAAGAATTAATATATGACACTACGAAAAAAATGCATCG'\n",
    "dna = list(dna_data)\n",
    "# Starting with a equi-probability distribution of the 4 nucleic acids\n",
    "d = DiscreteDistribution({'A':0.25,'T':0.25,'G':0.25,'C':0.25})"
   ]
  },
  {
   "cell_type": "code",
   "execution_count": 21,
   "metadata": {},
   "outputs": [],
   "source": [
    "d.fit(dna)"
   ]
  },
  {
   "cell_type": "code",
   "execution_count": 22,
   "metadata": {},
   "outputs": [
    {
     "name": "stdout",
     "output_type": "stream",
     "text": [
      "From the given DNA sequence, the probabilities are [{'A': 0.4375, 'T': 0.19791666666666666, 'G': 0.20833333333333334, 'C': 0.15625}]\n"
     ]
    }
   ],
   "source": [
    "print (\"From the given DNA sequence, the probabilities are\", d.parameters)"
   ]
  },
  {
   "cell_type": "markdown",
   "metadata": {},
   "source": [
    "### A simple DNA sequence matching application"
   ]
  },
  {
   "cell_type": "code",
   "execution_count": 23,
   "metadata": {},
   "outputs": [
    {
     "data": {
      "text/plain": [
       "array([0.4375    , 0.19791667, 0.20833333, 0.15625   ])"
      ]
     },
     "execution_count": 23,
     "metadata": {},
     "output_type": "execute_result"
    }
   ],
   "source": [
    "dna_params = np.array(list(d.parameters[0].values()))\n",
    "dna_params"
   ]
  },
  {
   "cell_type": "code",
   "execution_count": 24,
   "metadata": {},
   "outputs": [],
   "source": [
    "def gen_seq(length=100):\n",
    "    from random import choices\n",
    "    seq = ''.join(choices(['A','T','G','C'],k=length))\n",
    "    return seq"
   ]
  },
  {
   "cell_type": "code",
   "execution_count": 25,
   "metadata": {},
   "outputs": [],
   "source": [
    "dna_seq = []\n",
    "for _ in range(5):\n",
    "    dna_seq.append(gen_seq(96))"
   ]
  },
  {
   "cell_type": "code",
   "execution_count": 26,
   "metadata": {},
   "outputs": [
    {
     "name": "stdout",
     "output_type": "stream",
     "text": [
      "The mean-square distance (of nucleic acid proportions) between\n",
      " ACGATACACTGAATGACAGCAGTCACTGACAGTAGTACGAGTAGTAGCAGAGAGTAATAAAGAATTAATATATGACACTACGAAAAAAATGCATCG\n",
      " and\n",
      " GCGAAGGCCGACGCCGACCTCCTCTGACTGTCGACCGTGGTAGGTGATTGCTGCTTCGGCATTTTCCATAGGCTATACGTTGCAGGCCCGCGCAGG\n",
      " is 0.335\n",
      "----------------------------------------------------------------------------------------------------\n",
      "The mean-square distance (of nucleic acid proportions) between\n",
      " ACGATACACTGAATGACAGCAGTCACTGACAGTAGTACGAGTAGTAGCAGAGAGTAATAAAGAATTAATATATGACACTACGAAAAAAATGCATCG\n",
      " and\n",
      " CTGAGGCATCAGAACACAGCATATGGGCTGACAGACAGGCGTATGACCCCGGATGAGATCGTTCTAGGCATACTCGTCCCACACTGCACCCATTGC\n",
      " is 0.2334\n",
      "----------------------------------------------------------------------------------------------------\n",
      "The mean-square distance (of nucleic acid proportions) between\n",
      " ACGATACACTGAATGACAGCAGTCACTGACAGTAGTACGAGTAGTAGCAGAGAGTAATAAAGAATTAATATATGACACTACGAAAAAAATGCATCG\n",
      " and\n",
      " TAAAGCTTTAGAAGATGTCGCACCCTGTGCTAAAGCTTCGGCTGCCAGTTCAAGTACTAGATGAAACCTGATTATAAGCCACGCACTAACGGATCA\n",
      " is 0.1559\n",
      "----------------------------------------------------------------------------------------------------\n",
      "The minimum distance was found for the sequence number 3\n"
     ]
    }
   ],
   "source": [
    "least = 99\n",
    "least_idx = 0\n",
    "for i in range(3):\n",
    "    s = DiscreteDistribution({'A':0.25,'T':0.25,'G':0.25,'C':0.25})\n",
    "    s.fit(dna_seq[i])\n",
    "    sample_params = np.array(list(s.parameters[0].values()))\n",
    "    distance = np.sqrt(np.sum((dna_params-sample_params)**2))\n",
    "    if distance < least:\n",
    "        least = distance\n",
    "        least_idx = i\n",
    "    print(f\"The mean-square distance (of nucleic acid proportions) between\\n {dna_data}\\n and\\n {dna_seq[i]}\\n is {round(distance,4)}\")\n",
    "    print(\"-\"*100)\n",
    "    \n",
    "print(f\"The minimum distance was found for the sequence number {least_idx+1}\")"
   ]
  },
  {
   "cell_type": "markdown",
   "metadata": {},
   "source": [
    "---\n",
    "\n",
    "## Gaussian Mixture Models"
   ]
  },
  {
   "cell_type": "markdown",
   "metadata": {},
   "source": [
    "### Data"
   ]
  },
  {
   "cell_type": "code",
   "execution_count": 27,
   "metadata": {},
   "outputs": [
    {
     "data": {
      "image/png": "[encoded data removed]",
      "text/plain": [
       "<Figure size 432x288 with 1 Axes>"
      ]
     },
     "metadata": {
      "needs_background": "light"
     },
     "output_type": "display_data"
    }
   ],
   "source": [
    "X = numpy.concatenate([numpy.random.normal((8, 2), 1, size=(200, 2)),\n",
    "                       numpy.random.normal((2, 1), 1, size=(150, 2)),\n",
    "                       numpy.random.normal((4, 6), 1, size=(100, 2))])\n",
    "\n",
    "plt.scatter(X[:,0], X[:,1], color='blue',alpha=0.7,edgecolor='k')\n",
    "plt.show()"
   ]
  },
  {
   "cell_type": "markdown",
   "metadata": {},
   "source": [
    "### Model directly from the data"
   ]
  },
  {
   "cell_type": "code",
   "execution_count": 28,
   "metadata": {},
   "outputs": [],
   "source": [
    "gmm = GeneralMixtureModel.from_samples(MultivariateGaussianDistribution, 3, X)"
   ]
  },
  {
   "cell_type": "code",
   "execution_count": 29,
   "metadata": {},
   "outputs": [
    {
     "name": "stdout",
     "output_type": "stream",
     "text": [
      "[8.162352837131197, 1.8863014822295276]\n",
      "[4.0166748117763404, 6.101161649975762]\n",
      "[2.088473252570433, 1.0100230642239891]\n"
     ]
    }
   ],
   "source": [
    "for d in gmm.distributions:\n",
    "    print(d.parameters[0])"
   ]
  },
  {
   "cell_type": "markdown",
   "metadata": {},
   "source": [
    "### Probability densities"
   ]
  },
  {
   "cell_type": "code",
   "execution_count": 30,
   "metadata": {},
   "outputs": [
    {
     "data": {
      "image/png": "[encoded data removed]",
      "text/plain": [
       "<Figure size 1008x432 with 2 Axes>"
      ]
     },
     "metadata": {
      "needs_background": "light"
     },
     "output_type": "display_data"
    }
   ],
   "source": [
    "x = numpy.arange(-1, 10.1, .1)\n",
    "y = numpy.arange(-1, 10.1, .1)\n",
    "\n",
    "xx, yy = numpy.meshgrid(x, y)\n",
    "x_ = numpy.array(list(zip(xx.flatten(), yy.flatten())))\n",
    "\n",
    "p1 = MultivariateGaussianDistribution.from_samples(X).probability(x_).reshape(len(x), len(y))\n",
    "p2 = gmm.probability(x_).reshape(len(x), len(y))\n",
    "\n",
    "\n",
    "plt.figure(figsize=(14, 6))\n",
    "plt.subplot(121)\n",
    "plt.contourf(xx, yy, p1, cmap='plasma', alpha=0.8)\n",
    "plt.scatter(X[:,0], X[:,1],color='blue',alpha=0.7,edgecolor='k')\n",
    "\n",
    "plt.subplot(122)\n",
    "plt.contourf(xx, yy, p2, cmap='plasma', alpha=0.8)\n",
    "plt.scatter(X[:,0], X[:,1],color='blue',alpha=0.7,edgecolor='k')\n",
    "plt.show()"
   ]
  },
  {
   "cell_type": "markdown",
   "metadata": {},
   "source": [
    "## Markov chain"
   ]
  },
  {
   "cell_type": "code",
   "execution_count": 31,
   "metadata": {},
   "outputs": [],
   "source": [
    "transition_table = [['Rainy', 'Sunny', 0.10],\n",
    "                                ['Rainy', 'Cloudy', 0.70],\n",
    "                                ['Rainy', 'Rainy', 0.20],\n",
    "                                ['Sunny', 'Sunny', 0.40],\n",
    "                                ['Sunny', 'Cloudy', 0.40],\n",
    "                                ['Sunny', 'Rainy', 0.20],\n",
    "                                ['Cloudy', 'Cloudy', 0.40],\n",
    "                                ['Cloudy', 'Rainy', 0.30],\n",
    "                                ['Cloudy', 'Sunny', 0.20]]"
   ]
  },
  {
   "cell_type": "code",
   "execution_count": 32,
   "metadata": {},
   "outputs": [],
   "source": [
    "d1 = DiscreteDistribution({'Rainy': 0.20, 'Sunny': 0.50, 'Cloudy': 0.30})\n",
    "d2 = ConditionalProbabilityTable(transition_table, [d1])\n",
    "\n",
    "mc = MarkovChain([d1,d2])"
   ]
  },
  {
   "cell_type": "code",
   "execution_count": 33,
   "metadata": {},
   "outputs": [],
   "source": [
    "from tabulate import tabulate"
   ]
  },
  {
   "cell_type": "code",
   "execution_count": 34,
   "metadata": {},
   "outputs": [],
   "source": [
    "t=tabulate(transition_table)"
   ]
  },
  {
   "cell_type": "code",
   "execution_count": 35,
   "metadata": {},
   "outputs": [
    {
     "name": "stdout",
     "output_type": "stream",
     "text": [
      "------  ------  ---\n",
      "Rainy   Sunny   0.1\n",
      "Rainy   Cloudy  0.7\n",
      "Rainy   Rainy   0.2\n",
      "Sunny   Sunny   0.4\n",
      "Sunny   Cloudy  0.4\n",
      "Sunny   Rainy   0.2\n",
      "Cloudy  Cloudy  0.4\n",
      "Cloudy  Rainy   0.3\n",
      "Cloudy  Sunny   0.2\n",
      "------  ------  ---\n"
     ]
    }
   ],
   "source": [
    "print(t)"
   ]
  },
  {
   "cell_type": "code",
   "execution_count": 36,
   "metadata": {},
   "outputs": [
    {
     "data": {
      "text/plain": [
       "-2.7646205525906047"
      ]
     },
     "execution_count": 36,
     "metadata": {},
     "output_type": "execute_result"
    }
   ],
   "source": [
    "mc.log_probability(['Cloudy','Rainy','Cloudy'])"
   ]
  },
  {
   "cell_type": "code",
   "execution_count": 37,
   "metadata": {},
   "outputs": [
    {
     "data": {
      "text/plain": [
       "-7.824046010856291"
      ]
     },
     "execution_count": 37,
     "metadata": {},
     "output_type": "execute_result"
    }
   ],
   "source": [
    "mc.log_probability(['Rainy','Sunny','Rainy','Sunny'])"
   ]
  },
  {
   "cell_type": "code",
   "execution_count": 38,
   "metadata": {},
   "outputs": [
    {
     "name": "stdout",
     "output_type": "stream",
     "text": [
      "Rainy\tSunny\t0.10000000000000002\n",
      "Rainy\tCloudy\t0.7\n",
      "Rainy\tRainy\t0.2\n",
      "Sunny\tSunny\t0.4\n",
      "Sunny\tCloudy\t0.4\n",
      "Sunny\tRainy\t0.2\n",
      "Cloudy\tCloudy\t0.4\n",
      "Cloudy\tRainy\t0.3\n",
      "Cloudy\tSunny\t0.2\n"
     ]
    }
   ],
   "source": [
    "print(mc.distributions[1])"
   ]
  },
  {
   "cell_type": "code",
   "execution_count": 52,
   "metadata": {},
   "outputs": [],
   "source": [
    "def gen_days(length=100):\n",
    "    from random import choices\n",
    "    seq = '-'.join(choices(['Sunny','Rainy','Cloudy'],k=length))\n",
    "    return seq"
   ]
  },
  {
   "cell_type": "code",
   "execution_count": 55,
   "metadata": {},
   "outputs": [
    {
     "name": "stdout",
     "output_type": "stream",
     "text": [
      "Rainy-Sunny-Rainy-Sunny-Rainy-Sunny-Rainy-Rainy-Sunny-Sunny-Sunny-Rainy-Sunny-Cloudy\n"
     ]
    }
   ],
   "source": [
    "mc_data = []\n",
    "for _ in range(1):\n",
    "    a = gen_days(14)\n",
    "    print(a)\n",
    "    b = a.split('-')\n",
    "    mc_data.append(b)"
   ]
  },
  {
   "cell_type": "code",
   "execution_count": 56,
   "metadata": {},
   "outputs": [],
   "source": [
    "mc.fit(mc_data)"
   ]
  },
  {
   "cell_type": "code",
   "execution_count": 57,
   "metadata": {},
   "outputs": [
    {
     "name": "stdout",
     "output_type": "stream",
     "text": [
      "Rainy\tSunny\t0.8333333333333334\n",
      "Rainy\tCloudy\t0.0\n",
      "Rainy\tRainy\t0.16666666666666669\n",
      "Sunny\tSunny\t0.2857142857142857\n",
      "Sunny\tCloudy\t0.14285714285714285\n",
      "Sunny\tRainy\t0.5714285714285714\n",
      "Cloudy\tCloudy\t0.3333333333333333\n",
      "Cloudy\tRainy\t0.3333333333333333\n",
      "Cloudy\tSunny\t0.3333333333333333\n"
     ]
    }
   ],
   "source": [
    "print(mc.distributions[1])"
   ]
  },
  {
   "cell_type": "code",
   "execution_count": 58,
   "metadata": {},
   "outputs": [],
   "source": [
    "mc_data = []\n",
    "for _ in range(1):\n",
    "    a = gen_days(3650)\n",
    "    b = a.split('-')\n",
    "    mc_data.append(b)"
   ]
  },
  {
   "cell_type": "code",
   "execution_count": 59,
   "metadata": {},
   "outputs": [
    {
     "name": "stdout",
     "output_type": "stream",
     "text": [
      "Rainy\tSunny\t0.3196457326892109\n",
      "Rainy\tCloudy\t0.3260869565217391\n",
      "Rainy\tRainy\t0.3542673107890499\n",
      "Sunny\tSunny\t0.33075601374570446\n",
      "Sunny\tCloudy\t0.3393470790378007\n",
      "Sunny\tRainy\t0.32989690721649484\n",
      "Cloudy\tCloudy\t0.3563958165728078\n",
      "Cloudy\tRainy\t0.336283185840708\n",
      "Cloudy\tSunny\t0.3073209975864843\n"
     ]
    }
   ],
   "source": [
    "mc.fit(mc_data)\n",
    "print(mc.distributions[1])"
   ]
  },
  {
   "cell_type": "markdown",
   "metadata": {},
   "source": [
    "## Hidden Markov Model (HMM)"
   ]
  },
  {
   "cell_type": "code",
   "execution_count": 43,
   "metadata": {},
   "outputs": [],
   "source": [
    "d1 = DiscreteDistribution({'Harry': 0.25, 'Ron': 0.25, \n",
    "                           'Hagrid': 0.25, 'Dumbledore': 0.25})\n",
    "d2 = DiscreteDistribution({'Harry': 0.4, 'Ron': 0.10, \n",
    "                           'Hagrid': 0.1, 'Dumbledore': 0.4})"
   ]
  },
  {
   "cell_type": "code",
   "execution_count": 44,
   "metadata": {},
   "outputs": [],
   "source": [
    "s1 = State(d1, name='uniform')\n",
    "s2 = State(d2, name='Harry-Dumbledore')"
   ]
  },
  {
   "cell_type": "code",
   "execution_count": 45,
   "metadata": {},
   "outputs": [],
   "source": [
    "hmm = HiddenMarkovModel()\n",
    "hmm.add_states(s1, s2)"
   ]
  },
  {
   "cell_type": "code",
   "execution_count": 46,
   "metadata": {},
   "outputs": [],
   "source": [
    "hmm.add_transition(hmm.start, s1, 0.5)\n",
    "hmm.add_transition(hmm.start, s2, 0.5)\n",
    "hmm.add_transition(s1, s1, 0.9)\n",
    "hmm.add_transition(s1, s2, 0.1)\n",
    "hmm.add_transition(s2, s1, 0.1)\n",
    "hmm.add_transition(s2, s2, 0.9)"
   ]
  },
  {
   "cell_type": "code",
   "execution_count": 47,
   "metadata": {},
   "outputs": [],
   "source": [
    "hmm.bake()"
   ]
  },
  {
   "cell_type": "code",
   "execution_count": 48,
   "metadata": {},
   "outputs": [],
   "source": [
    "seq = 'Harry-Hagrid-Ron-Hagrid-Ron-Harry-\\\n",
    "Dumbledore-Harry-Dumbledore-Ron-\\\n",
    "Harry-Dumbledore-Hagrid-Dumbledore-Harry-\\\n",
    "Ron-Hagrid-Hagrid-Harry-\\\n",
    "Dumbledore-Hagrid-Harry-Dumbledore-Harry-\\\n",
    "Dumbledore-Ron-Dumbledore-Hagrid'"
   ]
  },
  {
   "cell_type": "code",
   "execution_count": 49,
   "metadata": {},
   "outputs": [],
   "source": [
    "seq = list(seq.split('-'))"
   ]
  },
  {
   "cell_type": "code",
   "execution_count": 50,
   "metadata": {},
   "outputs": [],
   "source": [
    "hmm_predictions = hmm.predict(seq)"
   ]
  },
  {
   "cell_type": "code",
   "execution_count": 51,
   "metadata": {},
   "outputs": [
    {
     "name": "stdout",
     "output_type": "stream",
     "text": [
      "[1, 1, 1, 1, 1, 1, 1, 0, 0, 1, 1, 1, 1, 1, 1, 1, 1, 1, 1, 1, 1, 0, 0, 0, 0, 1, 1, 1]\n"
     ]
    }
   ],
   "source": [
    "print(hmm_predictions)"
   ]
  }
 ],
 "metadata": {
  "kernelspec": {
   "display_name": "Python 3",
   "language": "python",
   "name": "python3"
  },
  "language_info": {
   "codemirror_mode": {
    "name": "ipython",
    "version": 3
   },
   "file_extension": ".py",
   "mimetype": "text/x-python",
   "name": "python",
   "nbconvert_exporter": "python",
   "pygments_lexer": "ipython3",
   "version": "3.7.0"
  }
 },
 "nbformat": 4,
 "nbformat_minor": 4
}
