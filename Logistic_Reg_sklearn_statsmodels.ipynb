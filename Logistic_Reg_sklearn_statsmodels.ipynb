{
 "cells": [
  {
   "cell_type": "markdown",
   "metadata": {
    "colab_type": "text",
    "id": "2bvkQcUOvP5Q"
   },
   "source": [
    "# Logistic regression example\n",
    "### Prof. Nino Narido\n",
    "\n",
    "---\n",
    "\n",
    "This notebook demonstrates solving a logistic regression problem of predicting Hypothyrodism with **Scikit-learn** and **Statsmodels** libraries.\n",
    "\n",
    "The dataset is taken from UCI ML repository.\n",
    "<br>Here is the link: https://archive.ics.uci.edu/ml/datasets/Thyroid+Disease"
   ]
  },
  {
   "cell_type": "code",
   "execution_count": null,
   "metadata": {
    "colab": {},
    "colab_type": "code",
    "id": "gBvhbvQ3vP5T"
   },
   "outputs": [],
   "source": [
    "import numpy as np\n",
    "import pandas as pd\n",
    "import matplotlib.pyplot as plt\n",
    "import seaborn as sns"
   ]
  },
  {
   "cell_type": "markdown",
   "metadata": {
    "colab_type": "text",
    "id": "caPnVuIWvP5a"
   },
   "source": [
    "### Read the dataset"
   ]
  },
  {
   "cell_type": "code",
   "execution_count": null,
   "metadata": {
    "colab": {},
    "colab_type": "code",
    "id": "UBqpn2sFvP5b"
   },
   "outputs": [],
   "source": [
    "names = 'response age sex on_thyroxine query_on_thyroxine antithyroid_medication thyroid_surgery query_hypothyroid query_hyperthyroid pregnant \\\n",
    "sick tumor lithium goitre TSH_measured TSH T3_measured \\\n",
    "T3 TT4_measured TT4 T4U_measured T4U FTI_measured FTI TBG_measured TBG'"
   ]
  },
  {
   "cell_type": "code",
   "execution_count": null,
   "metadata": {
    "colab": {},
    "colab_type": "code",
    "id": "KU4-8YGYvP5f"
   },
   "outputs": [],
   "source": [
    "names = names.split(' ')"
   ]
  },
  {
   "cell_type": "code",
   "execution_count": null,
   "metadata": {
    "colab": {
     "base_uri": "https://localhost:8080/",
     "height": 210
    },
    "colab_type": "code",
    "executionInfo": {
     "elapsed": 4544,
     "status": "ok",
     "timestamp": 1567214189473,
     "user": {
      "displayName": "Tirthajyoti Sarkar",
      "photoUrl": "https://lh3.googleusercontent.com/a-/AAuE7mD6d7dlMqdpzL4sermIF1ujmpSRxY2WnE4tuB-UsQ=s64",
      "userId": "01914075970409030121"
     },
     "user_tz": 420
    },
    "id": "qSTybVWUwsKq",
    "outputId": "4993f504-2eb9-47e3-dcd1-096ee4d9339c"
   },
   "outputs": [
    {
     "name": "stdout",
     "output_type": "stream",
     "text": [
      "--2019-08-31 01:16:23--  https://raw.githubusercontent.com/tirthajyoti/Machine-Learning-with-Python/master/Datasets/hypothyroid.csv\n",
      "Resolving raw.githubusercontent.com (raw.githubusercontent.com)... 151.101.0.133, 151.101.64.133, 151.101.128.133, ...\n",
      "Connecting to raw.githubusercontent.com (raw.githubusercontent.com)|151.101.0.133|:443... connected.\n",
      "HTTP request sent, awaiting response... 200 OK\n",
      "Length: 218406 (213K) [text/plain]\n",
      "Saving to: ‘hypothyroid.csv’\n",
      "\n",
      "hypothyroid.csv     100%[===================>] 213.29K  --.-KB/s    in 0.05s   \n",
      "\n",
      "2019-08-31 01:16:23 (4.23 MB/s) - ‘hypothyroid.csv’ saved [218406/218406]\n",
      "\n"
     ]
    }
   ],
   "source": [
    "!wget https://raw.githubusercontent.com/tirthajyoti/Machine-Learning-with-Python/master/Datasets/hypothyroid.csv\n",
    "! rm -rf Data/\n",
    "!mkdir Data\n",
    "!mv hypothyroid.csv Data/"
   ]
  },
  {
   "cell_type": "code",
   "execution_count": null,
   "metadata": {
    "colab": {},
    "colab_type": "code",
    "id": "hQxY_7FHvP5i"
   },
   "outputs": [],
   "source": [
    "df = pd.read_csv('Data/hypothyroid.csv',index_col=False,names=names,na_values=['?'])"
   ]
  },
  {
   "cell_type": "code",
   "execution_count": null,
   "metadata": {
    "colab": {
     "base_uri": "https://localhost:8080/",
     "height": 215
    },
    "colab_type": "code",
    "executionInfo": {
     "elapsed": 260,
     "status": "ok",
     "timestamp": 1567214205482,
     "user": {
      "displayName": "Tirthajyoti Sarkar",
      "photoUrl": "https://lh3.googleusercontent.com/a-/AAuE7mD6d7dlMqdpzL4sermIF1ujmpSRxY2WnE4tuB-UsQ=s64",
      "userId": "01914075970409030121"
     },
     "user_tz": 420
    },
    "id": "IIG7QEoOvP5l",
    "outputId": "ebd8e7fe-63d5-48d4-c85e-ae7538972128"
   },
   "outputs": [
    {
     "data": {
      "text/html": [
       "<div>\n",
       "<style scoped>\n",
       "    .dataframe tbody tr th:only-of-type {\n",
       "        vertical-align: middle;\n",
       "    }\n",
       "\n",
       "    .dataframe tbody tr th {\n",
       "        vertical-align: top;\n",
       "    }\n",
       "\n",
       "    .dataframe thead th {\n",
       "        text-align: right;\n",
       "    }\n",
       "</style>\n",
       "<table border=\"1\" class=\"dataframe\">\n",
       "  <thead>\n",
       "    <tr style=\"text-align: right;\">\n",
       "      <th></th>\n",
       "      <th>response</th>\n",
       "      <th>age</th>\n",
       "      <th>sex</th>\n",
       "      <th>on_thyroxine</th>\n",
       "      <th>query_on_thyroxine</th>\n",
       "      <th>antithyroid_medication</th>\n",
       "      <th>thyroid_surgery</th>\n",
       "      <th>query_hypothyroid</th>\n",
       "      <th>query_hyperthyroid</th>\n",
       "      <th>pregnant</th>\n",
       "      <th>sick</th>\n",
       "      <th>tumor</th>\n",
       "      <th>lithium</th>\n",
       "      <th>goitre</th>\n",
       "      <th>TSH_measured</th>\n",
       "      <th>TSH</th>\n",
       "      <th>T3_measured</th>\n",
       "      <th>T3</th>\n",
       "      <th>TT4_measured</th>\n",
       "      <th>TT4</th>\n",
       "      <th>T4U_measured</th>\n",
       "      <th>T4U</th>\n",
       "      <th>FTI_measured</th>\n",
       "      <th>FTI</th>\n",
       "      <th>TBG_measured</th>\n",
       "      <th>TBG</th>\n",
       "    </tr>\n",
       "  </thead>\n",
       "  <tbody>\n",
       "    <tr>\n",
       "      <th>0</th>\n",
       "      <td>hypothyroid</td>\n",
       "      <td>72.0</td>\n",
       "      <td>M</td>\n",
       "      <td>f</td>\n",
       "      <td>f</td>\n",
       "      <td>f</td>\n",
       "      <td>f</td>\n",
       "      <td>f</td>\n",
       "      <td>f</td>\n",
       "      <td>f</td>\n",
       "      <td>f</td>\n",
       "      <td>f</td>\n",
       "      <td>f</td>\n",
       "      <td>f</td>\n",
       "      <td>y</td>\n",
       "      <td>30.0</td>\n",
       "      <td>y</td>\n",
       "      <td>0.6</td>\n",
       "      <td>y</td>\n",
       "      <td>15.0</td>\n",
       "      <td>y</td>\n",
       "      <td>1.48</td>\n",
       "      <td>y</td>\n",
       "      <td>10.0</td>\n",
       "      <td>n</td>\n",
       "      <td>NaN</td>\n",
       "    </tr>\n",
       "    <tr>\n",
       "      <th>1</th>\n",
       "      <td>hypothyroid</td>\n",
       "      <td>15.0</td>\n",
       "      <td>F</td>\n",
       "      <td>t</td>\n",
       "      <td>f</td>\n",
       "      <td>f</td>\n",
       "      <td>f</td>\n",
       "      <td>f</td>\n",
       "      <td>f</td>\n",
       "      <td>f</td>\n",
       "      <td>f</td>\n",
       "      <td>f</td>\n",
       "      <td>f</td>\n",
       "      <td>f</td>\n",
       "      <td>y</td>\n",
       "      <td>145.0</td>\n",
       "      <td>y</td>\n",
       "      <td>1.7</td>\n",
       "      <td>y</td>\n",
       "      <td>19.0</td>\n",
       "      <td>y</td>\n",
       "      <td>1.13</td>\n",
       "      <td>y</td>\n",
       "      <td>17.0</td>\n",
       "      <td>n</td>\n",
       "      <td>NaN</td>\n",
       "    </tr>\n",
       "    <tr>\n",
       "      <th>2</th>\n",
       "      <td>hypothyroid</td>\n",
       "      <td>24.0</td>\n",
       "      <td>M</td>\n",
       "      <td>f</td>\n",
       "      <td>f</td>\n",
       "      <td>f</td>\n",
       "      <td>f</td>\n",
       "      <td>f</td>\n",
       "      <td>f</td>\n",
       "      <td>f</td>\n",
       "      <td>f</td>\n",
       "      <td>f</td>\n",
       "      <td>f</td>\n",
       "      <td>f</td>\n",
       "      <td>y</td>\n",
       "      <td>0.0</td>\n",
       "      <td>y</td>\n",
       "      <td>0.2</td>\n",
       "      <td>y</td>\n",
       "      <td>4.0</td>\n",
       "      <td>y</td>\n",
       "      <td>1.00</td>\n",
       "      <td>y</td>\n",
       "      <td>0.0</td>\n",
       "      <td>n</td>\n",
       "      <td>NaN</td>\n",
       "    </tr>\n",
       "    <tr>\n",
       "      <th>3</th>\n",
       "      <td>hypothyroid</td>\n",
       "      <td>24.0</td>\n",
       "      <td>F</td>\n",
       "      <td>f</td>\n",
       "      <td>f</td>\n",
       "      <td>f</td>\n",
       "      <td>f</td>\n",
       "      <td>f</td>\n",
       "      <td>f</td>\n",
       "      <td>f</td>\n",
       "      <td>f</td>\n",
       "      <td>f</td>\n",
       "      <td>f</td>\n",
       "      <td>f</td>\n",
       "      <td>y</td>\n",
       "      <td>430.0</td>\n",
       "      <td>y</td>\n",
       "      <td>0.4</td>\n",
       "      <td>y</td>\n",
       "      <td>6.0</td>\n",
       "      <td>y</td>\n",
       "      <td>1.04</td>\n",
       "      <td>y</td>\n",
       "      <td>6.0</td>\n",
       "      <td>n</td>\n",
       "      <td>NaN</td>\n",
       "    </tr>\n",
       "    <tr>\n",
       "      <th>4</th>\n",
       "      <td>hypothyroid</td>\n",
       "      <td>77.0</td>\n",
       "      <td>M</td>\n",
       "      <td>f</td>\n",
       "      <td>f</td>\n",
       "      <td>f</td>\n",
       "      <td>f</td>\n",
       "      <td>f</td>\n",
       "      <td>f</td>\n",
       "      <td>f</td>\n",
       "      <td>f</td>\n",
       "      <td>f</td>\n",
       "      <td>f</td>\n",
       "      <td>f</td>\n",
       "      <td>y</td>\n",
       "      <td>7.3</td>\n",
       "      <td>y</td>\n",
       "      <td>1.2</td>\n",
       "      <td>y</td>\n",
       "      <td>57.0</td>\n",
       "      <td>y</td>\n",
       "      <td>1.28</td>\n",
       "      <td>y</td>\n",
       "      <td>44.0</td>\n",
       "      <td>n</td>\n",
       "      <td>NaN</td>\n",
       "    </tr>\n",
       "  </tbody>\n",
       "</table>\n",
       "</div>"
      ],
      "text/plain": [
       "      response   age sex on_thyroxine  ... FTI_measured   FTI TBG_measured TBG\n",
       "0  hypothyroid  72.0   M            f  ...            y  10.0            n NaN\n",
       "1  hypothyroid  15.0   F            t  ...            y  17.0            n NaN\n",
       "2  hypothyroid  24.0   M            f  ...            y   0.0            n NaN\n",
       "3  hypothyroid  24.0   F            f  ...            y   6.0            n NaN\n",
       "4  hypothyroid  77.0   M            f  ...            y  44.0            n NaN\n",
       "\n",
       "[5 rows x 26 columns]"
      ]
     },
     "execution_count": 6,
     "metadata": {
      "tags": []
     },
     "output_type": "execute_result"
    }
   ],
   "source": [
    "df.head()"
   ]
  },
  {
   "cell_type": "code",
   "execution_count": null,
   "metadata": {
    "colab": {},
    "colab_type": "code",
    "id": "PDof5gIovP5s"
   },
   "outputs": [],
   "source": [
    "to_drop=[]\n",
    "for c in df.columns:\n",
    "    if 'measured' in c or 'query' in c:\n",
    "        to_drop.append(c)"
   ]
  },
  {
   "cell_type": "code",
   "execution_count": null,
   "metadata": {
    "colab": {
     "base_uri": "https://localhost:8080/",
     "height": 175
    },
    "colab_type": "code",
    "executionInfo": {
     "elapsed": 222,
     "status": "ok",
     "timestamp": 1567214206776,
     "user": {
      "displayName": "Tirthajyoti Sarkar",
      "photoUrl": "https://lh3.googleusercontent.com/a-/AAuE7mD6d7dlMqdpzL4sermIF1ujmpSRxY2WnE4tuB-UsQ=s64",
      "userId": "01914075970409030121"
     },
     "user_tz": 420
    },
    "id": "xyXfEueTvP50",
    "outputId": "a7fbd313-b724-4e24-9b86-3bc815bca035"
   },
   "outputs": [
    {
     "data": {
      "text/plain": [
       "['query_on_thyroxine',\n",
       " 'query_hypothyroid',\n",
       " 'query_hyperthyroid',\n",
       " 'TSH_measured',\n",
       " 'T3_measured',\n",
       " 'TT4_measured',\n",
       " 'T4U_measured',\n",
       " 'FTI_measured',\n",
       " 'TBG_measured']"
      ]
     },
     "execution_count": 8,
     "metadata": {
      "tags": []
     },
     "output_type": "execute_result"
    }
   ],
   "source": [
    "to_drop"
   ]
  },
  {
   "cell_type": "code",
   "execution_count": null,
   "metadata": {
    "colab": {},
    "colab_type": "code",
    "id": "VZ0DHD8_vP54"
   },
   "outputs": [],
   "source": [
    "to_drop.append('TBG')"
   ]
  },
  {
   "cell_type": "code",
   "execution_count": null,
   "metadata": {
    "colab": {},
    "colab_type": "code",
    "id": "HHWwfBR-vP59"
   },
   "outputs": [],
   "source": [
    "df.drop(to_drop,axis=1,inplace=True)"
   ]
  },
  {
   "cell_type": "code",
   "execution_count": null,
   "metadata": {
    "colab": {
     "base_uri": "https://localhost:8080/",
     "height": 195
    },
    "colab_type": "code",
    "executionInfo": {
     "elapsed": 441,
     "status": "ok",
     "timestamp": 1567214208125,
     "user": {
      "displayName": "Tirthajyoti Sarkar",
      "photoUrl": "https://lh3.googleusercontent.com/a-/AAuE7mD6d7dlMqdpzL4sermIF1ujmpSRxY2WnE4tuB-UsQ=s64",
      "userId": "01914075970409030121"
     },
     "user_tz": 420
    },
    "id": "2iFMV-9TvP6C",
    "outputId": "32cc9c93-b6ae-4cd6-85ca-d0c4e9889233"
   },
   "outputs": [
    {
     "data": {
      "text/html": [
       "<div>\n",
       "<style scoped>\n",
       "    .dataframe tbody tr th:only-of-type {\n",
       "        vertical-align: middle;\n",
       "    }\n",
       "\n",
       "    .dataframe tbody tr th {\n",
       "        vertical-align: top;\n",
       "    }\n",
       "\n",
       "    .dataframe thead th {\n",
       "        text-align: right;\n",
       "    }\n",
       "</style>\n",
       "<table border=\"1\" class=\"dataframe\">\n",
       "  <thead>\n",
       "    <tr style=\"text-align: right;\">\n",
       "      <th></th>\n",
       "      <th>response</th>\n",
       "      <th>age</th>\n",
       "      <th>sex</th>\n",
       "      <th>on_thyroxine</th>\n",
       "      <th>antithyroid_medication</th>\n",
       "      <th>thyroid_surgery</th>\n",
       "      <th>pregnant</th>\n",
       "      <th>sick</th>\n",
       "      <th>tumor</th>\n",
       "      <th>lithium</th>\n",
       "      <th>goitre</th>\n",
       "      <th>TSH</th>\n",
       "      <th>T3</th>\n",
       "      <th>TT4</th>\n",
       "      <th>T4U</th>\n",
       "      <th>FTI</th>\n",
       "    </tr>\n",
       "  </thead>\n",
       "  <tbody>\n",
       "    <tr>\n",
       "      <th>0</th>\n",
       "      <td>hypothyroid</td>\n",
       "      <td>72.0</td>\n",
       "      <td>M</td>\n",
       "      <td>f</td>\n",
       "      <td>f</td>\n",
       "      <td>f</td>\n",
       "      <td>f</td>\n",
       "      <td>f</td>\n",
       "      <td>f</td>\n",
       "      <td>f</td>\n",
       "      <td>f</td>\n",
       "      <td>30.0</td>\n",
       "      <td>0.6</td>\n",
       "      <td>15.0</td>\n",
       "      <td>1.48</td>\n",
       "      <td>10.0</td>\n",
       "    </tr>\n",
       "    <tr>\n",
       "      <th>1</th>\n",
       "      <td>hypothyroid</td>\n",
       "      <td>15.0</td>\n",
       "      <td>F</td>\n",
       "      <td>t</td>\n",
       "      <td>f</td>\n",
       "      <td>f</td>\n",
       "      <td>f</td>\n",
       "      <td>f</td>\n",
       "      <td>f</td>\n",
       "      <td>f</td>\n",
       "      <td>f</td>\n",
       "      <td>145.0</td>\n",
       "      <td>1.7</td>\n",
       "      <td>19.0</td>\n",
       "      <td>1.13</td>\n",
       "      <td>17.0</td>\n",
       "    </tr>\n",
       "    <tr>\n",
       "      <th>2</th>\n",
       "      <td>hypothyroid</td>\n",
       "      <td>24.0</td>\n",
       "      <td>M</td>\n",
       "      <td>f</td>\n",
       "      <td>f</td>\n",
       "      <td>f</td>\n",
       "      <td>f</td>\n",
       "      <td>f</td>\n",
       "      <td>f</td>\n",
       "      <td>f</td>\n",
       "      <td>f</td>\n",
       "      <td>0.0</td>\n",
       "      <td>0.2</td>\n",
       "      <td>4.0</td>\n",
       "      <td>1.00</td>\n",
       "      <td>0.0</td>\n",
       "    </tr>\n",
       "    <tr>\n",
       "      <th>3</th>\n",
       "      <td>hypothyroid</td>\n",
       "      <td>24.0</td>\n",
       "      <td>F</td>\n",
       "      <td>f</td>\n",
       "      <td>f</td>\n",
       "      <td>f</td>\n",
       "      <td>f</td>\n",
       "      <td>f</td>\n",
       "      <td>f</td>\n",
       "      <td>f</td>\n",
       "      <td>f</td>\n",
       "      <td>430.0</td>\n",
       "      <td>0.4</td>\n",
       "      <td>6.0</td>\n",
       "      <td>1.04</td>\n",
       "      <td>6.0</td>\n",
       "    </tr>\n",
       "    <tr>\n",
       "      <th>4</th>\n",
       "      <td>hypothyroid</td>\n",
       "      <td>77.0</td>\n",
       "      <td>M</td>\n",
       "      <td>f</td>\n",
       "      <td>f</td>\n",
       "      <td>f</td>\n",
       "      <td>f</td>\n",
       "      <td>f</td>\n",
       "      <td>f</td>\n",
       "      <td>f</td>\n",
       "      <td>f</td>\n",
       "      <td>7.3</td>\n",
       "      <td>1.2</td>\n",
       "      <td>57.0</td>\n",
       "      <td>1.28</td>\n",
       "      <td>44.0</td>\n",
       "    </tr>\n",
       "  </tbody>\n",
       "</table>\n",
       "</div>"
      ],
      "text/plain": [
       "      response   age sex on_thyroxine  ...   T3   TT4   T4U   FTI\n",
       "0  hypothyroid  72.0   M            f  ...  0.6  15.0  1.48  10.0\n",
       "1  hypothyroid  15.0   F            t  ...  1.7  19.0  1.13  17.0\n",
       "2  hypothyroid  24.0   M            f  ...  0.2   4.0  1.00   0.0\n",
       "3  hypothyroid  24.0   F            f  ...  0.4   6.0  1.04   6.0\n",
       "4  hypothyroid  77.0   M            f  ...  1.2  57.0  1.28  44.0\n",
       "\n",
       "[5 rows x 16 columns]"
      ]
     },
     "execution_count": 11,
     "metadata": {
      "tags": []
     },
     "output_type": "execute_result"
    }
   ],
   "source": [
    "df.head()"
   ]
  },
  {
   "cell_type": "markdown",
   "metadata": {
    "colab_type": "text",
    "id": "ALZwMuCpvP6J"
   },
   "source": [
    "### Let us see the basic statistics on the dataset"
   ]
  },
  {
   "cell_type": "code",
   "execution_count": null,
   "metadata": {
    "colab": {
     "base_uri": "https://localhost:8080/",
     "height": 225
    },
    "colab_type": "code",
    "executionInfo": {
     "elapsed": 301,
     "status": "ok",
     "timestamp": 1567214208755,
     "user": {
      "displayName": "Tirthajyoti Sarkar",
      "photoUrl": "https://lh3.googleusercontent.com/a-/AAuE7mD6d7dlMqdpzL4sermIF1ujmpSRxY2WnE4tuB-UsQ=s64",
      "userId": "01914075970409030121"
     },
     "user_tz": 420
    },
    "id": "4aXISwuJvP6K",
    "outputId": "a600a964-af89-45f2-b8aa-5fcbed933060"
   },
   "outputs": [
    {
     "data": {
      "text/html": [
       "<div>\n",
       "<style scoped>\n",
       "    .dataframe tbody tr th:only-of-type {\n",
       "        vertical-align: middle;\n",
       "    }\n",
       "\n",
       "    .dataframe tbody tr th {\n",
       "        vertical-align: top;\n",
       "    }\n",
       "\n",
       "    .dataframe thead th {\n",
       "        text-align: right;\n",
       "    }\n",
       "</style>\n",
       "<table border=\"1\" class=\"dataframe\">\n",
       "  <thead>\n",
       "    <tr style=\"text-align: right;\">\n",
       "      <th></th>\n",
       "      <th>count</th>\n",
       "      <th>mean</th>\n",
       "      <th>std</th>\n",
       "      <th>min</th>\n",
       "      <th>25%</th>\n",
       "      <th>50%</th>\n",
       "      <th>75%</th>\n",
       "      <th>max</th>\n",
       "    </tr>\n",
       "  </thead>\n",
       "  <tbody>\n",
       "    <tr>\n",
       "      <th>age</th>\n",
       "      <td>2717.0</td>\n",
       "      <td>51.154214</td>\n",
       "      <td>19.294405</td>\n",
       "      <td>1.0</td>\n",
       "      <td>35.00</td>\n",
       "      <td>54.00</td>\n",
       "      <td>67.000</td>\n",
       "      <td>98.00</td>\n",
       "    </tr>\n",
       "    <tr>\n",
       "      <th>TSH</th>\n",
       "      <td>2695.0</td>\n",
       "      <td>5.923180</td>\n",
       "      <td>23.899467</td>\n",
       "      <td>0.0</td>\n",
       "      <td>0.00</td>\n",
       "      <td>0.70</td>\n",
       "      <td>2.300</td>\n",
       "      <td>530.00</td>\n",
       "    </tr>\n",
       "    <tr>\n",
       "      <th>T3</th>\n",
       "      <td>2468.0</td>\n",
       "      <td>1.939749</td>\n",
       "      <td>0.996773</td>\n",
       "      <td>0.0</td>\n",
       "      <td>1.40</td>\n",
       "      <td>1.80</td>\n",
       "      <td>2.300</td>\n",
       "      <td>10.20</td>\n",
       "    </tr>\n",
       "    <tr>\n",
       "      <th>TT4</th>\n",
       "      <td>2914.0</td>\n",
       "      <td>108.850000</td>\n",
       "      <td>45.485419</td>\n",
       "      <td>2.0</td>\n",
       "      <td>83.00</td>\n",
       "      <td>104.00</td>\n",
       "      <td>128.000</td>\n",
       "      <td>450.00</td>\n",
       "    </tr>\n",
       "    <tr>\n",
       "      <th>T4U</th>\n",
       "      <td>2915.0</td>\n",
       "      <td>0.978199</td>\n",
       "      <td>0.226580</td>\n",
       "      <td>0.0</td>\n",
       "      <td>0.85</td>\n",
       "      <td>0.96</td>\n",
       "      <td>1.065</td>\n",
       "      <td>2.21</td>\n",
       "    </tr>\n",
       "    <tr>\n",
       "      <th>FTI</th>\n",
       "      <td>2916.0</td>\n",
       "      <td>115.397771</td>\n",
       "      <td>60.239572</td>\n",
       "      <td>0.0</td>\n",
       "      <td>91.00</td>\n",
       "      <td>107.00</td>\n",
       "      <td>129.000</td>\n",
       "      <td>881.00</td>\n",
       "    </tr>\n",
       "  </tbody>\n",
       "</table>\n",
       "</div>"
      ],
      "text/plain": [
       "      count        mean        std  min    25%     50%      75%     max\n",
       "age  2717.0   51.154214  19.294405  1.0  35.00   54.00   67.000   98.00\n",
       "TSH  2695.0    5.923180  23.899467  0.0   0.00    0.70    2.300  530.00\n",
       "T3   2468.0    1.939749   0.996773  0.0   1.40    1.80    2.300   10.20\n",
       "TT4  2914.0  108.850000  45.485419  2.0  83.00  104.00  128.000  450.00\n",
       "T4U  2915.0    0.978199   0.226580  0.0   0.85    0.96    1.065    2.21\n",
       "FTI  2916.0  115.397771  60.239572  0.0  91.00  107.00  129.000  881.00"
      ]
     },
     "execution_count": 12,
     "metadata": {
      "tags": []
     },
     "output_type": "execute_result"
    }
   ],
   "source": [
    "df.describe().T"
   ]
  },
  {
   "cell_type": "markdown",
   "metadata": {
    "colab_type": "text",
    "id": "bGTF9UDpvP6U"
   },
   "source": [
    "### Are any data points are missing? We can check it using `df.isna()` method\n",
    "The `df.isna()` method gives back a full DataFrame with Boolean values - True for data present, False for missing data. We can use `sum()` on that DataFrame to see and calculate the number of missing values per column."
   ]
  },
  {
   "cell_type": "code",
   "execution_count": null,
   "metadata": {
    "colab": {
     "base_uri": "https://localhost:8080/",
     "height": 316
    },
    "colab_type": "code",
    "executionInfo": {
     "elapsed": 351,
     "status": "ok",
     "timestamp": 1567214209934,
     "user": {
      "displayName": "Tirthajyoti Sarkar",
      "photoUrl": "https://lh3.googleusercontent.com/a-/AAuE7mD6d7dlMqdpzL4sermIF1ujmpSRxY2WnE4tuB-UsQ=s64",
      "userId": "01914075970409030121"
     },
     "user_tz": 420
    },
    "id": "WKbQCqf_vP6X",
    "outputId": "74101b92-c2c9-42f8-9730-ccc590e8962f"
   },
   "outputs": [
    {
     "data": {
      "text/plain": [
       "response                    0\n",
       "age                       446\n",
       "sex                        73\n",
       "on_thyroxine                0\n",
       "antithyroid_medication      0\n",
       "thyroid_surgery             0\n",
       "pregnant                    0\n",
       "sick                        0\n",
       "tumor                       0\n",
       "lithium                     0\n",
       "goitre                      0\n",
       "TSH                       468\n",
       "T3                        695\n",
       "TT4                       249\n",
       "T4U                       248\n",
       "FTI                       247\n",
       "dtype: int64"
      ]
     },
     "execution_count": 13,
     "metadata": {
      "tags": []
     },
     "output_type": "execute_result"
    }
   ],
   "source": [
    "df.isna().sum()"
   ]
  },
  {
   "cell_type": "markdown",
   "metadata": {
    "colab_type": "text",
    "id": "tNhUJwc4vP6b"
   },
   "source": [
    "### We can use `df.dropna()` method to drop those missing rows"
   ]
  },
  {
   "cell_type": "code",
   "execution_count": null,
   "metadata": {
    "colab": {},
    "colab_type": "code",
    "id": "0TK5dwbGvP6c"
   },
   "outputs": [],
   "source": [
    "df.dropna(inplace=True)"
   ]
  },
  {
   "cell_type": "code",
   "execution_count": null,
   "metadata": {
    "colab": {
     "base_uri": "https://localhost:8080/",
     "height": 34
    },
    "colab_type": "code",
    "executionInfo": {
     "elapsed": 282,
     "status": "ok",
     "timestamp": 1567214211249,
     "user": {
      "displayName": "Tirthajyoti Sarkar",
      "photoUrl": "https://lh3.googleusercontent.com/a-/AAuE7mD6d7dlMqdpzL4sermIF1ujmpSRxY2WnE4tuB-UsQ=s64",
      "userId": "01914075970409030121"
     },
     "user_tz": 420
    },
    "id": "YIQLA-SDvP6f",
    "outputId": "9df571b8-790c-4a61-92b0-34c953206cfb"
   },
   "outputs": [
    {
     "data": {
      "text/plain": [
       "(2000, 16)"
      ]
     },
     "execution_count": 15,
     "metadata": {
      "tags": []
     },
     "output_type": "execute_result"
    }
   ],
   "source": [
    "df.shape"
   ]
  },
  {
   "cell_type": "markdown",
   "metadata": {
    "colab_type": "text",
    "id": "KjqJoWCYvP6i"
   },
   "source": [
    "### Creating a transformation function to convert `+` or `-` responses to 1 and 0"
   ]
  },
  {
   "cell_type": "code",
   "execution_count": null,
   "metadata": {
    "colab": {},
    "colab_type": "code",
    "id": "prRGSuntvP6k"
   },
   "outputs": [],
   "source": [
    "def class_convert(response):\n",
    "    if response=='hypothyroid':\n",
    "        return 1\n",
    "    else:\n",
    "        return 0"
   ]
  },
  {
   "cell_type": "code",
   "execution_count": null,
   "metadata": {
    "colab": {},
    "colab_type": "code",
    "id": "vhZRrgMCvP6s"
   },
   "outputs": [],
   "source": [
    "df['response']=df['response'].apply(class_convert)"
   ]
  },
  {
   "cell_type": "code",
   "execution_count": null,
   "metadata": {
    "colab": {
     "base_uri": "https://localhost:8080/",
     "height": 195
    },
    "colab_type": "code",
    "executionInfo": {
     "elapsed": 310,
     "status": "ok",
     "timestamp": 1567214213372,
     "user": {
      "displayName": "Tirthajyoti Sarkar",
      "photoUrl": "https://lh3.googleusercontent.com/a-/AAuE7mD6d7dlMqdpzL4sermIF1ujmpSRxY2WnE4tuB-UsQ=s64",
      "userId": "01914075970409030121"
     },
     "user_tz": 420
    },
    "id": "oMvub8wHvP6v",
    "outputId": "4c4edb6e-6289-4445-b719-f4b9b419079b"
   },
   "outputs": [
    {
     "data": {
      "text/html": [
       "<div>\n",
       "<style scoped>\n",
       "    .dataframe tbody tr th:only-of-type {\n",
       "        vertical-align: middle;\n",
       "    }\n",
       "\n",
       "    .dataframe tbody tr th {\n",
       "        vertical-align: top;\n",
       "    }\n",
       "\n",
       "    .dataframe thead th {\n",
       "        text-align: right;\n",
       "    }\n",
       "</style>\n",
       "<table border=\"1\" class=\"dataframe\">\n",
       "  <thead>\n",
       "    <tr style=\"text-align: right;\">\n",
       "      <th></th>\n",
       "      <th>response</th>\n",
       "      <th>age</th>\n",
       "      <th>sex</th>\n",
       "      <th>on_thyroxine</th>\n",
       "      <th>antithyroid_medication</th>\n",
       "      <th>thyroid_surgery</th>\n",
       "      <th>pregnant</th>\n",
       "      <th>sick</th>\n",
       "      <th>tumor</th>\n",
       "      <th>lithium</th>\n",
       "      <th>goitre</th>\n",
       "      <th>TSH</th>\n",
       "      <th>T3</th>\n",
       "      <th>TT4</th>\n",
       "      <th>T4U</th>\n",
       "      <th>FTI</th>\n",
       "    </tr>\n",
       "  </thead>\n",
       "  <tbody>\n",
       "    <tr>\n",
       "      <th>0</th>\n",
       "      <td>1</td>\n",
       "      <td>72.0</td>\n",
       "      <td>M</td>\n",
       "      <td>f</td>\n",
       "      <td>f</td>\n",
       "      <td>f</td>\n",
       "      <td>f</td>\n",
       "      <td>f</td>\n",
       "      <td>f</td>\n",
       "      <td>f</td>\n",
       "      <td>f</td>\n",
       "      <td>30.0</td>\n",
       "      <td>0.6</td>\n",
       "      <td>15.0</td>\n",
       "      <td>1.48</td>\n",
       "      <td>10.0</td>\n",
       "    </tr>\n",
       "    <tr>\n",
       "      <th>1</th>\n",
       "      <td>1</td>\n",
       "      <td>15.0</td>\n",
       "      <td>F</td>\n",
       "      <td>t</td>\n",
       "      <td>f</td>\n",
       "      <td>f</td>\n",
       "      <td>f</td>\n",
       "      <td>f</td>\n",
       "      <td>f</td>\n",
       "      <td>f</td>\n",
       "      <td>f</td>\n",
       "      <td>145.0</td>\n",
       "      <td>1.7</td>\n",
       "      <td>19.0</td>\n",
       "      <td>1.13</td>\n",
       "      <td>17.0</td>\n",
       "    </tr>\n",
       "    <tr>\n",
       "      <th>2</th>\n",
       "      <td>1</td>\n",
       "      <td>24.0</td>\n",
       "      <td>M</td>\n",
       "      <td>f</td>\n",
       "      <td>f</td>\n",
       "      <td>f</td>\n",
       "      <td>f</td>\n",
       "      <td>f</td>\n",
       "      <td>f</td>\n",
       "      <td>f</td>\n",
       "      <td>f</td>\n",
       "      <td>0.0</td>\n",
       "      <td>0.2</td>\n",
       "      <td>4.0</td>\n",
       "      <td>1.00</td>\n",
       "      <td>0.0</td>\n",
       "    </tr>\n",
       "    <tr>\n",
       "      <th>3</th>\n",
       "      <td>1</td>\n",
       "      <td>24.0</td>\n",
       "      <td>F</td>\n",
       "      <td>f</td>\n",
       "      <td>f</td>\n",
       "      <td>f</td>\n",
       "      <td>f</td>\n",
       "      <td>f</td>\n",
       "      <td>f</td>\n",
       "      <td>f</td>\n",
       "      <td>f</td>\n",
       "      <td>430.0</td>\n",
       "      <td>0.4</td>\n",
       "      <td>6.0</td>\n",
       "      <td>1.04</td>\n",
       "      <td>6.0</td>\n",
       "    </tr>\n",
       "    <tr>\n",
       "      <th>4</th>\n",
       "      <td>1</td>\n",
       "      <td>77.0</td>\n",
       "      <td>M</td>\n",
       "      <td>f</td>\n",
       "      <td>f</td>\n",
       "      <td>f</td>\n",
       "      <td>f</td>\n",
       "      <td>f</td>\n",
       "      <td>f</td>\n",
       "      <td>f</td>\n",
       "      <td>f</td>\n",
       "      <td>7.3</td>\n",
       "      <td>1.2</td>\n",
       "      <td>57.0</td>\n",
       "      <td>1.28</td>\n",
       "      <td>44.0</td>\n",
       "    </tr>\n",
       "  </tbody>\n",
       "</table>\n",
       "</div>"
      ],
      "text/plain": [
       "   response   age sex on_thyroxine  ...   T3   TT4   T4U   FTI\n",
       "0         1  72.0   M            f  ...  0.6  15.0  1.48  10.0\n",
       "1         1  15.0   F            t  ...  1.7  19.0  1.13  17.0\n",
       "2         1  24.0   M            f  ...  0.2   4.0  1.00   0.0\n",
       "3         1  24.0   F            f  ...  0.4   6.0  1.04   6.0\n",
       "4         1  77.0   M            f  ...  1.2  57.0  1.28  44.0\n",
       "\n",
       "[5 rows x 16 columns]"
      ]
     },
     "execution_count": 18,
     "metadata": {
      "tags": []
     },
     "output_type": "execute_result"
    }
   ],
   "source": [
    "df.head()"
   ]
  },
  {
   "cell_type": "code",
   "execution_count": null,
   "metadata": {
    "colab": {
     "base_uri": "https://localhost:8080/",
     "height": 87
    },
    "colab_type": "code",
    "executionInfo": {
     "elapsed": 218,
     "status": "ok",
     "timestamp": 1567214213768,
     "user": {
      "displayName": "Tirthajyoti Sarkar",
      "photoUrl": "https://lh3.googleusercontent.com/a-/AAuE7mD6d7dlMqdpzL4sermIF1ujmpSRxY2WnE4tuB-UsQ=s64",
      "userId": "01914075970409030121"
     },
     "user_tz": 420
    },
    "id": "TSg0NNwZvP62",
    "outputId": "6c634c7e-e863-4530-c863-4779628e2330"
   },
   "outputs": [
    {
     "data": {
      "text/plain": [
       "Index(['response', 'age', 'sex', 'on_thyroxine', 'antithyroid_medication',\n",
       "       'thyroid_surgery', 'pregnant', 'sick', 'tumor', 'lithium', 'goitre',\n",
       "       'TSH', 'T3', 'TT4', 'T4U', 'FTI'],\n",
       "      dtype='object')"
      ]
     },
     "execution_count": 19,
     "metadata": {
      "tags": []
     },
     "output_type": "execute_result"
    }
   ],
   "source": [
    "df.columns"
   ]
  },
  {
   "cell_type": "markdown",
   "metadata": {
    "colab_type": "text",
    "id": "XQPbkEhSvP69"
   },
   "source": [
    "### Exploratory data analysis"
   ]
  },
  {
   "cell_type": "code",
   "execution_count": null,
   "metadata": {
    "colab": {
     "base_uri": "https://localhost:8080/",
     "height": 1000
    },
    "colab_type": "code",
    "executionInfo": {
     "elapsed": 1638,
     "status": "ok",
     "timestamp": 1567214216545,
     "user": {
      "displayName": "Tirthajyoti Sarkar",
      "photoUrl": "https://lh3.googleusercontent.com/a-/AAuE7mD6d7dlMqdpzL4sermIF1ujmpSRxY2WnE4tuB-UsQ=s64",
      "userId": "01914075970409030121"
     },
     "user_tz": 420
    },
    "id": "PKC4kJgivP7C",
    "outputId": "57564cbc-8c27-4143-ca2c-ae17ff03fde5"
   },
   "outputs": [
    {
     "data": {
      "image/png": "[encoded data removed]",
      "text/plain": [
       "<Figure size 432x288 with 1 Axes>"
      ]
     },
     "metadata": {
      "tags": []
     },
     "output_type": "display_data"
    },
    {
     "data": {
      "image/png": "[encoded data removed]",
      "text/plain": [
       "<Figure size 432x288 with 1 Axes>"
      ]
     },
     "metadata": {
      "tags": []
     },
     "output_type": "display_data"
    },
    {
     "data": {
      "image/png": "[encoded data removed]",
      "text/plain": [
       "<Figure size 432x288 with 1 Axes>"
      ]
     },
     "metadata": {
      "tags": []
     },
     "output_type": "display_data"
    },
    {
     "data": {
      "image/png": "[encoded data removed]",
      "text/plain": [
       "<Figure size 432x288 with 1 Axes>"
      ]
     },
     "metadata": {
      "tags": []
     },
     "output_type": "display_data"
    },
    {
     "data": {
      "image/png": "[encoded data removed]",
      "text/plain": [
       "<Figure size 432x288 with 1 Axes>"
      ]
     },
     "metadata": {
      "tags": []
     },
     "output_type": "display_data"
    },
    {
     "data": {
      "image/png": "[encoded data removed]",
      "text/plain": [
       "<Figure size 432x288 with 1 Axes>"
      ]
     },
     "metadata": {
      "tags": []
     },
     "output_type": "display_data"
    }
   ],
   "source": [
    "for var in ['age','TSH','T3','TT4','T4U','FTI']:\n",
    "    sns.boxplot(x='response',y=var,data=df)\n",
    "    plt.show()"
   ]
  },
  {
   "cell_type": "code",
   "execution_count": null,
   "metadata": {
    "colab": {
     "base_uri": "https://localhost:8080/",
     "height": 1000
    },
    "colab_type": "code",
    "executionInfo": {
     "elapsed": 7581,
     "status": "ok",
     "timestamp": 1567214222969,
     "user": {
      "displayName": "Tirthajyoti Sarkar",
      "photoUrl": "https://lh3.googleusercontent.com/a-/AAuE7mD6d7dlMqdpzL4sermIF1ujmpSRxY2WnE4tuB-UsQ=s64",
      "userId": "01914075970409030121"
     },
     "user_tz": 420
    },
    "id": "Pe0sLCwvvP7P",
    "outputId": "bee1da1c-93b1-41ff-ecbc-cc39274a76ff"
   },
   "outputs": [
    {
     "data": {
      "image/png": "[encoded data removed]",
      "text/plain": [
       "<Figure size 1080x1080 with 42 Axes>"
      ]
     },
     "metadata": {
      "tags": []
     },
     "output_type": "display_data"
    }
   ],
   "source": [
    "sns.pairplot(data=df[df.columns[1:]],diag_kws={'edgecolor':'k','bins':25},plot_kws={'edgecolor':'k'})\n",
    "plt.show()"
   ]
  },
  {
   "cell_type": "markdown",
   "metadata": {
    "colab_type": "text",
    "id": "kkUKMvPgEUFW"
   },
   "source": [
    "### Create dummy variables for the categorical variables"
   ]
  },
  {
   "cell_type": "code",
   "execution_count": null,
   "metadata": {
    "colab": {},
    "colab_type": "code",
    "id": "cmnKaugfvP7T"
   },
   "outputs": [],
   "source": [
    "df_dummies = pd.get_dummies(data=df)"
   ]
  },
  {
   "cell_type": "code",
   "execution_count": null,
   "metadata": {
    "colab": {
     "base_uri": "https://localhost:8080/",
     "height": 34
    },
    "colab_type": "code",
    "executionInfo": {
     "elapsed": 321,
     "status": "ok",
     "timestamp": 1567214225491,
     "user": {
      "displayName": "Tirthajyoti Sarkar",
      "photoUrl": "https://lh3.googleusercontent.com/a-/AAuE7mD6d7dlMqdpzL4sermIF1ujmpSRxY2WnE4tuB-UsQ=s64",
      "userId": "01914075970409030121"
     },
     "user_tz": 420
    },
    "id": "6LPTF7VCvP7Y",
    "outputId": "8a424b31-19e2-42fd-f7aa-31ec683ea099"
   },
   "outputs": [
    {
     "data": {
      "text/plain": [
       "(2000, 25)"
      ]
     },
     "execution_count": 23,
     "metadata": {
      "tags": []
     },
     "output_type": "execute_result"
    }
   ],
   "source": [
    "df_dummies.shape"
   ]
  },
  {
   "cell_type": "code",
   "execution_count": null,
   "metadata": {
    "colab": {
     "base_uri": "https://localhost:8080/",
     "height": 363
    },
    "colab_type": "code",
    "executionInfo": {
     "elapsed": 365,
     "status": "ok",
     "timestamp": 1567214226054,
     "user": {
      "displayName": "Tirthajyoti Sarkar",
      "photoUrl": "https://lh3.googleusercontent.com/a-/AAuE7mD6d7dlMqdpzL4sermIF1ujmpSRxY2WnE4tuB-UsQ=s64",
      "userId": "01914075970409030121"
     },
     "user_tz": 420
    },
    "id": "Cn3vcIoWvP7c",
    "outputId": "5d182ce2-adf9-4528-f1eb-dff3e80dc896"
   },
   "outputs": [
    {
     "data": {
      "text/html": [
       "<div>\n",
       "<style scoped>\n",
       "    .dataframe tbody tr th:only-of-type {\n",
       "        vertical-align: middle;\n",
       "    }\n",
       "\n",
       "    .dataframe tbody tr th {\n",
       "        vertical-align: top;\n",
       "    }\n",
       "\n",
       "    .dataframe thead th {\n",
       "        text-align: right;\n",
       "    }\n",
       "</style>\n",
       "<table border=\"1\" class=\"dataframe\">\n",
       "  <thead>\n",
       "    <tr style=\"text-align: right;\">\n",
       "      <th></th>\n",
       "      <th>response</th>\n",
       "      <th>age</th>\n",
       "      <th>TSH</th>\n",
       "      <th>T3</th>\n",
       "      <th>TT4</th>\n",
       "      <th>T4U</th>\n",
       "      <th>FTI</th>\n",
       "      <th>sex_F</th>\n",
       "      <th>sex_M</th>\n",
       "      <th>on_thyroxine_f</th>\n",
       "      <th>on_thyroxine_t</th>\n",
       "      <th>antithyroid_medication_f</th>\n",
       "      <th>antithyroid_medication_t</th>\n",
       "      <th>thyroid_surgery_f</th>\n",
       "      <th>thyroid_surgery_t</th>\n",
       "      <th>pregnant_f</th>\n",
       "      <th>pregnant_t</th>\n",
       "      <th>sick_f</th>\n",
       "      <th>sick_t</th>\n",
       "      <th>tumor_f</th>\n",
       "      <th>tumor_t</th>\n",
       "      <th>lithium_f</th>\n",
       "      <th>lithium_t</th>\n",
       "      <th>goitre_f</th>\n",
       "      <th>goitre_t</th>\n",
       "    </tr>\n",
       "  </thead>\n",
       "  <tbody>\n",
       "    <tr>\n",
       "      <th>2723</th>\n",
       "      <td>0</td>\n",
       "      <td>72.0</td>\n",
       "      <td>0.0</td>\n",
       "      <td>3.2</td>\n",
       "      <td>333.0</td>\n",
       "      <td>0.74</td>\n",
       "      <td>450.0</td>\n",
       "      <td>1</td>\n",
       "      <td>0</td>\n",
       "      <td>1</td>\n",
       "      <td>0</td>\n",
       "      <td>1</td>\n",
       "      <td>0</td>\n",
       "      <td>1</td>\n",
       "      <td>0</td>\n",
       "      <td>1</td>\n",
       "      <td>0</td>\n",
       "      <td>1</td>\n",
       "      <td>0</td>\n",
       "      <td>1</td>\n",
       "      <td>0</td>\n",
       "      <td>1</td>\n",
       "      <td>0</td>\n",
       "      <td>1</td>\n",
       "      <td>0</td>\n",
       "    </tr>\n",
       "    <tr>\n",
       "      <th>496</th>\n",
       "      <td>0</td>\n",
       "      <td>34.0</td>\n",
       "      <td>0.0</td>\n",
       "      <td>2.3</td>\n",
       "      <td>116.0</td>\n",
       "      <td>1.06</td>\n",
       "      <td>109.0</td>\n",
       "      <td>1</td>\n",
       "      <td>0</td>\n",
       "      <td>1</td>\n",
       "      <td>0</td>\n",
       "      <td>1</td>\n",
       "      <td>0</td>\n",
       "      <td>1</td>\n",
       "      <td>0</td>\n",
       "      <td>1</td>\n",
       "      <td>0</td>\n",
       "      <td>1</td>\n",
       "      <td>0</td>\n",
       "      <td>1</td>\n",
       "      <td>0</td>\n",
       "      <td>1</td>\n",
       "      <td>0</td>\n",
       "      <td>1</td>\n",
       "      <td>0</td>\n",
       "    </tr>\n",
       "    <tr>\n",
       "      <th>1002</th>\n",
       "      <td>0</td>\n",
       "      <td>57.0</td>\n",
       "      <td>0.0</td>\n",
       "      <td>1.9</td>\n",
       "      <td>145.0</td>\n",
       "      <td>0.81</td>\n",
       "      <td>180.0</td>\n",
       "      <td>0</td>\n",
       "      <td>1</td>\n",
       "      <td>1</td>\n",
       "      <td>0</td>\n",
       "      <td>1</td>\n",
       "      <td>0</td>\n",
       "      <td>1</td>\n",
       "      <td>0</td>\n",
       "      <td>1</td>\n",
       "      <td>0</td>\n",
       "      <td>0</td>\n",
       "      <td>1</td>\n",
       "      <td>1</td>\n",
       "      <td>0</td>\n",
       "      <td>1</td>\n",
       "      <td>0</td>\n",
       "      <td>1</td>\n",
       "      <td>0</td>\n",
       "    </tr>\n",
       "    <tr>\n",
       "      <th>1243</th>\n",
       "      <td>0</td>\n",
       "      <td>68.0</td>\n",
       "      <td>0.0</td>\n",
       "      <td>2.8</td>\n",
       "      <td>86.0</td>\n",
       "      <td>1.05</td>\n",
       "      <td>82.0</td>\n",
       "      <td>0</td>\n",
       "      <td>1</td>\n",
       "      <td>1</td>\n",
       "      <td>0</td>\n",
       "      <td>1</td>\n",
       "      <td>0</td>\n",
       "      <td>1</td>\n",
       "      <td>0</td>\n",
       "      <td>1</td>\n",
       "      <td>0</td>\n",
       "      <td>1</td>\n",
       "      <td>0</td>\n",
       "      <td>1</td>\n",
       "      <td>0</td>\n",
       "      <td>1</td>\n",
       "      <td>0</td>\n",
       "      <td>1</td>\n",
       "      <td>0</td>\n",
       "    </tr>\n",
       "    <tr>\n",
       "      <th>1732</th>\n",
       "      <td>0</td>\n",
       "      <td>53.0</td>\n",
       "      <td>1.3</td>\n",
       "      <td>1.9</td>\n",
       "      <td>104.0</td>\n",
       "      <td>1.04</td>\n",
       "      <td>100.0</td>\n",
       "      <td>1</td>\n",
       "      <td>0</td>\n",
       "      <td>1</td>\n",
       "      <td>0</td>\n",
       "      <td>1</td>\n",
       "      <td>0</td>\n",
       "      <td>1</td>\n",
       "      <td>0</td>\n",
       "      <td>1</td>\n",
       "      <td>0</td>\n",
       "      <td>1</td>\n",
       "      <td>0</td>\n",
       "      <td>1</td>\n",
       "      <td>0</td>\n",
       "      <td>1</td>\n",
       "      <td>0</td>\n",
       "      <td>1</td>\n",
       "      <td>0</td>\n",
       "    </tr>\n",
       "    <tr>\n",
       "      <th>1295</th>\n",
       "      <td>0</td>\n",
       "      <td>29.0</td>\n",
       "      <td>0.5</td>\n",
       "      <td>1.6</td>\n",
       "      <td>95.0</td>\n",
       "      <td>0.80</td>\n",
       "      <td>119.0</td>\n",
       "      <td>1</td>\n",
       "      <td>0</td>\n",
       "      <td>1</td>\n",
       "      <td>0</td>\n",
       "      <td>1</td>\n",
       "      <td>0</td>\n",
       "      <td>1</td>\n",
       "      <td>0</td>\n",
       "      <td>1</td>\n",
       "      <td>0</td>\n",
       "      <td>1</td>\n",
       "      <td>0</td>\n",
       "      <td>1</td>\n",
       "      <td>0</td>\n",
       "      <td>1</td>\n",
       "      <td>0</td>\n",
       "      <td>1</td>\n",
       "      <td>0</td>\n",
       "    </tr>\n",
       "    <tr>\n",
       "      <th>71</th>\n",
       "      <td>1</td>\n",
       "      <td>70.0</td>\n",
       "      <td>13.0</td>\n",
       "      <td>1.8</td>\n",
       "      <td>58.0</td>\n",
       "      <td>1.03</td>\n",
       "      <td>56.0</td>\n",
       "      <td>1</td>\n",
       "      <td>0</td>\n",
       "      <td>1</td>\n",
       "      <td>0</td>\n",
       "      <td>1</td>\n",
       "      <td>0</td>\n",
       "      <td>0</td>\n",
       "      <td>1</td>\n",
       "      <td>1</td>\n",
       "      <td>0</td>\n",
       "      <td>1</td>\n",
       "      <td>0</td>\n",
       "      <td>1</td>\n",
       "      <td>0</td>\n",
       "      <td>1</td>\n",
       "      <td>0</td>\n",
       "      <td>1</td>\n",
       "      <td>0</td>\n",
       "    </tr>\n",
       "    <tr>\n",
       "      <th>2654</th>\n",
       "      <td>0</td>\n",
       "      <td>59.0</td>\n",
       "      <td>0.0</td>\n",
       "      <td>1.6</td>\n",
       "      <td>117.0</td>\n",
       "      <td>1.04</td>\n",
       "      <td>113.0</td>\n",
       "      <td>1</td>\n",
       "      <td>0</td>\n",
       "      <td>1</td>\n",
       "      <td>0</td>\n",
       "      <td>1</td>\n",
       "      <td>0</td>\n",
       "      <td>1</td>\n",
       "      <td>0</td>\n",
       "      <td>1</td>\n",
       "      <td>0</td>\n",
       "      <td>1</td>\n",
       "      <td>0</td>\n",
       "      <td>1</td>\n",
       "      <td>0</td>\n",
       "      <td>1</td>\n",
       "      <td>0</td>\n",
       "      <td>1</td>\n",
       "      <td>0</td>\n",
       "    </tr>\n",
       "    <tr>\n",
       "      <th>234</th>\n",
       "      <td>0</td>\n",
       "      <td>63.0</td>\n",
       "      <td>0.3</td>\n",
       "      <td>1.3</td>\n",
       "      <td>130.0</td>\n",
       "      <td>1.05</td>\n",
       "      <td>124.0</td>\n",
       "      <td>1</td>\n",
       "      <td>0</td>\n",
       "      <td>0</td>\n",
       "      <td>1</td>\n",
       "      <td>1</td>\n",
       "      <td>0</td>\n",
       "      <td>1</td>\n",
       "      <td>0</td>\n",
       "      <td>1</td>\n",
       "      <td>0</td>\n",
       "      <td>1</td>\n",
       "      <td>0</td>\n",
       "      <td>1</td>\n",
       "      <td>0</td>\n",
       "      <td>1</td>\n",
       "      <td>0</td>\n",
       "      <td>1</td>\n",
       "      <td>0</td>\n",
       "    </tr>\n",
       "    <tr>\n",
       "      <th>1925</th>\n",
       "      <td>0</td>\n",
       "      <td>7.0</td>\n",
       "      <td>0.4</td>\n",
       "      <td>2.3</td>\n",
       "      <td>54.0</td>\n",
       "      <td>0.86</td>\n",
       "      <td>63.0</td>\n",
       "      <td>0</td>\n",
       "      <td>1</td>\n",
       "      <td>1</td>\n",
       "      <td>0</td>\n",
       "      <td>1</td>\n",
       "      <td>0</td>\n",
       "      <td>1</td>\n",
       "      <td>0</td>\n",
       "      <td>1</td>\n",
       "      <td>0</td>\n",
       "      <td>1</td>\n",
       "      <td>0</td>\n",
       "      <td>1</td>\n",
       "      <td>0</td>\n",
       "      <td>1</td>\n",
       "      <td>0</td>\n",
       "      <td>1</td>\n",
       "      <td>0</td>\n",
       "    </tr>\n",
       "  </tbody>\n",
       "</table>\n",
       "</div>"
      ],
      "text/plain": [
       "      response   age   TSH   T3  ...  lithium_f  lithium_t  goitre_f  goitre_t\n",
       "2723         0  72.0   0.0  3.2  ...          1          0         1         0\n",
       "496          0  34.0   0.0  2.3  ...          1          0         1         0\n",
       "1002         0  57.0   0.0  1.9  ...          1          0         1         0\n",
       "1243         0  68.0   0.0  2.8  ...          1          0         1         0\n",
       "1732         0  53.0   1.3  1.9  ...          1          0         1         0\n",
       "1295         0  29.0   0.5  1.6  ...          1          0         1         0\n",
       "71           1  70.0  13.0  1.8  ...          1          0         1         0\n",
       "2654         0  59.0   0.0  1.6  ...          1          0         1         0\n",
       "234          0  63.0   0.3  1.3  ...          1          0         1         0\n",
       "1925         0   7.0   0.4  2.3  ...          1          0         1         0\n",
       "\n",
       "[10 rows x 25 columns]"
      ]
     },
     "execution_count": 24,
     "metadata": {
      "tags": []
     },
     "output_type": "execute_result"
    }
   ],
   "source": [
    "df_dummies.sample(10)"
   ]
  },
  {
   "cell_type": "markdown",
   "metadata": {
    "colab_type": "text",
    "id": "cOtuodYBvP7g"
   },
   "source": [
    "### Test/train split"
   ]
  },
  {
   "cell_type": "code",
   "execution_count": null,
   "metadata": {
    "colab": {},
    "colab_type": "code",
    "id": "tknuBZDnvP7h"
   },
   "outputs": [],
   "source": [
    "from sklearn.model_selection import train_test_split\n",
    "X_train, X_test, y_train, y_test = train_test_split(df_dummies.drop('response',axis=1), \n",
    "                                                    df_dummies['response'], test_size=0.30, \n",
    "                                                    random_state=42)"
   ]
  },
  {
   "cell_type": "code",
   "execution_count": null,
   "metadata": {
    "colab": {
     "base_uri": "https://localhost:8080/",
     "height": 52
    },
    "colab_type": "code",
    "executionInfo": {
     "elapsed": 316,
     "status": "ok",
     "timestamp": 1567214228757,
     "user": {
      "displayName": "Tirthajyoti Sarkar",
      "photoUrl": "https://lh3.googleusercontent.com/a-/AAuE7mD6d7dlMqdpzL4sermIF1ujmpSRxY2WnE4tuB-UsQ=s64",
      "userId": "01914075970409030121"
     },
     "user_tz": 420
    },
    "id": "G2RA5KJcEe1j",
    "outputId": "82e7fe03-1a48-4531-f479-29e25338e94b"
   },
   "outputs": [
    {
     "name": "stdout",
     "output_type": "stream",
     "text": [
      "Training set shape (1400, 24)\n",
      "Test set shape (600, 24)\n"
     ]
    }
   ],
   "source": [
    "print(\"Training set shape\",X_train.shape)\n",
    "print(\"Test set shape\",X_test.shape)"
   ]
  },
  {
   "cell_type": "markdown",
   "metadata": {
    "colab_type": "text",
    "id": "udN1_fDGvP7j"
   },
   "source": [
    "### Using `LogisticRegression` estimator from Scikit-learn\n",
    "We are using the L2 regularization by default"
   ]
  },
  {
   "cell_type": "code",
   "execution_count": null,
   "metadata": {
    "colab": {},
    "colab_type": "code",
    "id": "P62kZToSvP7k"
   },
   "outputs": [],
   "source": [
    "from sklearn.linear_model import LogisticRegression"
   ]
  },
  {
   "cell_type": "code",
   "execution_count": null,
   "metadata": {
    "colab": {},
    "colab_type": "code",
    "id": "GGqsx2JQvP7n"
   },
   "outputs": [],
   "source": [
    "clf1 = LogisticRegression(penalty='l2',solver='newton-cg')"
   ]
  },
  {
   "cell_type": "code",
   "execution_count": null,
   "metadata": {
    "colab": {
     "base_uri": "https://localhost:8080/",
     "height": 105
    },
    "colab_type": "code",
    "executionInfo": {
     "elapsed": 342,
     "status": "ok",
     "timestamp": 1567214231539,
     "user": {
      "displayName": "Tirthajyoti Sarkar",
      "photoUrl": "https://lh3.googleusercontent.com/a-/AAuE7mD6d7dlMqdpzL4sermIF1ujmpSRxY2WnE4tuB-UsQ=s64",
      "userId": "01914075970409030121"
     },
     "user_tz": 420
    },
    "id": "OKvgysYbvP7r",
    "outputId": "7b71f038-75d0-416d-cbd3-cd49147d7a12"
   },
   "outputs": [
    {
     "data": {
      "text/plain": [
       "LogisticRegression(C=1.0, class_weight=None, dual=False, fit_intercept=True,\n",
       "                   intercept_scaling=1, l1_ratio=None, max_iter=100,\n",
       "                   multi_class='warn', n_jobs=None, penalty='l2',\n",
       "                   random_state=None, solver='newton-cg', tol=0.0001, verbose=0,\n",
       "                   warm_start=False)"
      ]
     },
     "execution_count": 29,
     "metadata": {
      "tags": []
     },
     "output_type": "execute_result"
    }
   ],
   "source": [
    "clf1.fit(X_train,y_train)"
   ]
  },
  {
   "cell_type": "markdown",
   "metadata": {
    "colab_type": "text",
    "id": "92jXObyGEtqv"
   },
   "source": [
    "### Intercept, coefficients, and score"
   ]
  },
  {
   "cell_type": "code",
   "execution_count": null,
   "metadata": {
    "colab": {
     "base_uri": "https://localhost:8080/",
     "height": 34
    },
    "colab_type": "code",
    "executionInfo": {
     "elapsed": 366,
     "status": "ok",
     "timestamp": 1567214232993,
     "user": {
      "displayName": "Tirthajyoti Sarkar",
      "photoUrl": "https://lh3.googleusercontent.com/a-/AAuE7mD6d7dlMqdpzL4sermIF1ujmpSRxY2WnE4tuB-UsQ=s64",
      "userId": "01914075970409030121"
     },
     "user_tz": 420
    },
    "id": "cE5kZZfKvP7u",
    "outputId": "f44fa099-46a7-4462-dc0a-596da617502c"
   },
   "outputs": [
    {
     "data": {
      "text/plain": [
       "array([2.28502971])"
      ]
     },
     "execution_count": 30,
     "metadata": {
      "tags": []
     },
     "output_type": "execute_result"
    }
   ],
   "source": [
    "clf1.intercept_"
   ]
  },
  {
   "cell_type": "code",
   "execution_count": null,
   "metadata": {
    "colab": {
     "base_uri": "https://localhost:8080/",
     "height": 105
    },
    "colab_type": "code",
    "executionInfo": {
     "elapsed": 203,
     "status": "ok",
     "timestamp": 1567214233526,
     "user": {
      "displayName": "Tirthajyoti Sarkar",
      "photoUrl": "https://lh3.googleusercontent.com/a-/AAuE7mD6d7dlMqdpzL4sermIF1ujmpSRxY2WnE4tuB-UsQ=s64",
      "userId": "01914075970409030121"
     },
     "user_tz": 420
    },
    "id": "Tl_QpokTvP70",
    "outputId": "75fca93c-b77f-4a4f-d3dd-482cd6727b26"
   },
   "outputs": [
    {
     "data": {
      "text/plain": [
       "array([[ 0.02031893,  0.01861482, -0.3252159 ,  0.00395534,  0.30699787,\n",
       "        -0.10796205,  0.30204784, -0.30203619,  0.89773279, -0.89772114,\n",
       "         0.62687938, -0.62686773, -0.67442642,  0.67443807,  0.13429321,\n",
       "        -0.13428156,  0.27313209, -0.27312044,  0.26138875, -0.2613771 ,\n",
       "         0.08933295, -0.0893213 , -0.2489876 ,  0.24899925]])"
      ]
     },
     "execution_count": 31,
     "metadata": {
      "tags": []
     },
     "output_type": "execute_result"
    }
   ],
   "source": [
    "clf1.coef_"
   ]
  },
  {
   "cell_type": "code",
   "execution_count": null,
   "metadata": {
    "colab": {
     "base_uri": "https://localhost:8080/",
     "height": 34
    },
    "colab_type": "code",
    "executionInfo": {
     "elapsed": 159,
     "status": "ok",
     "timestamp": 1567214234087,
     "user": {
      "displayName": "Tirthajyoti Sarkar",
      "photoUrl": "https://lh3.googleusercontent.com/a-/AAuE7mD6d7dlMqdpzL4sermIF1ujmpSRxY2WnE4tuB-UsQ=s64",
      "userId": "01914075970409030121"
     },
     "user_tz": 420
    },
    "id": "JNLVBLeBvP75",
    "outputId": "4be8c0aa-4600-4327-bdd4-1b9460ec49d4"
   },
   "outputs": [
    {
     "data": {
      "text/plain": [
       "0.9816666666666667"
      ]
     },
     "execution_count": 32,
     "metadata": {
      "tags": []
     },
     "output_type": "execute_result"
    }
   ],
   "source": [
    "clf1.score(X_test,y_test)"
   ]
  },
  {
   "cell_type": "markdown",
   "metadata": {
    "colab_type": "text",
    "id": "Bcd0se4pvP7_"
   },
   "source": [
    "### For `LogisticRegression` estimator, there is a special `predict_proba` method which computes the raw probability values"
   ]
  },
  {
   "cell_type": "code",
   "execution_count": null,
   "metadata": {
    "colab": {},
    "colab_type": "code",
    "id": "x-bfhAPhFhC-"
   },
   "outputs": [],
   "source": [
    "prob_threshold = 0.5"
   ]
  },
  {
   "cell_type": "code",
   "execution_count": null,
   "metadata": {
    "colab": {
     "base_uri": "https://localhost:8080/",
     "height": 343
    },
    "colab_type": "code",
    "executionInfo": {
     "elapsed": 431,
     "status": "ok",
     "timestamp": 1567214236819,
     "user": {
      "displayName": "Tirthajyoti Sarkar",
      "photoUrl": "https://lh3.googleusercontent.com/a-/AAuE7mD6d7dlMqdpzL4sermIF1ujmpSRxY2WnE4tuB-UsQ=s64",
      "userId": "01914075970409030121"
     },
     "user_tz": 420
    },
    "id": "iyhdw03vvP8A",
    "outputId": "7417014a-a08f-4205-93d6-bc4504806ea1"
   },
   "outputs": [
    {
     "data": {
      "text/html": [
       "<div>\n",
       "<style scoped>\n",
       "    .dataframe tbody tr th:only-of-type {\n",
       "        vertical-align: middle;\n",
       "    }\n",
       "\n",
       "    .dataframe tbody tr th {\n",
       "        vertical-align: top;\n",
       "    }\n",
       "\n",
       "    .dataframe thead th {\n",
       "        text-align: right;\n",
       "    }\n",
       "</style>\n",
       "<table border=\"1\" class=\"dataframe\">\n",
       "  <thead>\n",
       "    <tr style=\"text-align: right;\">\n",
       "      <th></th>\n",
       "      <th>Prob of NO</th>\n",
       "      <th>Prob of YES</th>\n",
       "      <th>Decision</th>\n",
       "    </tr>\n",
       "  </thead>\n",
       "  <tbody>\n",
       "    <tr>\n",
       "      <th>0</th>\n",
       "      <td>0.990471</td>\n",
       "      <td>0.009529</td>\n",
       "      <td>0</td>\n",
       "    </tr>\n",
       "    <tr>\n",
       "      <th>1</th>\n",
       "      <td>0.998714</td>\n",
       "      <td>0.001286</td>\n",
       "      <td>0</td>\n",
       "    </tr>\n",
       "    <tr>\n",
       "      <th>2</th>\n",
       "      <td>0.999999</td>\n",
       "      <td>0.000001</td>\n",
       "      <td>0</td>\n",
       "    </tr>\n",
       "    <tr>\n",
       "      <th>3</th>\n",
       "      <td>0.624016</td>\n",
       "      <td>0.375984</td>\n",
       "      <td>0</td>\n",
       "    </tr>\n",
       "    <tr>\n",
       "      <th>4</th>\n",
       "      <td>0.999296</td>\n",
       "      <td>0.000704</td>\n",
       "      <td>0</td>\n",
       "    </tr>\n",
       "    <tr>\n",
       "      <th>5</th>\n",
       "      <td>0.864075</td>\n",
       "      <td>0.135925</td>\n",
       "      <td>0</td>\n",
       "    </tr>\n",
       "    <tr>\n",
       "      <th>6</th>\n",
       "      <td>0.983696</td>\n",
       "      <td>0.016304</td>\n",
       "      <td>0</td>\n",
       "    </tr>\n",
       "    <tr>\n",
       "      <th>7</th>\n",
       "      <td>0.998507</td>\n",
       "      <td>0.001493</td>\n",
       "      <td>0</td>\n",
       "    </tr>\n",
       "    <tr>\n",
       "      <th>8</th>\n",
       "      <td>0.221967</td>\n",
       "      <td>0.778033</td>\n",
       "      <td>1</td>\n",
       "    </tr>\n",
       "    <tr>\n",
       "      <th>9</th>\n",
       "      <td>0.999968</td>\n",
       "      <td>0.000032</td>\n",
       "      <td>0</td>\n",
       "    </tr>\n",
       "  </tbody>\n",
       "</table>\n",
       "</div>"
      ],
      "text/plain": [
       "   Prob of NO  Prob of YES  Decision\n",
       "0    0.990471     0.009529         0\n",
       "1    0.998714     0.001286         0\n",
       "2    0.999999     0.000001         0\n",
       "3    0.624016     0.375984         0\n",
       "4    0.999296     0.000704         0\n",
       "5    0.864075     0.135925         0\n",
       "6    0.983696     0.016304         0\n",
       "7    0.998507     0.001493         0\n",
       "8    0.221967     0.778033         1\n",
       "9    0.999968     0.000032         0"
      ]
     },
     "execution_count": 34,
     "metadata": {
      "tags": []
     },
     "output_type": "execute_result"
    }
   ],
   "source": [
    "prob_df=pd.DataFrame(clf1.predict_proba(X_test[:10]),columns=['Prob of NO','Prob of YES'])\n",
    "prob_df['Decision']=(prob_df['Prob of YES']>prob_threshold).apply(int)\n",
    "prob_df"
   ]
  },
  {
   "cell_type": "code",
   "execution_count": null,
   "metadata": {
    "colab": {
     "base_uri": "https://localhost:8080/",
     "height": 210
    },
    "colab_type": "code",
    "executionInfo": {
     "elapsed": 322,
     "status": "ok",
     "timestamp": 1567214239165,
     "user": {
      "displayName": "Tirthajyoti Sarkar",
      "photoUrl": "https://lh3.googleusercontent.com/a-/AAuE7mD6d7dlMqdpzL4sermIF1ujmpSRxY2WnE4tuB-UsQ=s64",
      "userId": "01914075970409030121"
     },
     "user_tz": 420
    },
    "id": "A4SQ1XXxvP8E",
    "outputId": "4375fcde-e8b2-4b6a-8aca-f39eaa9091a3"
   },
   "outputs": [
    {
     "data": {
      "text/plain": [
       "2944    0\n",
       "511     0\n",
       "2116    0\n",
       "1412    0\n",
       "2039    0\n",
       "2013    0\n",
       "1478    0\n",
       "2744    0\n",
       "83      1\n",
       "2100    0\n",
       "Name: response, dtype: int64"
      ]
     },
     "execution_count": 35,
     "metadata": {
      "tags": []
     },
     "output_type": "execute_result"
    }
   ],
   "source": [
    "y_test[:10]"
   ]
  },
  {
   "cell_type": "markdown",
   "metadata": {
    "colab_type": "text",
    "id": "_PeE-kOIvP8J"
   },
   "source": [
    "### Classification report, and confusion matrix"
   ]
  },
  {
   "cell_type": "code",
   "execution_count": null,
   "metadata": {
    "colab": {},
    "colab_type": "code",
    "id": "DqHMkTpfvP8K"
   },
   "outputs": [],
   "source": [
    "from sklearn.metrics import classification_report, confusion_matrix"
   ]
  },
  {
   "cell_type": "code",
   "execution_count": null,
   "metadata": {
    "colab": {
     "base_uri": "https://localhost:8080/",
     "height": 175
    },
    "colab_type": "code",
    "executionInfo": {
     "elapsed": 333,
     "status": "ok",
     "timestamp": 1567214241804,
     "user": {
      "displayName": "Tirthajyoti Sarkar",
      "photoUrl": "https://lh3.googleusercontent.com/a-/AAuE7mD6d7dlMqdpzL4sermIF1ujmpSRxY2WnE4tuB-UsQ=s64",
      "userId": "01914075970409030121"
     },
     "user_tz": 420
    },
    "id": "7Qv9q7vZvP8P",
    "outputId": "dc659624-750a-46a0-a2e4-fda2d075b026"
   },
   "outputs": [
    {
     "name": "stdout",
     "output_type": "stream",
     "text": [
      "              precision    recall  f1-score   support\n",
      "\n",
      "           0       0.99      0.99      0.99       569\n",
      "           1       0.86      0.77      0.81        31\n",
      "\n",
      "    accuracy                           0.98       600\n",
      "   macro avg       0.92      0.88      0.90       600\n",
      "weighted avg       0.98      0.98      0.98       600\n",
      "\n"
     ]
    }
   ],
   "source": [
    "print(classification_report(y_test, clf1.predict(X_test)))"
   ]
  },
  {
   "cell_type": "code",
   "execution_count": null,
   "metadata": {
    "colab": {
     "base_uri": "https://localhost:8080/",
     "height": 106
    },
    "colab_type": "code",
    "executionInfo": {
     "elapsed": 326,
     "status": "ok",
     "timestamp": 1567214242563,
     "user": {
      "displayName": "Tirthajyoti Sarkar",
      "photoUrl": "https://lh3.googleusercontent.com/a-/AAuE7mD6d7dlMqdpzL4sermIF1ujmpSRxY2WnE4tuB-UsQ=s64",
      "userId": "01914075970409030121"
     },
     "user_tz": 420
    },
    "id": "XSNxqNpHvP8a",
    "outputId": "ef5c5238-c34c-48b3-c2bb-4bc61a1d6b20"
   },
   "outputs": [
    {
     "data": {
      "text/html": [
       "<div>\n",
       "<style scoped>\n",
       "    .dataframe tbody tr th:only-of-type {\n",
       "        vertical-align: middle;\n",
       "    }\n",
       "\n",
       "    .dataframe tbody tr th {\n",
       "        vertical-align: top;\n",
       "    }\n",
       "\n",
       "    .dataframe thead th {\n",
       "        text-align: right;\n",
       "    }\n",
       "</style>\n",
       "<table border=\"1\" class=\"dataframe\">\n",
       "  <thead>\n",
       "    <tr style=\"text-align: right;\">\n",
       "      <th></th>\n",
       "      <th>Predict-YES</th>\n",
       "      <th>Predict-NO</th>\n",
       "    </tr>\n",
       "  </thead>\n",
       "  <tbody>\n",
       "    <tr>\n",
       "      <th>YES</th>\n",
       "      <td>565</td>\n",
       "      <td>4</td>\n",
       "    </tr>\n",
       "    <tr>\n",
       "      <th>NO</th>\n",
       "      <td>7</td>\n",
       "      <td>24</td>\n",
       "    </tr>\n",
       "  </tbody>\n",
       "</table>\n",
       "</div>"
      ],
      "text/plain": [
       "     Predict-YES  Predict-NO\n",
       "YES          565           4\n",
       "NO             7          24"
      ]
     },
     "execution_count": 38,
     "metadata": {
      "tags": []
     },
     "output_type": "execute_result"
    }
   ],
   "source": [
    "pd.DataFrame(confusion_matrix(y_test, clf1.predict(X_test)),columns=['Predict-YES','Predict-NO'],index=['YES','NO'])"
   ]
  },
  {
   "cell_type": "markdown",
   "metadata": {
    "colab_type": "text",
    "id": "feE3XMmFvP8g"
   },
   "source": [
    "### Using `statsmodels` library"
   ]
  },
  {
   "cell_type": "code",
   "execution_count": null,
   "metadata": {
    "colab": {},
    "colab_type": "code",
    "id": "PPb2I3nUvP8i"
   },
   "outputs": [],
   "source": [
    "import statsmodels.formula.api as smf\n",
    "import statsmodels.api as sm"
   ]
  },
  {
   "cell_type": "code",
   "execution_count": null,
   "metadata": {
    "colab": {
     "base_uri": "https://localhost:8080/",
     "height": 122
    },
    "colab_type": "code",
    "executionInfo": {
     "elapsed": 313,
     "status": "ok",
     "timestamp": 1567214245871,
     "user": {
      "displayName": "Tirthajyoti Sarkar",
      "photoUrl": "https://lh3.googleusercontent.com/a-/AAuE7mD6d7dlMqdpzL4sermIF1ujmpSRxY2WnE4tuB-UsQ=s64",
      "userId": "01914075970409030121"
     },
     "user_tz": 420
    },
    "id": "aSDnuENRvP8p",
    "outputId": "e8423394-7ab1-4ab6-f184-878e288148d0"
   },
   "outputs": [
    {
     "data": {
      "text/plain": [
       "Index(['response', 'age', 'TSH', 'T3', 'TT4', 'T4U', 'FTI', 'sex_F', 'sex_M',\n",
       "       'on_thyroxine_f', 'on_thyroxine_t', 'antithyroid_medication_f',\n",
       "       'antithyroid_medication_t', 'thyroid_surgery_f', 'thyroid_surgery_t',\n",
       "       'pregnant_f', 'pregnant_t', 'sick_f', 'sick_t', 'tumor_f', 'tumor_t',\n",
       "       'lithium_f', 'lithium_t', 'goitre_f', 'goitre_t'],\n",
       "      dtype='object')"
      ]
     },
     "execution_count": 40,
     "metadata": {
      "tags": []
     },
     "output_type": "execute_result"
    }
   ],
   "source": [
    "df_dummies.columns"
   ]
  },
  {
   "cell_type": "markdown",
   "metadata": {
    "colab_type": "text",
    "id": "KtujrgvyvP8u"
   },
   "source": [
    "### Create a 'formula' in the same style as in R language"
   ]
  },
  {
   "cell_type": "code",
   "execution_count": null,
   "metadata": {
    "colab": {},
    "colab_type": "code",
    "id": "vIC8zIl7vP8v"
   },
   "outputs": [],
   "source": [
    "formula = 'response ~ ' + '+'.join(df_dummies.columns[1:])"
   ]
  },
  {
   "cell_type": "code",
   "execution_count": null,
   "metadata": {
    "colab": {
     "base_uri": "https://localhost:8080/",
     "height": 54
    },
    "colab_type": "code",
    "executionInfo": {
     "elapsed": 387,
     "status": "ok",
     "timestamp": 1567214247707,
     "user": {
      "displayName": "Tirthajyoti Sarkar",
      "photoUrl": "https://lh3.googleusercontent.com/a-/AAuE7mD6d7dlMqdpzL4sermIF1ujmpSRxY2WnE4tuB-UsQ=s64",
      "userId": "01914075970409030121"
     },
     "user_tz": 420
    },
    "id": "Hiyjw4g7vP8z",
    "outputId": "ea586ab3-dedc-4e70-8410-4b9c1303d812"
   },
   "outputs": [
    {
     "data": {
      "text/plain": [
       "'response ~ age+TSH+T3+TT4+T4U+FTI+sex_F+sex_M+on_thyroxine_f+on_thyroxine_t+antithyroid_medication_f+antithyroid_medication_t+thyroid_surgery_f+thyroid_surgery_t+pregnant_f+pregnant_t+sick_f+sick_t+tumor_f+tumor_t+lithium_f+lithium_t+goitre_f+goitre_t'"
      ]
     },
     "execution_count": 42,
     "metadata": {
      "tags": []
     },
     "output_type": "execute_result"
    }
   ],
   "source": [
    "formula"
   ]
  },
  {
   "cell_type": "markdown",
   "metadata": {
    "colab_type": "text",
    "id": "_A9t8JJZvP86"
   },
   "source": [
    "### Fit a GLM (Generalized Linear model) with this formula and choosing `Binomial` as the family of function"
   ]
  },
  {
   "cell_type": "code",
   "execution_count": null,
   "metadata": {
    "colab": {},
    "colab_type": "code",
    "id": "k5Oi9XTQvP87"
   },
   "outputs": [],
   "source": [
    "model = smf.glm(formula = formula, data=df_dummies, family=sm.families.Binomial())"
   ]
  },
  {
   "cell_type": "code",
   "execution_count": null,
   "metadata": {
    "colab": {},
    "colab_type": "code",
    "id": "dWlUR6aQvP9C"
   },
   "outputs": [],
   "source": [
    "result=model.fit()"
   ]
  },
  {
   "cell_type": "markdown",
   "metadata": {
    "colab_type": "text",
    "id": "Q-yoBbVUvP9M"
   },
   "source": [
    "### `summary` method shows a R-style table with all kind of statistical information"
   ]
  },
  {
   "cell_type": "code",
   "execution_count": null,
   "metadata": {
    "colab": {
     "base_uri": "https://localhost:8080/",
     "height": 721
    },
    "colab_type": "code",
    "executionInfo": {
     "elapsed": 335,
     "status": "ok",
     "timestamp": 1567214250552,
     "user": {
      "displayName": "Tirthajyoti Sarkar",
      "photoUrl": "https://lh3.googleusercontent.com/a-/AAuE7mD6d7dlMqdpzL4sermIF1ujmpSRxY2WnE4tuB-UsQ=s64",
      "userId": "01914075970409030121"
     },
     "user_tz": 420
    },
    "id": "1pO4jVRhvP9N",
    "outputId": "c9b29d2c-5c04-4ec3-ca65-e42a8cf61cbe"
   },
   "outputs": [
    {
     "name": "stdout",
     "output_type": "stream",
     "text": [
      "                 Generalized Linear Model Regression Results                  \n",
      "==============================================================================\n",
      "Dep. Variable:               response   No. Observations:                 2000\n",
      "Model:                            GLM   Df Residuals:                     1984\n",
      "Model Family:                Binomial   Df Model:                           15\n",
      "Link Function:                  logit   Scale:                          1.0000\n",
      "Method:                          IRLS   Log-Likelihood:                -123.59\n",
      "Date:                Sat, 31 Aug 2019   Deviance:                       247.17\n",
      "Time:                        01:17:27   Pearson chi2:                 9.10e+03\n",
      "No. Iterations:                    22                                         \n",
      "Covariance Type:            nonrobust                                         \n",
      "============================================================================================\n",
      "                               coef    std err          z      P>|z|      [0.025      0.975]\n",
      "--------------------------------------------------------------------------------------------\n",
      "Intercept                   -3.1161   4981.805     -0.001      1.000   -9767.274    9761.042\n",
      "age                          0.0219      0.011      2.062      0.039       0.001       0.043\n",
      "TSH                          0.0214      0.008      2.823      0.005       0.007       0.036\n",
      "T3                          -0.0233      0.320     -0.073      0.942      -0.651       0.604\n",
      "TT4                          0.0367      0.027      1.376      0.169      -0.016       0.089\n",
      "T4U                         -1.5693      1.656     -0.947      0.343      -4.816       1.677\n",
      "FTI                         -0.1420      0.030     -4.709      0.000      -0.201      -0.083\n",
      "sex_F                       -1.4005   2490.902     -0.001      1.000   -4883.479    4880.678\n",
      "sex_M                       -1.7156   2490.902     -0.001      0.999   -4883.794    4880.363\n",
      "on_thyroxine_f              -1.2357   2490.902     -0.000      1.000   -4883.315    4880.843\n",
      "on_thyroxine_t              -1.8804   2490.902     -0.001      0.999   -4883.959    4880.198\n",
      "antithyroid_medication_f    -0.3206   2490.902     -0.000      1.000   -4882.400    4881.758\n",
      "antithyroid_medication_t    -2.7954   2490.902     -0.001      0.999   -4884.874    4879.284\n",
      "thyroid_surgery_f           -2.2489   2490.902     -0.001      0.999   -4884.328    4879.830\n",
      "thyroid_surgery_t           -0.8672   2490.902     -0.000      1.000   -4882.946    4881.212\n",
      "pregnant_f                  -0.2489   2490.903  -9.99e-05      1.000   -4882.329    4881.831\n",
      "pregnant_t                  -2.8671   2490.903     -0.001      0.999   -4884.947    4879.213\n",
      "sick_f                      -1.1899   2490.902     -0.000      1.000   -4883.269    4880.889\n",
      "sick_t                      -1.9262   2490.902     -0.001      0.999   -4884.005    4880.153\n",
      "tumor_f                      8.1294   6275.938      0.001      0.999   -1.23e+04    1.23e+04\n",
      "tumor_t                    -11.2454   7357.670     -0.002      0.999   -1.44e+04    1.44e+04\n",
      "lithium_f                    8.7704   2.42e+04      0.000      1.000   -4.75e+04    4.75e+04\n",
      "lithium_t                  -11.8864   2.91e+04     -0.000      1.000    -5.7e+04     5.7e+04\n",
      "goitre_f                    -1.9841   2490.902     -0.001      0.999   -4884.063    4880.095\n",
      "goitre_t                    -1.1320   2490.902     -0.000      1.000   -4883.211    4880.947\n",
      "============================================================================================\n"
     ]
    }
   ],
   "source": [
    "print(result.summary())"
   ]
  },
  {
   "cell_type": "markdown",
   "metadata": {
    "colab_type": "text",
    "id": "RauDe86hvP9U"
   },
   "source": [
    "### The `predict` method computes probability for the test dataset"
   ]
  },
  {
   "cell_type": "code",
   "execution_count": null,
   "metadata": {
    "colab": {
     "base_uri": "https://localhost:8080/",
     "height": 210
    },
    "colab_type": "code",
    "executionInfo": {
     "elapsed": 435,
     "status": "ok",
     "timestamp": 1567214252008,
     "user": {
      "displayName": "Tirthajyoti Sarkar",
      "photoUrl": "https://lh3.googleusercontent.com/a-/AAuE7mD6d7dlMqdpzL4sermIF1ujmpSRxY2WnE4tuB-UsQ=s64",
      "userId": "01914075970409030121"
     },
     "user_tz": 420
    },
    "id": "woKRF8eSvP9V",
    "outputId": "c13d015e-72fa-49bd-e7a5-609c5fdde41e"
   },
   "outputs": [
    {
     "data": {
      "text/plain": [
       "2944    2.408353e-03\n",
       "511     6.250161e-04\n",
       "2116    6.125699e-07\n",
       "1412    3.274420e-01\n",
       "2039    7.888963e-04\n",
       "2013    1.325293e-01\n",
       "1478    3.197375e-02\n",
       "2744    1.098108e-03\n",
       "83      8.650453e-01\n",
       "2100    6.524129e-05\n",
       "dtype: float64"
      ]
     },
     "execution_count": 46,
     "metadata": {
      "tags": []
     },
     "output_type": "execute_result"
    }
   ],
   "source": [
    "result.predict(X_test[:10])"
   ]
  },
  {
   "cell_type": "markdown",
   "metadata": {
    "colab_type": "text",
    "id": "O8nEHxDBvP9d"
   },
   "source": [
    "### To create binary predictions, you have to apply a threshold probability and convert the booleans into integers"
   ]
  },
  {
   "cell_type": "code",
   "execution_count": null,
   "metadata": {
    "colab": {},
    "colab_type": "code",
    "id": "NAuhv8qivP9i"
   },
   "outputs": [],
   "source": [
    "y_pred=(result.predict(X_test)>prob_threshold).apply(int)"
   ]
  },
  {
   "cell_type": "code",
   "execution_count": null,
   "metadata": {
    "colab": {
     "base_uri": "https://localhost:8080/",
     "height": 175
    },
    "colab_type": "code",
    "executionInfo": {
     "elapsed": 349,
     "status": "ok",
     "timestamp": 1567214253529,
     "user": {
      "displayName": "Tirthajyoti Sarkar",
      "photoUrl": "https://lh3.googleusercontent.com/a-/AAuE7mD6d7dlMqdpzL4sermIF1ujmpSRxY2WnE4tuB-UsQ=s64",
      "userId": "01914075970409030121"
     },
     "user_tz": 420
    },
    "id": "AbETGp2VvP9l",
    "outputId": "bb934a46-589b-452c-cb51-d703db368835"
   },
   "outputs": [
    {
     "name": "stdout",
     "output_type": "stream",
     "text": [
      "              precision    recall  f1-score   support\n",
      "\n",
      "           0       0.99      0.99      0.99       569\n",
      "           1       0.89      0.77      0.83        31\n",
      "\n",
      "    accuracy                           0.98       600\n",
      "   macro avg       0.94      0.88      0.91       600\n",
      "weighted avg       0.98      0.98      0.98       600\n",
      "\n"
     ]
    }
   ],
   "source": [
    "print(classification_report(y_test,y_pred))"
   ]
  },
  {
   "cell_type": "code",
   "execution_count": null,
   "metadata": {
    "colab": {
     "base_uri": "https://localhost:8080/",
     "height": 106
    },
    "colab_type": "code",
    "executionInfo": {
     "elapsed": 320,
     "status": "ok",
     "timestamp": 1567214254421,
     "user": {
      "displayName": "Tirthajyoti Sarkar",
      "photoUrl": "https://lh3.googleusercontent.com/a-/AAuE7mD6d7dlMqdpzL4sermIF1ujmpSRxY2WnE4tuB-UsQ=s64",
      "userId": "01914075970409030121"
     },
     "user_tz": 420
    },
    "id": "uMxjluvgvP9u",
    "outputId": "c804be83-7fdb-45b7-b9da-5ff9243fe434"
   },
   "outputs": [
    {
     "data": {
      "text/html": [
       "<div>\n",
       "<style scoped>\n",
       "    .dataframe tbody tr th:only-of-type {\n",
       "        vertical-align: middle;\n",
       "    }\n",
       "\n",
       "    .dataframe tbody tr th {\n",
       "        vertical-align: top;\n",
       "    }\n",
       "\n",
       "    .dataframe thead th {\n",
       "        text-align: right;\n",
       "    }\n",
       "</style>\n",
       "<table border=\"1\" class=\"dataframe\">\n",
       "  <thead>\n",
       "    <tr style=\"text-align: right;\">\n",
       "      <th></th>\n",
       "      <th>Predict-YES</th>\n",
       "      <th>Predict-NO</th>\n",
       "    </tr>\n",
       "  </thead>\n",
       "  <tbody>\n",
       "    <tr>\n",
       "      <th>YES</th>\n",
       "      <td>566</td>\n",
       "      <td>3</td>\n",
       "    </tr>\n",
       "    <tr>\n",
       "      <th>NO</th>\n",
       "      <td>7</td>\n",
       "      <td>24</td>\n",
       "    </tr>\n",
       "  </tbody>\n",
       "</table>\n",
       "</div>"
      ],
      "text/plain": [
       "     Predict-YES  Predict-NO\n",
       "YES          566           3\n",
       "NO             7          24"
      ]
     },
     "execution_count": 49,
     "metadata": {
      "tags": []
     },
     "output_type": "execute_result"
    }
   ],
   "source": [
    "pd.DataFrame(confusion_matrix(y_test, y_pred),columns=['Predict-YES','Predict-NO'],index=['YES','NO'])"
   ]
  },
  {
   "cell_type": "markdown",
   "metadata": {
    "colab_type": "text",
    "id": "60jxAabLvP9y"
   },
   "source": [
    "### A smaller model with only first few variables\n",
    "\n",
    "We saw that majority of variables in the logistic regression model has p-values very high and therefore they are not statistically significant. We create another smaller model removing those variables."
   ]
  },
  {
   "cell_type": "code",
   "execution_count": null,
   "metadata": {
    "colab": {
     "base_uri": "https://localhost:8080/",
     "height": 34
    },
    "colab_type": "code",
    "executionInfo": {
     "elapsed": 319,
     "status": "ok",
     "timestamp": 1567214256044,
     "user": {
      "displayName": "Tirthajyoti Sarkar",
      "photoUrl": "https://lh3.googleusercontent.com/a-/AAuE7mD6d7dlMqdpzL4sermIF1ujmpSRxY2WnE4tuB-UsQ=s64",
      "userId": "01914075970409030121"
     },
     "user_tz": 420
    },
    "id": "dJW9zPjWvP90",
    "outputId": "72ebfc6e-ab4e-4d66-8fd4-ea8862f83f3f"
   },
   "outputs": [
    {
     "data": {
      "text/plain": [
       "'response ~ age+TSH+T3+TT4+T4U+FTI'"
      ]
     },
     "execution_count": 50,
     "metadata": {
      "tags": []
     },
     "output_type": "execute_result"
    }
   ],
   "source": [
    "formula = 'response ~ ' + '+'.join(df_dummies.columns[1:7])\n",
    "formula"
   ]
  },
  {
   "cell_type": "code",
   "execution_count": null,
   "metadata": {
    "colab": {
     "base_uri": "https://localhost:8080/",
     "height": 404
    },
    "colab_type": "code",
    "executionInfo": {
     "elapsed": 381,
     "status": "ok",
     "timestamp": 1567214256675,
     "user": {
      "displayName": "Tirthajyoti Sarkar",
      "photoUrl": "https://lh3.googleusercontent.com/a-/AAuE7mD6d7dlMqdpzL4sermIF1ujmpSRxY2WnE4tuB-UsQ=s64",
      "userId": "01914075970409030121"
     },
     "user_tz": 420
    },
    "id": "Ujsp2wTdvP93",
    "outputId": "911a9dc3-6754-48b1-cf17-f5ae5641c11c"
   },
   "outputs": [
    {
     "name": "stdout",
     "output_type": "stream",
     "text": [
      "                 Generalized Linear Model Regression Results                  \n",
      "==============================================================================\n",
      "Dep. Variable:               response   No. Observations:                 2000\n",
      "Model:                            GLM   Df Residuals:                     1993\n",
      "Model Family:                Binomial   Df Model:                            6\n",
      "Link Function:                  logit   Scale:                          1.0000\n",
      "Method:                          IRLS   Log-Likelihood:                -131.55\n",
      "Date:                Sat, 31 Aug 2019   Deviance:                       263.09\n",
      "Time:                        01:17:34   Pearson chi2:                 5.65e+03\n",
      "No. Iterations:                     9                                         \n",
      "Covariance Type:            nonrobust                                         \n",
      "==============================================================================\n",
      "                 coef    std err          z      P>|z|      [0.025      0.975]\n",
      "------------------------------------------------------------------------------\n",
      "Intercept      4.1596      1.995      2.085      0.037       0.250       8.069\n",
      "age            0.0248      0.010      2.481      0.013       0.005       0.044\n",
      "TSH            0.0212      0.007      2.892      0.004       0.007       0.035\n",
      "T3             0.0704      0.297      0.237      0.812      -0.511       0.652\n",
      "TT4            0.0296      0.026      1.134      0.257      -0.022       0.081\n",
      "T4U           -1.2903      1.665     -0.775      0.438      -4.553       1.973\n",
      "FTI           -0.1307      0.029     -4.449      0.000      -0.188      -0.073\n",
      "==============================================================================\n"
     ]
    }
   ],
   "source": [
    "model = smf.glm(formula = formula, data=df_dummies, family=sm.families.Binomial())\n",
    "result=model.fit()\n",
    "print(result.summary())"
   ]
  },
  {
   "cell_type": "code",
   "execution_count": null,
   "metadata": {
    "colab": {
     "base_uri": "https://localhost:8080/",
     "height": 175
    },
    "colab_type": "code",
    "executionInfo": {
     "elapsed": 296,
     "status": "ok",
     "timestamp": 1567214257371,
     "user": {
      "displayName": "Tirthajyoti Sarkar",
      "photoUrl": "https://lh3.googleusercontent.com/a-/AAuE7mD6d7dlMqdpzL4sermIF1ujmpSRxY2WnE4tuB-UsQ=s64",
      "userId": "01914075970409030121"
     },
     "user_tz": 420
    },
    "id": "BFhjN31yvP95",
    "outputId": "c1e38dfa-18e9-4ec8-b019-e7a8934eefc6"
   },
   "outputs": [
    {
     "name": "stdout",
     "output_type": "stream",
     "text": [
      "              precision    recall  f1-score   support\n",
      "\n",
      "           0       0.99      0.99      0.99       573\n",
      "           1       0.74      0.85      0.79        27\n",
      "\n",
      "    accuracy                           0.98       600\n",
      "   macro avg       0.87      0.92      0.89       600\n",
      "weighted avg       0.98      0.98      0.98       600\n",
      "\n"
     ]
    }
   ],
   "source": [
    "y_pred=(result.predict(X_test)>prob_threshold).apply(int)\n",
    "print(classification_report(y_pred,y_test))"
   ]
  },
  {
   "cell_type": "code",
   "execution_count": null,
   "metadata": {
    "colab": {
     "base_uri": "https://localhost:8080/",
     "height": 106
    },
    "colab_type": "code",
    "executionInfo": {
     "elapsed": 405,
     "status": "ok",
     "timestamp": 1567214259057,
     "user": {
      "displayName": "Tirthajyoti Sarkar",
      "photoUrl": "https://lh3.googleusercontent.com/a-/AAuE7mD6d7dlMqdpzL4sermIF1ujmpSRxY2WnE4tuB-UsQ=s64",
      "userId": "01914075970409030121"
     },
     "user_tz": 420
    },
    "id": "Wz6is-LwvP98",
    "outputId": "fdf0b67b-11dc-4fd5-c0dd-bd9b6dbd4ca6"
   },
   "outputs": [
    {
     "data": {
      "text/html": [
       "<div>\n",
       "<style scoped>\n",
       "    .dataframe tbody tr th:only-of-type {\n",
       "        vertical-align: middle;\n",
       "    }\n",
       "\n",
       "    .dataframe tbody tr th {\n",
       "        vertical-align: top;\n",
       "    }\n",
       "\n",
       "    .dataframe thead th {\n",
       "        text-align: right;\n",
       "    }\n",
       "</style>\n",
       "<table border=\"1\" class=\"dataframe\">\n",
       "  <thead>\n",
       "    <tr style=\"text-align: right;\">\n",
       "      <th></th>\n",
       "      <th>Predict-YES</th>\n",
       "      <th>Predict-NO</th>\n",
       "    </tr>\n",
       "  </thead>\n",
       "  <tbody>\n",
       "    <tr>\n",
       "      <th>YES</th>\n",
       "      <td>565</td>\n",
       "      <td>4</td>\n",
       "    </tr>\n",
       "    <tr>\n",
       "      <th>NO</th>\n",
       "      <td>8</td>\n",
       "      <td>23</td>\n",
       "    </tr>\n",
       "  </tbody>\n",
       "</table>\n",
       "</div>"
      ],
      "text/plain": [
       "     Predict-YES  Predict-NO\n",
       "YES          565           4\n",
       "NO             8          23"
      ]
     },
     "execution_count": 53,
     "metadata": {
      "tags": []
     },
     "output_type": "execute_result"
    }
   ],
   "source": [
    "pd.DataFrame(confusion_matrix(y_test, y_pred),columns=['Predict-YES','Predict-NO'],index=['YES','NO'])"
   ]
  },
  {
   "cell_type": "markdown",
   "metadata": {
    "colab_type": "text",
    "id": "BX1DrOE2P-X1"
   },
   "source": [
    "### How does the confusion matrix change when we modulate the probability threshold?"
   ]
  },
  {
   "cell_type": "code",
   "execution_count": null,
   "metadata": {
    "colab": {
     "base_uri": "https://localhost:8080/",
     "height": 545
    },
    "colab_type": "code",
    "executionInfo": {
     "elapsed": 435,
     "status": "ok",
     "timestamp": 1567214456910,
     "user": {
      "displayName": "Tirthajyoti Sarkar",
      "photoUrl": "https://lh3.googleusercontent.com/a-/AAuE7mD6d7dlMqdpzL4sermIF1ujmpSRxY2WnE4tuB-UsQ=s64",
      "userId": "01914075970409030121"
     },
     "user_tz": 420
    },
    "id": "cGQETc_OQLbY",
    "outputId": "7cd0c67f-0e57-4e25-ea2a-df8a0802a5a6"
   },
   "outputs": [
    {
     "name": "stdout",
     "output_type": "stream",
     "text": [
      "Confusion matrix for probability threshold 0.5\n",
      "----------------------------------------------------------------------------------------------------\n",
      "     Predict-YES  Predict-NO\n",
      "YES          565           4\n",
      "NO             8          23\n",
      "\n",
      "Confusion matrix for probability threshold 0.6\n",
      "----------------------------------------------------------------------------------------------------\n",
      "     Predict-YES  Predict-NO\n",
      "YES          565           4\n",
      "NO            13          18\n",
      "\n",
      "Confusion matrix for probability threshold 0.7\n",
      "----------------------------------------------------------------------------------------------------\n",
      "     Predict-YES  Predict-NO\n",
      "YES          567           2\n",
      "NO            16          15\n",
      "\n",
      "Confusion matrix for probability threshold 0.8\n",
      "----------------------------------------------------------------------------------------------------\n",
      "     Predict-YES  Predict-NO\n",
      "YES          567           2\n",
      "NO            17          14\n",
      "\n",
      "Confusion matrix for probability threshold 0.9\n",
      "----------------------------------------------------------------------------------------------------\n",
      "     Predict-YES  Predict-NO\n",
      "YES          568           1\n",
      "NO            21          10\n",
      "\n"
     ]
    }
   ],
   "source": [
    "for prob_threshold in [0.5,0.6,0.7,0.8,0.9]:\n",
    "  y_pred=(result.predict(X_test)>prob_threshold).apply(int)\n",
    "  df=pd.DataFrame(confusion_matrix(y_test, y_pred),columns=['Predict-YES','Predict-NO'],index=['YES','NO'])\n",
    "  print(\"Confusion matrix for probability threshold {}\".format(prob_threshold))\n",
    "  print(\"-\"*100)\n",
    "  print(df)\n",
    "  print()"
   ]
  },
  {
   "cell_type": "markdown",
   "metadata": {
    "colab_type": "text",
    "id": "wZgi_pXGHD3E"
   },
   "source": [
    "### How do the probabilities compare between `Scikit-learn` and `Statsmodels` predictions? "
   ]
  },
  {
   "cell_type": "code",
   "execution_count": null,
   "metadata": {
    "colab": {},
    "colab_type": "code",
    "id": "O55cr8UrHqnM"
   },
   "outputs": [],
   "source": [
    "sklearn_prob = clf1.predict_proba(X_test)[...,1][:10]\n",
    "statsmodels_prob =  result.predict(X_test[:10])"
   ]
  },
  {
   "cell_type": "code",
   "execution_count": null,
   "metadata": {
    "colab": {
     "base_uri": "https://localhost:8080/",
     "height": 343
    },
    "colab_type": "code",
    "executionInfo": {
     "elapsed": 328,
     "status": "ok",
     "timestamp": 1567214514360,
     "user": {
      "displayName": "Tirthajyoti Sarkar",
      "photoUrl": "https://lh3.googleusercontent.com/a-/AAuE7mD6d7dlMqdpzL4sermIF1ujmpSRxY2WnE4tuB-UsQ=s64",
      "userId": "01914075970409030121"
     },
     "user_tz": 420
    },
    "id": "KYumGbsAHDCp",
    "outputId": "3331d555-b758-480c-f4a9-bcf88fa8fb42"
   },
   "outputs": [
    {
     "data": {
      "text/html": [
       "<div>\n",
       "<style scoped>\n",
       "    .dataframe tbody tr th:only-of-type {\n",
       "        vertical-align: middle;\n",
       "    }\n",
       "\n",
       "    .dataframe tbody tr th {\n",
       "        vertical-align: top;\n",
       "    }\n",
       "\n",
       "    .dataframe thead th {\n",
       "        text-align: right;\n",
       "    }\n",
       "</style>\n",
       "<table border=\"1\" class=\"dataframe\">\n",
       "  <thead>\n",
       "    <tr style=\"text-align: right;\">\n",
       "      <th></th>\n",
       "      <th>Scikit-learn Prob</th>\n",
       "      <th>Statsmodels Prob</th>\n",
       "    </tr>\n",
       "  </thead>\n",
       "  <tbody>\n",
       "    <tr>\n",
       "      <th>0</th>\n",
       "      <td>0.009529</td>\n",
       "      <td>0.026742</td>\n",
       "    </tr>\n",
       "    <tr>\n",
       "      <th>1</th>\n",
       "      <td>0.001286</td>\n",
       "      <td>0.000780</td>\n",
       "    </tr>\n",
       "    <tr>\n",
       "      <th>2</th>\n",
       "      <td>0.000001</td>\n",
       "      <td>0.000001</td>\n",
       "    </tr>\n",
       "    <tr>\n",
       "      <th>3</th>\n",
       "      <td>0.375984</td>\n",
       "      <td>0.306287</td>\n",
       "    </tr>\n",
       "    <tr>\n",
       "      <th>4</th>\n",
       "      <td>0.000704</td>\n",
       "      <td>0.000797</td>\n",
       "    </tr>\n",
       "    <tr>\n",
       "      <th>5</th>\n",
       "      <td>0.135925</td>\n",
       "      <td>0.132377</td>\n",
       "    </tr>\n",
       "    <tr>\n",
       "      <th>6</th>\n",
       "      <td>0.016304</td>\n",
       "      <td>0.007412</td>\n",
       "    </tr>\n",
       "    <tr>\n",
       "      <th>7</th>\n",
       "      <td>0.001493</td>\n",
       "      <td>0.001065</td>\n",
       "    </tr>\n",
       "    <tr>\n",
       "      <th>8</th>\n",
       "      <td>0.778033</td>\n",
       "      <td>0.874865</td>\n",
       "    </tr>\n",
       "    <tr>\n",
       "      <th>9</th>\n",
       "      <td>0.000032</td>\n",
       "      <td>0.000161</td>\n",
       "    </tr>\n",
       "  </tbody>\n",
       "</table>\n",
       "</div>"
      ],
      "text/plain": [
       "   Scikit-learn Prob  Statsmodels Prob\n",
       "0           0.009529          0.026742\n",
       "1           0.001286          0.000780\n",
       "2           0.000001          0.000001\n",
       "3           0.375984          0.306287\n",
       "4           0.000704          0.000797\n",
       "5           0.135925          0.132377\n",
       "6           0.016304          0.007412\n",
       "7           0.001493          0.001065\n",
       "8           0.778033          0.874865\n",
       "9           0.000032          0.000161"
      ]
     },
     "execution_count": 56,
     "metadata": {
      "tags": []
     },
     "output_type": "execute_result"
    }
   ],
   "source": [
    "prob_comp_df=pd.DataFrame(data={'Scikit-learn Prob':list(sklearn_prob),'Statsmodels Prob':list(statsmodels_prob)})\n",
    "prob_comp_df"
   ]
  },
  {
   "cell_type": "markdown",
   "metadata": {
    "colab_type": "text",
    "id": "q_nNkT6NvP9-"
   },
   "source": [
    "### Coefficient interpretation\n",
    "\n",
    "What is the interpretation of the coefficient value for `age` and `FTI`?\n",
    "\n",
    "- With every one year of age increase, the **log odds of the hypothyrodism increases by 0.0248** or the odds of hypothyroidsm increases by a factor of exp(0.0248) = 1.025 i.e. almost 2.5%.\n",
    "- With every one unit of FTI increase, the **log odds of the hypothyrodism decreases by 0.1307** or the odds of hypothyroidsm decreases by a factor of exp(0.1307) = 1.1396 i.e. almost by 12.25%."
   ]
  },
  {
   "cell_type": "markdown",
   "metadata": {
    "colab_type": "text",
    "id": "z_e28quL0vvW"
   },
   "source": [
    "### Food for thought\n",
    "\n",
    "<img src=\"https://raw.githubusercontent.com/tirthajyoti/Stats-Maths-with-Python/master/images/food-for-thought.png\" width=200 height=130></img>\n",
    "\n",
    "<br>\n",
    "\n",
    "When doing **classification with deep neural networks**, should you also examine the raw probabilities (outputs from the last `sigmoid` layer for example)?\n",
    "\n",
    "This approach may be helpful for deep learning tasks, when the output of deep learning is fed to another business decision process, **where the cost of Type-I and Type-II error are vastly different**.\n",
    "\n"
   ]
  }
 ],
 "metadata": {
  "colab": {
   "collapsed_sections": [],
   "name": "Logistic_Reg_sklearn_statsmodels.ipynb",
   "provenance": [
    {
     "file_id": "https://github.com/tirthajyoti/Machine-Learning-with-Python/blob/master/Classification/Logistic_Reg_sklearn_statsmodels.ipynb",
     "timestamp": 1566417168018
    }
   ],
   "version": "0.3.2"
  },
  "kernelspec": {
   "display_name": "Python 3 (ipykernel)",
   "language": "python",
   "name": "python3"
  },
  "language_info": {
   "codemirror_mode": {
    "name": "ipython",
    "version": 3
   },
   "file_extension": ".py",
   "mimetype": "text/x-python",
   "name": "python",
   "nbconvert_exporter": "python",
   "pygments_lexer": "ipython3",
   "version": "3.10.11"
  }
 },
 "nbformat": 4,
 "nbformat_minor": 4
}
