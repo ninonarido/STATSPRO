{
 "cells": [
  {
   "cell_type": "markdown",
   "metadata": {},
   "source": [
    "## Game of chance\n",
    "\n",
    "### Prof. Nino Narido\n",
    "\n",
    "Two players play a turn-based game. The player who deals first wins the game with a 90% probability and gets to choose the dealer for the next game.\n",
    "\n",
    "Any rational person would choose herself as the dealer to maximize the chance of winning the next game too.\n",
    "\n",
    "Player 'A' gets the first chance of the first game. Obviously, player 'B' is at a disadvantage.\n",
    "\n",
    "But is she?\n",
    "\n",
    "**What happens if this game is played infinite times?**\n",
    "\n",
    "Can we simulate the game outcomes and show that this **game is symmetric in the limit of infinite repetition** i.e. no matter which players starts the game, for a large number of repeated plays, they both win the almost same number of games?\n",
    "\n",
    "<br>\n",
    "![game_of_chance](https://www.gamerbolt.com/wp-content/uploads/2017/11/dice-780x405.png)"
   ]
  },
  {
   "cell_type": "code",
   "execution_count": 1,
   "metadata": {},
   "outputs": [],
   "source": [
    "from random import randint\n",
    "from matplotlib.pyplot import plot"
   ]
  },
  {
   "cell_type": "code",
   "execution_count": 2,
   "metadata": {},
   "outputs": [],
   "source": [
    "n_games = 1000\n",
    "A_wins=0\n",
    "B_wins=0\n",
    "A_deals=True\n",
    "B_deals=False"
   ]
  },
  {
   "cell_type": "markdown",
   "metadata": {},
   "source": [
    "### Simulate a game with the given probability and assuming that the winner of a game keeps herself as the dealer for the next game"
   ]
  },
  {
   "cell_type": "code",
   "execution_count": 3,
   "metadata": {},
   "outputs": [],
   "source": [
    "for i in range(n_games):\n",
    "    if A_deals:\n",
    "        rv = randint(1,10)\n",
    "        if rv < 10:\n",
    "            A_wins+=1\n",
    "            A_deals = True\n",
    "            B_deals=False\n",
    "        else:\n",
    "            B_wins+=1  \n",
    "            B_deals=True\n",
    "            A_deals=False\n",
    "    if B_deals:\n",
    "        rv = randint(1,10)\n",
    "        if rv < 10:\n",
    "            B_wins+=1\n",
    "            B_deals = True\n",
    "            A_deals=False\n",
    "        else:\n",
    "            A_wins+=1  \n",
    "            A_deals=True\n",
    "            B_deals=False"
   ]
  },
  {
   "cell_type": "markdown",
   "metadata": {},
   "source": [
    "### Print the number of total wins. If the number of games is large (on the order of thousand) then the win numbers should be close to each other"
   ]
  },
  {
   "cell_type": "code",
   "execution_count": 4,
   "metadata": {},
   "outputs": [
    {
     "name": "stdout",
     "output_type": "stream",
     "text": [
      "477\n",
      "579\n"
     ]
    }
   ],
   "source": [
    "print(A_wins)\n",
    "print(B_wins)"
   ]
  },
  {
   "cell_type": "markdown",
   "metadata": {},
   "source": [
    "### Define a function to simulate the game for a given number of times"
   ]
  },
  {
   "cell_type": "code",
   "execution_count": 5,
   "metadata": {},
   "outputs": [],
   "source": [
    "def play_game(n_games,A_first=True,B_first=False):\n",
    "    \"\"\"\n",
    "    Simulates a game play for a certain number of times and computes the number of wins for the players\n",
    "    \"\"\"\n",
    "    A_wins=0\n",
    "    B_wins=0\n",
    "    A_deals=A_first\n",
    "    B_deals=B_first\n",
    "    for i in range(int(n_games)):\n",
    "        if A_deals:\n",
    "            rv = randint(1,10)\n",
    "            if rv < 10:\n",
    "                A_wins+=1\n",
    "                A_deals = True\n",
    "                B_deals=False\n",
    "            else:\n",
    "                B_wins+=1  \n",
    "                B_deals=True\n",
    "                A_deals=False\n",
    "        if B_deals:\n",
    "            rv = randint(1,10)\n",
    "            if rv < 10:\n",
    "                B_wins+=1\n",
    "                B_deals = True\n",
    "                A_deals=False\n",
    "            else:\n",
    "                A_wins+=1  \n",
    "                A_deals=True\n",
    "                B_deals=False\n",
    "    \n",
    "    return (A_wins,B_wins)"
   ]
  },
  {
   "cell_type": "code",
   "execution_count": 6,
   "metadata": {},
   "outputs": [
    {
     "data": {
      "text/plain": [
       "(572, 486)"
      ]
     },
     "execution_count": 6,
     "metadata": {},
     "output_type": "execute_result"
    }
   ],
   "source": [
    "play_game(1000)"
   ]
  },
  {
   "cell_type": "markdown",
   "metadata": {},
   "source": [
    "### Run the game using `play_game` function over a range of repetition and plot the A/B winning ratio. Initially the ratio will be random but it should tend to one as the number of repetitions grow"
   ]
  },
  {
   "cell_type": "code",
   "execution_count": 7,
   "metadata": {},
   "outputs": [],
   "source": [
    "a_b_ratio=[]\n",
    "for i in range(40):\n",
    "    a,b = play_game(10**(1+i/8))\n",
    "    if b!=0:\n",
    "        a_b_ratio.append(a/b)\n",
    "    else:\n",
    "        a_b_ratio.append(a/(b+1))"
   ]
  },
  {
   "cell_type": "code",
   "execution_count": 8,
   "metadata": {},
   "outputs": [
    {
     "data": {
      "text/plain": [
       "[<matplotlib.lines.Line2D at 0x1fb4a34c400>]"
      ]
     },
     "execution_count": 8,
     "metadata": {},
     "output_type": "execute_result"
    },
    {
     "data": {
      "image/png": "[encoded data removed]",
      "text/plain": [
       "<Figure size 432x288 with 1 Axes>"
      ]
     },
     "metadata": {},
     "output_type": "display_data"
    }
   ],
   "source": [
    "plot(a_b_ratio,color='k',linewidth=3)"
   ]
  }
 ],
 "metadata": {
  "kernelspec": {
   "display_name": "Python 3 (ipykernel)",
   "language": "python",
   "name": "python3"
  },
  "language_info": {
   "codemirror_mode": {
    "name": "ipython",
    "version": 3
   },
   "file_extension": ".py",
   "mimetype": "text/x-python",
   "name": "python",
   "nbconvert_exporter": "python",
   "pygments_lexer": "ipython3",
   "version": "3.10.11"
  },
  "latex_envs": {
   "LaTeX_envs_menu_present": true,
   "autoclose": false,
   "autocomplete": true,
   "bibliofile": "biblio.bib",
   "cite_by": "apalike",
   "current_citInitial": 1,
   "eqLabelWithNumbers": true,
   "eqNumInitial": 1,
   "hotkeys": {
    "equation": "Ctrl-E",
    "itemize": "Ctrl-I"
   },
   "labels_anchors": false,
   "latex_user_defs": false,
   "report_style_numbering": false,
   "user_envs_cfg": false
  }
 },
 "nbformat": 4,
 "nbformat_minor": 2
}
