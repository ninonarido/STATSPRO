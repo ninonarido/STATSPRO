{
 "cells": [
  {
   "attachments": {},
   "cell_type": "markdown",
   "metadata": {},
   "source": [
    "# Probability concepts using Python\n",
    "### Prof. Nino Narido\n",
    "\n",
    "---\n",
    "\n",
    "This notebook illustrates the concept of probability (frequntist definition) using simple scripts and functions."
   ]
  },
  {
   "cell_type": "markdown",
   "metadata": {},
   "source": [
    "## Set theory basics\n",
    "\n",
    "Set theory is a branch of mathematical logic that studies sets, which informally are collections of objects. Although any type of object can be collected into a set, set theory is applied most often to objects that are relevant to mathematics. The language of set theory can be used in the definitions of nearly all mathematical objects.\n",
    "\n",
    "**Set theory is commonly employed as a foundational system for modern mathematics**.\n",
    "\n",
    "Python offers a **native data structure called set**, which can be used as a proxy for a mathematical set for almost all purposes."
   ]
  },
  {
   "cell_type": "code",
   "execution_count": 1,
   "metadata": {},
   "outputs": [
    {
     "name": "stdout",
     "output_type": "stream",
     "text": [
      "{1, 2}\n",
      "<class 'set'>\n"
     ]
    }
   ],
   "source": [
    "# Directly with curly braces\n",
    "Set1 = {1,2}\n",
    "print (Set1)\n",
    "print(type(Set1))"
   ]
  },
  {
   "cell_type": "code",
   "execution_count": 2,
   "metadata": {},
   "outputs": [
    {
     "name": "stdout",
     "output_type": "stream",
     "text": [
      "{1, 2, 3, 4}\n"
     ]
    }
   ],
   "source": [
    "my_list=[1,2,3,4]\n",
    "my_set_from_list = set(my_list)\n",
    "print(my_set_from_list)"
   ]
  },
  {
   "cell_type": "markdown",
   "metadata": {},
   "source": [
    "### Membership testing with `in` and `not in`"
   ]
  },
  {
   "cell_type": "code",
   "execution_count": 3,
   "metadata": {},
   "outputs": [
    {
     "name": "stdout",
     "output_type": "stream",
     "text": [
      "Here is my set: {1, 3, 5}\n",
      "1 is in the set: True\n",
      "2 is in the set: False\n",
      "4 is NOT in the set: True\n"
     ]
    }
   ],
   "source": [
    "my_set = set([1,3,5])\n",
    "print(\"Here is my set:\",my_set)\n",
    "print(\"1 is in the set:\",1 in my_set)\n",
    "print(\"2 is in the set:\",2 in my_set)\n",
    "print(\"4 is NOT in the set:\",4 not in my_set)"
   ]
  },
  {
   "cell_type": "markdown",
   "metadata": {},
   "source": [
    "### Set relations\n",
    "* **Subset**\n",
    "* **Superset**\n",
    "* **Disjoint**\n",
    "* **Universal set**\n",
    "* **Null set**"
   ]
  },
  {
   "cell_type": "code",
   "execution_count": 4,
   "metadata": {},
   "outputs": [],
   "source": [
    "Univ = set([x for x in range(11)])\n",
    "Super = set([x for x in range(11) if x%2==0])\n",
    "disj = set([x for x in range(11) if x%2==1])\n",
    "Sub = set([4,6])\n",
    "Null = set([x for x in range(11) if x>10])"
   ]
  },
  {
   "cell_type": "code",
   "execution_count": 5,
   "metadata": {},
   "outputs": [
    {
     "name": "stdout",
     "output_type": "stream",
     "text": [
      "Universal set (all the positive integers up to 10): {0, 1, 2, 3, 4, 5, 6, 7, 8, 9, 10}\n",
      "All the even positive integers up to 10: {0, 2, 4, 6, 8, 10}\n",
      "All the odd positive integers up to 10: {1, 3, 5, 7, 9}\n",
      "Set of 2 elements, 4 and 6: {4, 6}\n",
      "A null set: set()\n"
     ]
    }
   ],
   "source": [
    "print(\"Universal set (all the positive integers up to 10):\",Univ)\n",
    "print(\"All the even positive integers up to 10:\",Super)\n",
    "print(\"All the odd positive integers up to 10:\",disj)\n",
    "print(\"Set of 2 elements, 4 and 6:\",Sub)\n",
    "print(\"A null set:\", Null)"
   ]
  },
  {
   "cell_type": "code",
   "execution_count": 6,
   "metadata": {},
   "outputs": [
    {
     "name": "stdout",
     "output_type": "stream",
     "text": [
      "Is \"Super\" a superset of \"Sub\"? True\n",
      "Is \"Super\" a subset of \"Univ\"? True\n",
      "Is \"Sub\" a superset of \"Super\"? False\n",
      "Is \"Super\" disjoint with \"disj\"? True\n"
     ]
    }
   ],
   "source": [
    "print('Is \"Super\" a superset of \"Sub\"?',Super.issuperset(Sub))\n",
    "print('Is \"Super\" a subset of \"Univ\"?',Super.issubset(Univ))\n",
    "print('Is \"Sub\" a superset of \"Super\"?',Sub.issuperset(Super))\n",
    "print('Is \"Super\" disjoint with \"disj\"?',Sub.isdisjoint(disj))"
   ]
  },
  {
   "cell_type": "markdown",
   "metadata": {},
   "source": [
    "### Set algebra/Operations\n",
    "* **Equality**\n",
    "* **Intersection**\n",
    "* **Union**\n",
    "* **Complement**\n",
    "* **Difference**\n",
    "* **Cartesian product**"
   ]
  },
  {
   "cell_type": "code",
   "execution_count": 7,
   "metadata": {},
   "outputs": [
    {
     "name": "stdout",
     "output_type": "stream",
     "text": [
      "S1 and S2 are equal because order or repetition of elements do not matter for sets\n",
      "S1==S2: True\n"
     ]
    }
   ],
   "source": [
    "S1 = {1,2}\n",
    "S2 = {2,2,1,1,2}\n",
    "print (\"S1 and S2 are equal because order or repetition of elements do not matter for sets\\nS1==S2:\", S1==S2)"
   ]
  },
  {
   "cell_type": "code",
   "execution_count": 8,
   "metadata": {},
   "outputs": [
    {
     "name": "stdout",
     "output_type": "stream",
     "text": [
      "S1 and S2 are NOT equal because at least one element is different\n",
      "S1==S2: False\n"
     ]
    }
   ],
   "source": [
    "S1 = {1,2,3,4,5,6}\n",
    "S2 = {1,2,3,4,0,6}\n",
    "print (\"S1 and S2 are NOT equal because at least one element is different\\nS1==S2:\", S1==S2)"
   ]
  },
  {
   "cell_type": "markdown",
   "metadata": {},
   "source": [
    "In mathematics, the intersection A ∩ B of two sets A and B is the set that contains all elements of A that also belong to B (or equivalently, all elements of B that also belong to A), but no other elements. Formally,\n",
    "\n",
    "$$  {\\displaystyle A\\cap B=\\{x:x\\in A{\\text{ and }}x\\in B\\}.} $$\n",
    "\n",
    "![3 sets intersection](https://upload.wikimedia.org/wikipedia/commons/3/3e/Venn_0000_0001.svg)"
   ]
  },
  {
   "cell_type": "code",
   "execution_count": 9,
   "metadata": {},
   "outputs": [
    {
     "name": "stdout",
     "output_type": "stream",
     "text": [
      "S1: {9, 3, 6}\n"
     ]
    }
   ],
   "source": [
    "# Define a set using list comprehension\n",
    "S1 = set([x for x in range(1,11) if x%3==0])\n",
    "print(\"S1:\", S1)"
   ]
  },
  {
   "cell_type": "code",
   "execution_count": 10,
   "metadata": {},
   "outputs": [
    {
     "name": "stdout",
     "output_type": "stream",
     "text": [
      "S2: {1, 2, 3, 4, 5, 6}\n"
     ]
    }
   ],
   "source": [
    "S2 = set([x for x in range(1,7)])\n",
    "print(\"S2:\", S2)"
   ]
  },
  {
   "cell_type": "code",
   "execution_count": 11,
   "metadata": {},
   "outputs": [
    {
     "name": "stdout",
     "output_type": "stream",
     "text": [
      "Intersection of S1 and S2: {3, 6}\n",
      "Intersection of S1 and S2: {3, 6}\n"
     ]
    }
   ],
   "source": [
    "# Both intersection method or & can be used\n",
    "S_intersection = S1.intersection(S2)\n",
    "print(\"Intersection of S1 and S2:\", S_intersection)\n",
    "\n",
    "S_intersection = S1 & S2\n",
    "print(\"Intersection of S1 and S2:\", S_intersection)"
   ]
  },
  {
   "cell_type": "code",
   "execution_count": 12,
   "metadata": {},
   "outputs": [
    {
     "name": "stdout",
     "output_type": "stream",
     "text": [
      "S3: {8, 9, 6, 7}\n",
      "Intersection of S1, S2, and S3: {6}\n"
     ]
    }
   ],
   "source": [
    "S3 = set([x for x in range(6,10)])\n",
    "print(\"S3:\", S3)\n",
    "S1_S2_S3 = S1.intersection(S2).intersection(S3)\n",
    "print(\"Intersection of S1, S2, and S3:\", S1_S2_S3)"
   ]
  },
  {
   "cell_type": "markdown",
   "metadata": {},
   "source": [
    "In set theory, the union (denoted by ∪) of a collection of sets is the set of all elements in the collection. It is one of the fundamental operations through which sets can be combined and related to each other. Formally,\n",
    "\n",
    "$$ {A\\cup B=\\{x:x\\in A{\\text{ or }}x\\in B\\}} $$\n",
    "\n",
    "![Union of sets](https://upload.wikimedia.org/wikipedia/commons/e/ee/Venn_0111_1111.svg)"
   ]
  },
  {
   "cell_type": "code",
   "execution_count": 13,
   "metadata": {},
   "outputs": [
    {
     "name": "stdout",
     "output_type": "stream",
     "text": [
      "S1: {9, 3, 6}\n",
      "S2: {1, 2, 3, 4}\n",
      "Union of S1 and S2: {1, 2, 3, 4, 6, 9}\n",
      "Union of S1 and S2: {1, 2, 3, 4, 6, 9}\n"
     ]
    }
   ],
   "source": [
    "# Both union method or | can be used\n",
    "S1 = set([x for x in range(1,11) if x%3==0])\n",
    "print(\"S1:\", S1)\n",
    "S2 = set([x for x in range(1,5)])\n",
    "print(\"S2:\", S2)\n",
    "\n",
    "S_union = S1.union(S2)\n",
    "print(\"Union of S1 and S2:\", S_union)\n",
    "S_union = S1 | S2\n",
    "print(\"Union of S1 and S2:\", S_union)"
   ]
  },
  {
   "cell_type": "markdown",
   "metadata": {},
   "source": [
    "### Set algebra laws\n",
    "\n",
    "**Commutative law:** \n",
    "$$ {\\displaystyle A\\cap B=B\\cap A} $$\n",
    "$$ {\\displaystyle A\\cup (B\\cup C)=(A\\cup B)\\cup C} $$\n",
    "\n",
    "**Associative law:**\n",
    "$$ {\\displaystyle (A\\cap B)\\cap C=A\\cap (B\\cap C)} $$\n",
    "$$ {\\displaystyle A\\cap (B\\cup C)=(A\\cap B)\\cup (A\\cap C)} $$\n",
    "\n",
    "**Distributive law:**\n",
    "$$ {\\displaystyle A\\cap (B\\cup C)=(A\\cap B)\\cup (A\\cap C)} $$\n",
    "$$ {\\displaystyle A\\cup (B\\cap C)=(A\\cup B)\\cap (A\\cup C)} $$ "
   ]
  },
  {
   "cell_type": "markdown",
   "metadata": {},
   "source": [
    "### Complement\n",
    "\n",
    "If A is a set, then the absolute complement of A (or simply the complement of A) is the set of elements not in A. In other words, if U is the universe that contains all the elements under study, and there is no need to mention it because it is obvious and unique, then the absolute complement of A is the relative complement of A in U. Formally,\n",
    "\n",
    "$$ {\\displaystyle A^{\\complement }=\\{x\\in U\\mid x\\notin A\\}.} $$\n",
    "\n",
    "You can take the union of two sets and if that is equal to the universal set (in the context of your problem), then you have found the right complement"
   ]
  },
  {
   "cell_type": "code",
   "execution_count": 14,
   "metadata": {},
   "outputs": [
    {
     "name": "stdout",
     "output_type": "stream",
     "text": [
      "S is the set of even numbers between 0 and 20: {0, 2, 4, 6, 8, 10, 12, 14, 16, 18, 20}\n"
     ]
    }
   ],
   "source": [
    "S=set([x for x in range (21) if x%2==0])\n",
    "print (\"S is the set of even numbers between 0 and 20:\", S)"
   ]
  },
  {
   "cell_type": "code",
   "execution_count": 15,
   "metadata": {},
   "outputs": [
    {
     "name": "stdout",
     "output_type": "stream",
     "text": [
      "S_complement is the set of odd numbers between 0 and 20: {1, 3, 5, 7, 9, 11, 13, 15, 17, 19}\n"
     ]
    }
   ],
   "source": [
    "S_complement = set([x for x in range (21) if x%2!=0])\n",
    "print (\"S_complement is the set of odd numbers between 0 and 20:\", S_complement)"
   ]
  },
  {
   "cell_type": "code",
   "execution_count": 16,
   "metadata": {},
   "outputs": [
    {
     "name": "stdout",
     "output_type": "stream",
     "text": [
      "Is the union of S and S_complement equal to all numbers between 0 and 20? True\n"
     ]
    }
   ],
   "source": [
    "print (\"Is the union of S and S_complement equal to all numbers between 0 and 20?\", \n",
    "       S.union(S_complement)==set([x for x in range (21)]))"
   ]
  },
  {
   "cell_type": "markdown",
   "metadata": {},
   "source": [
    "**De Morgan's laws**\n",
    "\n",
    "$$ {\\displaystyle \\left(A\\cup B\\right)^{\\complement }=A^{\\complement }\\cap B^{\\complement }.} $$\n",
    "\n",
    "$$ {\\displaystyle \\left(A\\cap B\\right)^{\\complement }=A^{\\complement }\\cup B^{\\complement }.} $$\n",
    "\n",
    "**Complement laws**\n",
    "\n",
    "$$ {\\displaystyle A\\cup A^{\\complement }=U.} $$\n",
    "\n",
    "$$ {\\displaystyle A\\cap A^{\\complement }=\\varnothing .} $$\n",
    "\n",
    "$$ {\\displaystyle \\varnothing ^{\\complement }=U.} $$\n",
    "\n",
    "$$ {\\displaystyle U^{\\complement }=\\varnothing .} $$\n",
    "\n",
    "$$ {\\displaystyle {\\text{If }}A\\subset B{\\text{, then }}B^{\\complement }\\subset A^{\\complement }.} $$"
   ]
  },
  {
   "cell_type": "markdown",
   "metadata": {},
   "source": [
    "### Difference between sets\n",
    "\n",
    "If A and B are sets, then the relative complement of A in B, also termed the set-theoretic difference of B and A, is the **set of elements in B but not in A**.\n",
    "\n",
    "$$ {\\displaystyle B\\setminus A=\\{x\\in B\\mid x\\notin A\\}.} $$\n",
    "\n",
    "![Set difference](https://upload.wikimedia.org/wikipedia/commons/5/5a/Venn0010.svg)"
   ]
  },
  {
   "cell_type": "code",
   "execution_count": 17,
   "metadata": {},
   "outputs": [
    {
     "name": "stdout",
     "output_type": "stream",
     "text": [
      "Set S1: {0, 3, 6, 9, 12, 15, 18, 21, 24, 27, 30}\n"
     ]
    }
   ],
   "source": [
    "S1 = set([x for x in range(31) if x%3==0])\n",
    "print (\"Set S1:\", S1)"
   ]
  },
  {
   "cell_type": "code",
   "execution_count": 18,
   "metadata": {},
   "outputs": [
    {
     "name": "stdout",
     "output_type": "stream",
     "text": [
      "Set S2: {0, 5, 10, 15, 20, 25, 30}\n"
     ]
    }
   ],
   "source": [
    "S2 = set([x for x in range(31) if x%5==0])\n",
    "print (\"Set S2:\", S2)"
   ]
  },
  {
   "cell_type": "code",
   "execution_count": 19,
   "metadata": {},
   "outputs": [
    {
     "name": "stdout",
     "output_type": "stream",
     "text": [
      "Difference of S1 and S2 i.e. S2\\S1: {25, 10, 20, 5}\n",
      "Difference of S2 and S1 i.e. S1\\S2: {3, 6, 9, 12, 18, 21, 24, 27}\n"
     ]
    }
   ],
   "source": [
    "S_difference = S2-S1\n",
    "print(\"Difference of S1 and S2 i.e. S2\\S1:\", S_difference)\n",
    "\n",
    "S_difference = S1.difference(S2)\n",
    "print(\"Difference of S2 and S1 i.e. S1\\S2:\", S_difference)"
   ]
  },
  {
   "cell_type": "markdown",
   "metadata": {},
   "source": [
    "**Following identities can be obtained with algebraic manipulation: **\n",
    "\n",
    "$$ {\\displaystyle C\\setminus (A\\cap B)=(C\\setminus A)\\cup (C\\setminus B)} $$\n",
    "$$ {\\displaystyle C\\setminus (A\\cup B)=(C\\setminus A)\\cap (C\\setminus B)} $$\n",
    "$$ {\\displaystyle C\\setminus (B\\setminus A)=(C\\cap A)\\cup (C\\setminus B)} $$\n",
    "$$ {\\displaystyle C\\setminus (C\\setminus A)=(C\\cap A)} $$\n",
    "$$ {\\displaystyle (B\\setminus A)\\cap C=(B\\cap C)\\setminus A=B\\cap (C\\setminus A)} $$\n",
    "$$ {\\displaystyle (B\\setminus A)\\cup C=(B\\cup C)\\setminus (A\\setminus C)} $$      \n",
    "$$ {\\displaystyle A\\setminus A=\\emptyset} $$\n",
    "$$ {\\displaystyle \\emptyset \\setminus A=\\emptyset } $$\n",
    "$$ {\\displaystyle A\\setminus \\emptyset =A} $$\n",
    "$$ {\\displaystyle A\\setminus U=\\emptyset } $$"
   ]
  },
  {
   "cell_type": "markdown",
   "metadata": {},
   "source": [
    "### Symmetric difference\n",
    "\n",
    "In set theory, the ***symmetric difference***, also known as the ***disjunctive union***, of two sets is the set of elements which are in either of the sets and not in their intersection.\n",
    "$$ {\\displaystyle A\\,\\triangle \\,B=\\{x:(x\\in A)\\oplus (x\\in B)\\}}$$ \n",
    "\n",
    "$$ {\\displaystyle A\\,\\triangle \\,B=(A\\smallsetminus B)\\cup (B\\smallsetminus A)} $$\n",
    "\n",
    "$${\\displaystyle A\\,\\triangle \\,B=(A\\cup B)\\smallsetminus (A\\cap B)} $$\n",
    "\n",
    "**Some properties,**\n",
    "\n",
    "$$ {\\displaystyle A\\,\\triangle \\,B=B\\,\\triangle \\,A,} $$\n",
    "$$ {\\displaystyle (A\\,\\triangle \\,B)\\,\\triangle \\,C=A\\,\\triangle \\,(B\\,\\triangle \\,C).} $$\n",
    "\n",
    "**The empty set is neutral, and every set is its own inverse:**\n",
    "\n",
    "$$ {\\displaystyle A\\,\\triangle \\,\\varnothing =A,} $$\n",
    "$$ {\\displaystyle A\\,\\triangle \\,A=\\varnothing .} $$"
   ]
  },
  {
   "cell_type": "code",
   "execution_count": 20,
   "metadata": {},
   "outputs": [
    {
     "name": "stdout",
     "output_type": "stream",
     "text": [
      "S1 {0, 3, 6, 9, 12, 15, 18, 21, 24, 27, 30}\n",
      "S2 {0, 5, 10, 15, 20, 25, 30}\n",
      "Symmetric difference {3, 5, 6, 9, 10, 12, 18, 20, 21, 24, 25, 27}\n",
      "Symmetric difference {3, 5, 6, 9, 10, 12, 18, 20, 21, 24, 25, 27}\n"
     ]
    }
   ],
   "source": [
    "print(\"S1\",S1)\n",
    "print(\"S2\",S2)\n",
    "print(\"Symmetric difference\", S1^S2)\n",
    "print(\"Symmetric difference\", S2.symmetric_difference(S1))"
   ]
  },
  {
   "cell_type": "markdown",
   "metadata": {},
   "source": [
    "### Cartesian product\n",
    "\n",
    "In set theory (and, usually, in other parts of mathematics), a Cartesian product is a mathematical operation that returns a set (or product set or simply product) from multiple sets. That is, for sets A and B, the Cartesian product A × B is the set of all ordered pairs (a, b) where a ∈ A and b ∈ B.\n",
    "\n",
    "$$ {\\displaystyle A\\times B=\\{\\,(a,b)\\mid a\\in A\\ {\\mbox{ and }}\\ b\\in B\\,\\}.} $$\n",
    "\n",
    "More generally, a Cartesian product of n sets, also known as an n-fold Cartesian product, can be represented by an array of n dimensions, where each element is an *n-tuple*. An ordered pair is a *2-tuple* or couple. The Cartesian product is named after [René Descartes](https://en.wikipedia.org/wiki/Ren%C3%A9_Descartes) whose formulation of analytic geometry gave rise to the concept."
   ]
  },
  {
   "cell_type": "code",
   "execution_count": 21,
   "metadata": {},
   "outputs": [],
   "source": [
    "A = set(['a','b','c'])\n",
    "S = {1,2,3}"
   ]
  },
  {
   "cell_type": "code",
   "execution_count": 22,
   "metadata": {},
   "outputs": [],
   "source": [
    "def cartesian_product(S1,S2):\n",
    "    result = set()\n",
    "    for i in S1:\n",
    "        for j in S2:\n",
    "            result.add(tuple([i,j]))\n",
    "    return (result)"
   ]
  },
  {
   "cell_type": "code",
   "execution_count": 23,
   "metadata": {},
   "outputs": [
    {
     "name": "stdout",
     "output_type": "stream",
     "text": [
      "Cartesian product of A and S\n",
      "{'b', 'c', 'a'} X {1, 2, 3}:{('a', 1), ('a', 2), ('b', 1), ('a', 3), ('b', 2), ('b', 3), ('c', 1), ('c', 2), ('c', 3)}\n"
     ]
    }
   ],
   "source": [
    "C = cartesian_product(A,S)\n",
    "print(\"Cartesian product of A and S\\n{} X {}:{}\".format(A,S,C))"
   ]
  },
  {
   "cell_type": "code",
   "execution_count": 24,
   "metadata": {},
   "outputs": [
    {
     "name": "stdout",
     "output_type": "stream",
     "text": [
      "Length of the Cartesian product set: 9\n"
     ]
    }
   ],
   "source": [
    "print(\"Length of the Cartesian product set:\",len(C))"
   ]
  },
  {
   "cell_type": "markdown",
   "metadata": {},
   "source": [
    "Note that because these are ordered pairs, **same element can be repeated inside the pair** i.e. even if two sets contain some identical elements, they can be paired up in the Cartesian product.\n",
    "\n",
    "Instead of writing functions ourselves, we could use the **`itertools`** library of Python. Remember to **turn the resulting product object** into a list for viewing and subsequent processing."
   ]
  },
  {
   "cell_type": "code",
   "execution_count": 25,
   "metadata": {},
   "outputs": [],
   "source": [
    "from itertools import product as prod"
   ]
  },
  {
   "cell_type": "code",
   "execution_count": 26,
   "metadata": {},
   "outputs": [
    {
     "name": "stdout",
     "output_type": "stream",
     "text": [
      "A is set of all possible throws of a dice: {1, 2, 3, 4, 5, 6}\n",
      "B is set of all possible throws of a dice: {1, 2, 3, 4, 5, 6}\n",
      "\n",
      "Product of A and B is the all possible combinations of A and B thrown together:\n",
      " [(1, 1), (1, 2), (1, 3), (1, 4), (1, 5), (1, 6), (2, 1), (2, 2), (2, 3), (2, 4), (2, 5), (2, 6), (3, 1), (3, 2), (3, 3), (3, 4), (3, 5), (3, 6), (4, 1), (4, 2), (4, 3), (4, 4), (4, 5), (4, 6), (5, 1), (5, 2), (5, 3), (5, 4), (5, 5), (5, 6), (6, 1), (6, 2), (6, 3), (6, 4), (6, 5), (6, 6)]\n"
     ]
    }
   ],
   "source": [
    "A = set([x for x in range(1,7)])\n",
    "B = set([x for x in range(1,7)])\n",
    "p=list(prod(A,B))\n",
    "\n",
    "print(\"A is set of all possible throws of a dice:\",A)\n",
    "print(\"B is set of all possible throws of a dice:\",B)\n",
    "print (\"\\nProduct of A and B is the all possible combinations of A and B thrown together:\\n\",p)"
   ]
  },
  {
   "cell_type": "markdown",
   "metadata": {},
   "source": [
    "### Cartesian Power\n",
    "\n",
    "The Cartesian square (or binary Cartesian product) of a set X is the Cartesian product $X^2 = X × X$. An example is the 2-dimensional plane $R^2 = R × R$ where _R_ is the set of real numbers: $R^2$ is the set of all points (_x_,_y_) where _x_ and _y_ are real numbers (see the [Cartesian coordinate system](https://en.wikipedia.org/wiki/Cartesian_coordinate_system)).\n",
    "\n",
    "The cartesian power of a set X can be defined as:\n",
    "\n",
    "${\\displaystyle X^{n}=\\underbrace {X\\times X\\times \\cdots \\times X} _{n}=\\{(x_{1},\\ldots ,x_{n})\\ |\\ x_{i}\\in X{\\text{ for all }}i=1,\\ldots ,n\\}.} $\n",
    "\n",
    "The [cardinality of a set](https://en.wikipedia.org/wiki/Cardinality) is the number of elements of the set. Cardinality of a Cartesian power set is $|S|^{n}$ where |S| is the cardinality of the set _S_ and _n_ is the power.\n",
    "\n",
    "__We can easily use itertools again for calculating Cartesian power__. The `repeat` parameter is used as power."
   ]
  },
  {
   "cell_type": "code",
   "execution_count": 27,
   "metadata": {},
   "outputs": [
    {
     "name": "stdout",
     "output_type": "stream",
     "text": [
      "Cartesian power 2 with length 4: [('Tail', 'Tail'), ('Tail', 'Head'), ('Head', 'Tail'), ('Head', 'Head')]\n",
      "\n",
      "Cartesian power 3 with length 8: [('Tail', 'Tail', 'Tail'), ('Tail', 'Tail', 'Head'), ('Tail', 'Head', 'Tail'), ('Tail', 'Head', 'Head'), ('Head', 'Tail', 'Tail'), ('Head', 'Tail', 'Head'), ('Head', 'Head', 'Tail'), ('Head', 'Head', 'Head')]\n"
     ]
    }
   ],
   "source": [
    "A = {'Head','Tail'} # 2 element set\n",
    "p2=list(prod(A,repeat=2)) # Power set of power 2\n",
    "print(\"Cartesian power 2 with length {}: {}\".format(len(p2),p2))\n",
    "print()\n",
    "p3=list(prod(A,repeat=3)) # Power set of power 3\n",
    "print(\"Cartesian power 3 with length {}: {}\".format(len(p3),p3))"
   ]
  },
  {
   "cell_type": "markdown",
   "metadata": {},
   "source": [
    "---"
   ]
  },
  {
   "cell_type": "markdown",
   "metadata": {},
   "source": [
    "## Permutations\n",
    "\n",
    "In mathematics, the notion of permutation relates to the **act of arranging all the members of a set into some sequence or order**, or if the set is already ordered, rearranging (reordering) its elements, a process called __permuting__. The study of permutations of finite sets is a topic in the field of [combinatorics](https://en.wikipedia.org/wiki/Combinatorics). \n",
    "\n",
    "We find the number of $k$-permutations of $A$, first by determining the set of permutations and then by calculating $\\frac{|A|!}{(|A|-k)!}$. We first consider the special case of $k=|A|$, which is equivalent to finding the number of ways of ordering the elements of $A$. "
   ]
  },
  {
   "cell_type": "code",
   "execution_count": 28,
   "metadata": {},
   "outputs": [],
   "source": [
    "import itertools"
   ]
  },
  {
   "cell_type": "code",
   "execution_count": 29,
   "metadata": {},
   "outputs": [],
   "source": [
    "A = {'Red','Green','Blue'}"
   ]
  },
  {
   "cell_type": "code",
   "execution_count": 30,
   "metadata": {},
   "outputs": [
    {
     "name": "stdout",
     "output_type": "stream",
     "text": [
      "Permutations of {'Blue', 'Red', 'Green'}\n",
      "--------------------------------------------------\n",
      "('Red', 'Green', 'Blue')\n",
      "('Green', 'Red', 'Blue')\n",
      "('Blue', 'Red', 'Green')\n",
      "('Green', 'Blue', 'Red')\n",
      "('Red', 'Blue', 'Green')\n",
      "('Blue', 'Green', 'Red')\n",
      "--------------------------------------------------\n",
      "Number of permutations:  6\n"
     ]
    }
   ],
   "source": [
    "# Find all permutations of A\n",
    "permute_all = set(itertools.permutations(A))\n",
    "print(\"Permutations of {}\".format(A))\n",
    "print(\"-\"*50)\n",
    "for i in permute_all:\n",
    "    print(i)\n",
    "print(\"-\"*50)\n",
    "print;print (\"Number of permutations: \", len(permute_all))"
   ]
  },
  {
   "cell_type": "code",
   "execution_count": 31,
   "metadata": {},
   "outputs": [],
   "source": [
    "import matplotlib.patches as mpatches\n",
    "import matplotlib.pyplot as plt"
   ]
  },
  {
   "cell_type": "code",
   "execution_count": 32,
   "metadata": {},
   "outputs": [],
   "source": [
    "from math import factorial"
   ]
  },
  {
   "cell_type": "code",
   "execution_count": 33,
   "metadata": {},
   "outputs": [
    {
     "name": "stdout",
     "output_type": "stream",
     "text": [
      "Factorial of 3: 6\n"
     ]
    }
   ],
   "source": [
    "print(\"Factorial of 3:\", factorial(3))"
   ]
  },
  {
   "cell_type": "markdown",
   "metadata": {},
   "source": [
    "### Selecting _k_ items out of a set containing _n_ items and permuting "
   ]
  },
  {
   "cell_type": "code",
   "execution_count": 34,
   "metadata": {},
   "outputs": [],
   "source": [
    "A = {'Red','Green','Blue','Violet'}\n",
    "k=2"
   ]
  },
  {
   "cell_type": "code",
   "execution_count": 35,
   "metadata": {},
   "outputs": [
    {
     "name": "stdout",
     "output_type": "stream",
     "text": [
      "2-permutations of {'Blue', 'Red', 'Green', 'Violet'}:  \n",
      "--------------------------------------------------\n",
      "('Blue', 'Red')\n",
      "('Blue', 'Green')\n",
      "('Blue', 'Violet')\n",
      "('Red', 'Blue')\n",
      "('Red', 'Green')\n",
      "('Red', 'Violet')\n",
      "('Green', 'Blue')\n",
      "('Green', 'Red')\n",
      "('Green', 'Violet')\n",
      "('Violet', 'Blue')\n",
      "('Violet', 'Red')\n",
      "('Violet', 'Green')\n",
      "--------------------------------------------------\n",
      "Size of the permutation set = 4!/(4-2)! = 12\n"
     ]
    }
   ],
   "source": [
    "n = len(A)\n",
    "permute_k = list(itertools.permutations(A, k))\n",
    "print(\"{}-permutations of {}:  \".format(k,A))\n",
    "print(\"-\"*50)\n",
    "for i in permute_k:\n",
    "    print(i)\n",
    "print(\"-\"*50)\n",
    "print (\"Size of the permutation set = {}!/({}-{})! = {}\".format(n,n,k, len(permute_k)))"
   ]
  },
  {
   "cell_type": "code",
   "execution_count": 36,
   "metadata": {},
   "outputs": [
    {
     "data": {
      "text/plain": [
       "12.0"
      ]
     },
     "execution_count": 36,
     "metadata": {},
     "output_type": "execute_result"
    }
   ],
   "source": [
    "factorial(4)/(factorial(4-2))"
   ]
  },
  {
   "cell_type": "markdown",
   "metadata": {},
   "source": [
    "## Combinations\n",
    "\n",
    "Combinatorics is an area of mathematics primarily concerned with counting, both as a means and an end in obtaining results, and certain properties of finite structures. It is closely related to many other areas of mathematics and has many applications ranging from logic to statistical physics, from evolutionary biology to computer science, etc.\n",
    "\n",
    "Combinatorics is well known for the breadth of the problems it tackles. Combinatorial problems arise in many areas of pure mathematics, notably in algebra, [probability theory](https://en.wikipedia.org/wiki/Probability_theory), [topology](https://en.wikipedia.org/wiki/Topology), and geometry, as well as in its many application areas. Many combinatorial questions have historically been considered in isolation, giving an _ad hoc_ solution to a problem arising in some mathematical context. In the later twentieth century, however, powerful and general theoretical methods were developed, making combinatorics into an independent branch of mathematics in its own right. One of the oldest and most accessible parts of combinatorics is [graph theory](https://en.wikipedia.org/wiki/Graph_theory), which by itself has numerous natural connections to other areas. Combinatorics is used frequently in computer science to obtain formulas and estimates in the [analysis of algorithms](https://en.wikipedia.org/wiki/Analysis_of_algorithms).\n",
    "\n",
    "We find the number of $k$-combinations of $A$, first by determining the set of combinations and then by simply calculating:\n",
    "$$\\frac{|A|!}{k!\\times(|A|-k)!}$$\n",
    "\n",
    "**In combination, order matters, unlike permutations.**"
   ]
  },
  {
   "cell_type": "code",
   "execution_count": 37,
   "metadata": {},
   "outputs": [
    {
     "name": "stdout",
     "output_type": "stream",
     "text": [
      "2-combinations of {'Blue', 'Red', 'Green', 'Violet'}:  \n",
      "('Blue', 'Red')\n",
      "('Blue', 'Green')\n",
      "('Blue', 'Violet')\n",
      "('Red', 'Green')\n",
      "('Red', 'Violet')\n",
      "('Green', 'Violet')\n",
      "Number of combinations = 4!/(2!(4-2)!) = 6\n"
     ]
    }
   ],
   "source": [
    "# Print all the k-combinations of A\n",
    "choose_k = list(itertools.combinations(A,k))\n",
    "print(\"%i-combinations of %s:  \" %(k,A))\n",
    "for i in choose_k:\n",
    "    print(i)\n",
    "print;print(\"Number of combinations = %i!/(%i!(%i-%i)!) = %i\" %(n,k,n,k,len(choose_k)  ))"
   ]
  },
  {
   "cell_type": "markdown",
   "metadata": {},
   "source": [
    "## Putting it all together - some probability calculation examples"
   ]
  },
  {
   "cell_type": "markdown",
   "metadata": {},
   "source": [
    "### Problem 1: Two dice\n",
    "Two dice are rolled together. What is the probability of getting a total which is a multiple of 3?"
   ]
  },
  {
   "cell_type": "code",
   "execution_count": 38,
   "metadata": {},
   "outputs": [],
   "source": [
    "n_dice = 2\n",
    "dice_faces = {1,2,3,4,5,6}\n",
    "\n",
    "# Construct the event space i.e. set of ALL POSSIBLE events\n",
    "event_space = set(prod(dice_faces,repeat=n_dice))"
   ]
  },
  {
   "cell_type": "code",
   "execution_count": 39,
   "metadata": {},
   "outputs": [
    {
     "name": "stdout",
     "output_type": "stream",
     "text": [
      "(1, 3), (6, 6), (5, 6), (2, 1), (6, 2), (1, 6), (5, 1), (2, 5), (1, 2), (3, 3), (5, 5), (4, 4), (6, 3), (1, 5), (3, 6), (2, 2), (4, 1), (1, 1), (6, 4), (3, 2), (2, 6), (5, 4), (4, 5), (5, 2), (1, 4), (2, 3), (4, 2), (6, 5), (3, 5), (5, 3), (4, 6), (6, 1), (3, 1), (4, 3), (3, 4), (2, 4), "
     ]
    }
   ],
   "source": [
    "for outcome in event_space:\n",
    "    print(outcome,end=', ')"
   ]
  },
  {
   "cell_type": "code",
   "execution_count": 40,
   "metadata": {},
   "outputs": [],
   "source": [
    "# What is the set we are interested in?\n",
    "favorable_outcome = []\n",
    "for outcome in event_space:\n",
    "    x,y = outcome\n",
    "    if (x+y)%3==0:\n",
    "        favorable_outcome.append(outcome)\n",
    "favorable_outcome = set(favorable_outcome)"
   ]
  },
  {
   "cell_type": "code",
   "execution_count": 41,
   "metadata": {},
   "outputs": [
    {
     "name": "stdout",
     "output_type": "stream",
     "text": [
      "(1, 2), (5, 4), (3, 3), (6, 6), (4, 5), (2, 1), (6, 3), (1, 5), (3, 6), (4, 2), (5, 1), (2, 4), "
     ]
    }
   ],
   "source": [
    "for f_outcome in favorable_outcome:\n",
    "    print(f_outcome,end=', ')"
   ]
  },
  {
   "cell_type": "code",
   "execution_count": 42,
   "metadata": {},
   "outputs": [],
   "source": [
    "prob = len(favorable_outcome)/len(event_space)"
   ]
  },
  {
   "cell_type": "code",
   "execution_count": 43,
   "metadata": {},
   "outputs": [
    {
     "name": "stdout",
     "output_type": "stream",
     "text": [
      "The probability of getting a sum which is a multiple of 3 is:  0.3333333333333333\n"
     ]
    }
   ],
   "source": [
    "print(\"The probability of getting a sum which is a multiple of 3 is: \", prob)"
   ]
  },
  {
   "cell_type": "markdown",
   "metadata": {},
   "source": [
    "### Problem 2: Five dice!\n",
    "Five dice are rolled together. What is the probability of getting a total which is a multiple of 5 but not a multiple of 3?"
   ]
  },
  {
   "cell_type": "code",
   "execution_count": 44,
   "metadata": {},
   "outputs": [],
   "source": [
    "n_dice = 5\n",
    "dice_faces = {1,2,3,4,5,6}\n",
    "\n",
    "# Construct the event space i.e. set of ALL POSSIBLE events\n",
    "event_space = set(prod(dice_faces,repeat=n_dice))"
   ]
  },
  {
   "cell_type": "code",
   "execution_count": 45,
   "metadata": {},
   "outputs": [
    {
     "data": {
      "text/plain": [
       "7776"
      ]
     },
     "execution_count": 45,
     "metadata": {},
     "output_type": "execute_result"
    }
   ],
   "source": [
    "6**5"
   ]
  },
  {
   "cell_type": "code",
   "execution_count": 46,
   "metadata": {},
   "outputs": [],
   "source": [
    "# What is the set we are interested in?\n",
    "favorable_outcome = []\n",
    "for outcome in event_space:\n",
    "    d1,d2,d3,d4,d5 = outcome\n",
    "    if (d1+d2+d3+d4+d5)%5==0 and (d1+d2+d3+d4+d5)%3!=0 :\n",
    "        favorable_outcome.append(outcome)\n",
    "favorable_outcome = set(favorable_outcome)"
   ]
  },
  {
   "cell_type": "code",
   "execution_count": 47,
   "metadata": {},
   "outputs": [
    {
     "name": "stdout",
     "output_type": "stream",
     "text": [
      "The probability of getting a sum, which is a multiple of 5 but not a multiple of 3, is:  0.11625514403292181\n"
     ]
    }
   ],
   "source": [
    "prob = len(favorable_outcome)/len(event_space)\n",
    "print(\"The probability of getting a sum, which is a multiple of 5 but not a multiple of 3, is: \", prob)"
   ]
  },
  {
   "cell_type": "markdown",
   "metadata": {},
   "source": [
    "### Problem 2 solved using set difference"
   ]
  },
  {
   "cell_type": "code",
   "execution_count": 48,
   "metadata": {},
   "outputs": [],
   "source": [
    "multiple_of_5 = []\n",
    "multiple_of_3 = []\n",
    "\n",
    "for outcome in event_space:\n",
    "    d1,d2,d3,d4,d5 = outcome\n",
    "    if (d1+d2+d3+d4+d5)%5==0:\n",
    "        multiple_of_5.append(outcome)\n",
    "    if (d1+d2+d3+d4+d5)%3==0:\n",
    "        multiple_of_3.append(outcome)\n",
    "\n",
    "favorable_outcome = set(multiple_of_5).difference(set(multiple_of_3))"
   ]
  },
  {
   "cell_type": "code",
   "execution_count": 49,
   "metadata": {},
   "outputs": [
    {
     "name": "stdout",
     "output_type": "stream",
     "text": [
      "(3, 1, 1, 1, 4), SUM: 10\n",
      "(4, 1, 6, 3, 6), SUM: 20\n",
      "(6, 2, 2, 4, 6), SUM: 20\n",
      "(1, 4, 6, 6, 3), SUM: 20\n",
      "(5, 6, 4, 5, 5), SUM: 25\n"
     ]
    }
   ],
   "source": [
    "for i in list(favorable_outcome)[:5]:\n",
    "    a1,a2,a3,a4,a5=i\n",
    "    print(\"{}, SUM: {}\".format(i,a1+a2+a3+a4+a5))    "
   ]
  },
  {
   "cell_type": "code",
   "execution_count": 50,
   "metadata": {},
   "outputs": [
    {
     "name": "stdout",
     "output_type": "stream",
     "text": [
      "The probability of getting a sum, which is a multiple of 5 but not a multiple of 3, is:  0.11625514403292181\n"
     ]
    }
   ],
   "source": [
    "prob = len(favorable_outcome)/len(event_space)\n",
    "print(\"The probability of getting a sum, which is a multiple of 5 but not a multiple of 3, is: \", prob)"
   ]
  },
  {
   "cell_type": "markdown",
   "metadata": {},
   "source": [
    "## Computing _pi_ ($\\pi$) with a random dart throwing game and using probability concept\n",
    "The number $\\pi$ is a mathematical constant. Originally defined as the ratio of a circle's circumference to its diameter, it now has various equivalent definitions and appears in many formulas in all areas of mathematics and physics. It is approximately equal to 3.14159. It has been represented by the Greek letter __\"$\\pi$\"__ since the mid-18th century, though it is also sometimes spelled out as \"pi\". It is also called Archimedes' constant.\n",
    "\n",
    "Being an irrational number, $\\pi$ cannot be expressed as a common fraction (equivalently, its decimal representation never ends and never settles into a permanently repeating pattern).\n",
    "\n",
    "### What is the logic behind computing $\\pi$ by throwing dart randomly?\n",
    "Imagine a square dartboard.\n",
    "\n",
    "Then, the dartboard with a circle drawn inside it touching all its sides.\n",
    "\n",
    "And then, you throw darts at it. Randomly. That means some fall inside the circle, some outside. But assume that no dart falls outside the board.\n",
    "\n",
    "![boards](https://raw.githubusercontent.com/tirthajyoti/Stats-Maths-with-Python/master/images/boards.png)\n",
    "\n",
    "At the end of your dart throwing session, \n",
    "- You count the fraction of darts that fell inside the circle of the total number of darts thrown. \n",
    "- Multiply that number by 4.\n",
    "- The resulting number should be pi. Or, a close approximation if you had thrown a lot of darts.\n",
    "\n",
    "The idea is extremely simple. If you throw a large number of darts, then the **probability of a dart falling inside the circle is just the ratio of the area of the circle to that of the area of the square board**. With the help of basic mathematics, you can show that this ratio turns out to be $\\frac{\\pi}{4}$. So, to get $\\pi$, you just multiply that number by 4.\n",
    "\n",
    "The key here is to simulate the throwing of a lot of darts so as to make the fraction equal to the probability, an assertion valid only in the limit of a large number of trials of this random event. This comes from the [law of large number](https://en.wikipedia.org/wiki/Law_of_large_numbers) or the [frequentist definition of probability](https://en.wikipedia.org/wiki/Frequentist_probability).\n",
    "\n",
    "See also the concept of [Buffon's Needle](https://en.wikipedia.org/wiki/Buffon%27s_needle_problem)"
   ]
  },
  {
   "cell_type": "code",
   "execution_count": 51,
   "metadata": {},
   "outputs": [],
   "source": [
    "from math import pi,sqrt\n",
    "import random\n",
    "import matplotlib.pyplot as plt\n",
    "import numpy as np"
   ]
  },
  {
   "cell_type": "markdown",
   "metadata": {},
   "source": [
    "### Center point and the side of the square"
   ]
  },
  {
   "cell_type": "code",
   "execution_count": 52,
   "metadata": {},
   "outputs": [],
   "source": [
    "# Center point\n",
    "x,y = 0,0\n",
    "# Side of the square\n",
    "a = 2"
   ]
  },
  {
   "cell_type": "markdown",
   "metadata": {},
   "source": [
    "### Function to simulate a random throw of a dart aiming at the square"
   ]
  },
  {
   "cell_type": "code",
   "execution_count": 53,
   "metadata": {},
   "outputs": [],
   "source": [
    "def throw_dart():\n",
    "    \"\"\"\n",
    "    Simulates the randon throw of a dirt. It can land anywhere in the square (uniformly randomly)\n",
    "    \"\"\"\n",
    "    # Random final landing position of the dirt between -a/2 and +a/2 around the center point\n",
    "    position_x = x+a/2*(-1+2*random.random())\n",
    "    position_y = y+a/2*(-1+2*random.random())\n",
    "    \n",
    "    return (position_x,position_y)"
   ]
  },
  {
   "cell_type": "code",
   "execution_count": 54,
   "metadata": {},
   "outputs": [
    {
     "data": {
      "text/plain": [
       "(0.22132208501841943, 0.7844172623010937)"
      ]
     },
     "execution_count": 54,
     "metadata": {},
     "output_type": "execute_result"
    }
   ],
   "source": [
    "throw_dart()"
   ]
  },
  {
   "cell_type": "markdown",
   "metadata": {},
   "source": [
    "### Function to determine if the dart landed inside the circle"
   ]
  },
  {
   "cell_type": "code",
   "execution_count": 55,
   "metadata": {},
   "outputs": [],
   "source": [
    "def is_within_circle(x,y):\n",
    "    \"\"\"\n",
    "    Given the landing coordinate of a dirt, determines if it fell inside the circle\n",
    "    \"\"\"\n",
    "    # Side of the square\n",
    "    a = 2\n",
    "    \n",
    "    distance_from_center = sqrt(x**2+y**2)\n",
    "    \n",
    "    if distance_from_center < a/2:\n",
    "        return True\n",
    "    else:\n",
    "        return False"
   ]
  },
  {
   "cell_type": "code",
   "execution_count": 56,
   "metadata": {},
   "outputs": [
    {
     "data": {
      "text/plain": [
       "False"
      ]
     },
     "execution_count": 56,
     "metadata": {},
     "output_type": "execute_result"
    }
   ],
   "source": [
    "is_within_circle(1.9,1.9)"
   ]
  },
  {
   "cell_type": "code",
   "execution_count": 57,
   "metadata": {},
   "outputs": [
    {
     "data": {
      "text/plain": [
       "True"
      ]
     },
     "execution_count": 57,
     "metadata": {},
     "output_type": "execute_result"
    }
   ],
   "source": [
    "is_within_circle(0.2,-0.6)"
   ]
  },
  {
   "cell_type": "markdown",
   "metadata": {},
   "source": [
    "### Now, throw a few darts"
   ]
  },
  {
   "cell_type": "code",
   "execution_count": 58,
   "metadata": {},
   "outputs": [],
   "source": [
    "n_throws = 10\n",
    "count_inside_circle=0"
   ]
  },
  {
   "cell_type": "code",
   "execution_count": 59,
   "metadata": {},
   "outputs": [],
   "source": [
    "for i in range(n_throws):\n",
    "    r1,r2=throw_dart()\n",
    "    if is_within_circle(r1,r2):\n",
    "        count_inside_circle+=1"
   ]
  },
  {
   "cell_type": "markdown",
   "metadata": {},
   "source": [
    "### Compute the ratio of `count_inside_circle` and `n_throws`"
   ]
  },
  {
   "cell_type": "code",
   "execution_count": 60,
   "metadata": {},
   "outputs": [],
   "source": [
    "ratio = count_inside_circle/n_throws"
   ]
  },
  {
   "cell_type": "markdown",
   "metadata": {},
   "source": [
    "### Is it approximately equal to $\\frac{\\pi}{4}$?"
   ]
  },
  {
   "cell_type": "code",
   "execution_count": 61,
   "metadata": {},
   "outputs": [
    {
     "name": "stdout",
     "output_type": "stream",
     "text": [
      "2.8\n"
     ]
    }
   ],
   "source": [
    "print(4*ratio)"
   ]
  },
  {
   "cell_type": "markdown",
   "metadata": {},
   "source": [
    "### Not exactly. Let's try with a lot more darts!"
   ]
  },
  {
   "cell_type": "code",
   "execution_count": 62,
   "metadata": {},
   "outputs": [],
   "source": [
    "n_throws = 10000\n",
    "count_inside_circle=0\n",
    "\n",
    "for i in range(n_throws):\n",
    "    r1,r2=throw_dart()\n",
    "    if is_within_circle(r1,r2):\n",
    "        count_inside_circle+=1"
   ]
  },
  {
   "cell_type": "code",
   "execution_count": 63,
   "metadata": {},
   "outputs": [
    {
     "name": "stdout",
     "output_type": "stream",
     "text": [
      "3.136\n"
     ]
    }
   ],
   "source": [
    "ratio = count_inside_circle/n_throws\n",
    "print(4*ratio)"
   ]
  },
  {
   "cell_type": "markdown",
   "metadata": {},
   "source": [
    "### Let's functionalize this process and run a number of times"
   ]
  },
  {
   "cell_type": "code",
   "execution_count": 64,
   "metadata": {},
   "outputs": [],
   "source": [
    "def compute_pi_throwing_dart(n_throws):\n",
    "    \"\"\"\n",
    "    Computes pi by throwing a bunch of darts at the square\n",
    "    \"\"\"\n",
    "    n_throws = n_throws\n",
    "    count_inside_circle=0\n",
    "    for i in range(n_throws):\n",
    "        r1,r2=throw_dart()\n",
    "        if is_within_circle(r1,r2):\n",
    "            count_inside_circle+=1\n",
    "            \n",
    "    result = 4*(count_inside_circle/n_throws)\n",
    "    \n",
    "    return result"
   ]
  },
  {
   "cell_type": "markdown",
   "metadata": {},
   "source": [
    "### Now let us run this experiment a few times and see what happens."
   ]
  },
  {
   "cell_type": "code",
   "execution_count": 65,
   "metadata": {},
   "outputs": [
    {
     "name": "stdout",
     "output_type": "stream",
     "text": [
      "Computed value of pi by throwing 3 darts is: 4.0\n",
      "Computed value of pi by throwing 10 darts is: 2.4\n",
      "Computed value of pi by throwing 31 darts is: 3.225806451612903\n",
      "Computed value of pi by throwing 100 darts is: 3.44\n",
      "Computed value of pi by throwing 316 darts is: 3.367088607594937\n",
      "Computed value of pi by throwing 1000 darts is: 3.152\n",
      "Computed value of pi by throwing 3162 darts is: 3.135989879822897\n",
      "Computed value of pi by throwing 10000 darts is: 3.1004\n",
      "Computed value of pi by throwing 31622 darts is: 3.141483777117197\n",
      "Computed value of pi by throwing 100000 darts is: 3.13996\n",
      "Computed value of pi by throwing 316227 darts is: 3.145550506439994\n",
      "Computed value of pi by throwing 1000000 darts is: 3.142276\n",
      "Computed value of pi by throwing 3162277 darts is: 3.140461129749228\n",
      "Computed value of pi by throwing 10000000 darts is: 3.1421584\n"
     ]
    }
   ],
   "source": [
    "n_exp=[]\n",
    "pi_exp=[]\n",
    "n = [int(10**(0.5*i)) for i in range(1,15)]\n",
    "for i in n:\n",
    "    p = compute_pi_throwing_dart(i)\n",
    "    pi_exp.append(p)\n",
    "    n_exp.append(i)\n",
    "    print(\"Computed value of pi by throwing {} darts is: {}\".format(i,p))"
   ]
  },
  {
   "cell_type": "code",
   "execution_count": 66,
   "metadata": {},
   "outputs": [
    {
     "data": {
      "image/png": "[encoded data removed]",
      "text/plain": [
       "<Figure size 576x360 with 1 Axes>"
      ]
     },
     "metadata": {
      "needs_background": "light"
     },
     "output_type": "display_data"
    }
   ],
   "source": [
    "plt.figure(figsize=(8,5))\n",
    "plt.title(\"Computing pi with \\nincreasing number of random throws\",fontsize=20)\n",
    "plt.semilogx(n_exp, pi_exp,c='k',marker='o',lw=3)\n",
    "plt.xticks(fontsize=14)\n",
    "plt.yticks(fontsize=14)\n",
    "plt.xlabel(\"Number of random throws\",fontsize=15)\n",
    "plt.ylabel(\"Computed value of pi\",fontsize=15)\n",
    "plt.hlines(y=3.14159,xmin=1,xmax=1e7,linestyle='--')\n",
    "plt.text(x=10,y=3.05,s=\"Value of pi\",fontsize=17)\n",
    "plt.grid(True)\n",
    "plt.show()"
   ]
  }
 ],
 "metadata": {
  "kernelspec": {
   "display_name": "Python 3 (ipykernel)",
   "language": "python",
   "name": "python3"
  },
  "language_info": {
   "codemirror_mode": {
    "name": "ipython",
    "version": 3
   },
   "file_extension": ".py",
   "mimetype": "text/x-python",
   "name": "python",
   "nbconvert_exporter": "python",
   "pygments_lexer": "ipython3",
   "version": "3.10.11"
  }
 },
 "nbformat": 4,
 "nbformat_minor": 4
}
