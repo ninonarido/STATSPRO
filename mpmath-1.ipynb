{
 "cells": [
  {
   "cell_type": "markdown",
   "id": "2402faa9-969f-44a0-8def-7b43ff0d252f",
   "metadata": {},
   "source": [
    "# Doing basic and advanced math with `mpmath`\n",
    "\n",
    "## What is it?\n",
    "\n",
    "`Mpmath` is a Python library for **arbitrary-precision floating-point arithmetic**. For general information about `mpmath`, see the [project website](http://mpmath.org/).\n",
    "\n",
    "On top of its support for arbitrary-precision arithmetic, `mpmath` provides extensive support for transcendental functions, evaluation of sums, integrals, limits, roots, and so on. It also does many standard mathematical tasks like,\n",
    "\n",
    "- Polynomials\n",
    "- Root-finding and optimization\n",
    "- Sums, products, limits and extrapolation\n",
    "- Differentiation\n",
    "- Numerical integration (quadrature)\n",
    "- Ordinary differential equations\n",
    "- Function approximation\n",
    "- Numerical inverse Laplace transform"
   ]
  },
  {
   "cell_type": "code",
   "execution_count": 1,
   "id": "e7ce7ffc-78d1-4975-aeed-7af916fedeee",
   "metadata": {},
   "outputs": [
    {
     "name": "stdout",
     "output_type": "stream",
     "text": [
      "1.4142135623730951\n"
     ]
    }
   ],
   "source": [
    "from math import sqrt\n",
    "print(sqrt(2))"
   ]
  },
  {
   "cell_type": "code",
   "execution_count": 5,
   "id": "a0e40cd6-7ab7-4b23-9138-656738234cc5",
   "metadata": {},
   "outputs": [
    {
     "name": "stdout",
     "output_type": "stream",
     "text": [
      "1.4142135623730951\n"
     ]
    }
   ],
   "source": [
    "import numpy as np\n",
    "print(np.sqrt(2))"
   ]
  },
  {
   "cell_type": "code",
   "execution_count": 7,
   "id": "7da2678d-0503-4fa4-8ae4-95251f583bb4",
   "metadata": {},
   "outputs": [
    {
     "name": "stdout",
     "output_type": "stream",
     "text": [
      "1.4142135\n"
     ]
    }
   ],
   "source": [
    "print(np.sqrt(2, dtype=np.float32))"
   ]
  },
  {
   "cell_type": "code",
   "execution_count": 8,
   "id": "50fc5058-39a0-457e-be88-9bdccf1ae407",
   "metadata": {},
   "outputs": [
    {
     "data": {
      "text/plain": [
       "'gmpy'"
      ]
     },
     "execution_count": 8,
     "metadata": {},
     "output_type": "execute_result"
    }
   ],
   "source": [
    "import mpmath.libmp\n",
    "mpmath.libmp.BACKEND"
   ]
  },
  {
   "cell_type": "code",
   "execution_count": 13,
   "id": "d5055685-43cc-41fb-8e69-c3b91b5d9ffa",
   "metadata": {},
   "outputs": [],
   "source": [
    "import mpmath as mp\n",
    "from mpmath import *"
   ]
  },
  {
   "cell_type": "markdown",
   "id": "b673d380-ad68-4040-8085-15559cd0c468",
   "metadata": {},
   "source": [
    "## Setting precision to 10 decimal places"
   ]
  },
  {
   "cell_type": "code",
   "execution_count": 14,
   "id": "da318df3-0284-425e-a85f-ce7af5731c65",
   "metadata": {},
   "outputs": [],
   "source": [
    "mp.dps=10"
   ]
  },
  {
   "cell_type": "code",
   "execution_count": 15,
   "id": "f201956e-55de-40df-a9a5-f5f4d1b10851",
   "metadata": {},
   "outputs": [
    {
     "name": "stdout",
     "output_type": "stream",
     "text": [
      "Sqrt of 2 (10 decimal places):  1.414213562\n",
      "Twice of pi (10 decimal places) 6.283185307\n"
     ]
    }
   ],
   "source": [
    "print(\"Sqrt of 2 (10 decimal places): \",mpf(2) ** mpf('0.5'))\n",
    "print(\"Twice of pi (10 decimal places)\", 2*pi)"
   ]
  },
  {
   "cell_type": "markdown",
   "id": "3879da27-5558-42f0-a333-c3eee72225d8",
   "metadata": {},
   "source": [
    "## Setting precision to 25 decimal places"
   ]
  },
  {
   "cell_type": "code",
   "execution_count": 16,
   "id": "ebaedb61-96c6-4ce1-a055-991c10c523d5",
   "metadata": {},
   "outputs": [],
   "source": [
    "mp.dps=25"
   ]
  },
  {
   "cell_type": "code",
   "execution_count": 17,
   "id": "d81d4486-7198-4077-b5ec-a53ea56421ff",
   "metadata": {},
   "outputs": [
    {
     "name": "stdout",
     "output_type": "stream",
     "text": [
      "Sqrt of 2 (10 decimal places):  1.414213562373095048801689\n",
      "Twice of pi (10 decimal places) 6.283185307179586476925287\n"
     ]
    }
   ],
   "source": [
    "print(\"Sqrt of 2 (10 decimal places): \",mpf(2) ** mpf('0.5'))\n",
    "print(\"Twice of pi (10 decimal places)\", 2*pi)"
   ]
  },
  {
   "cell_type": "markdown",
   "id": "e0e7134e-650a-4a21-9d6a-a030bf91d19f",
   "metadata": {},
   "source": [
    "## The `mp` context shows the current settings"
   ]
  },
  {
   "cell_type": "code",
   "execution_count": 10,
   "id": "6e27e5a0-043f-4ee5-8f9a-972ac0b04a6a",
   "metadata": {},
   "outputs": [
    {
     "name": "stdout",
     "output_type": "stream",
     "text": [
      "Mpmath settings:\n",
      "  mp.prec = 86                [default: 53]\n",
      "  mp.dps = 25                 [default: 15]\n",
      "  mp.trap_complex = False     [default: False]\n"
     ]
    }
   ],
   "source": [
    "print(mp)"
   ]
  },
  {
   "cell_type": "markdown",
   "id": "8fb14c55-da61-48ab-8d9a-ce4fa52f3781",
   "metadata": {},
   "source": [
    "## Use `mpf` instances instead of regular float\n",
    "An mpf instance holds a real-valued floating-point number. They work analogously to Python floats, but support arbitrary-precision arithmetic."
   ]
  },
  {
   "cell_type": "code",
   "execution_count": 18,
   "id": "380047df-8479-4d80-97eb-61d2bb28b97c",
   "metadata": {},
   "outputs": [
    {
     "data": {
      "text/plain": [
       "mpf('12.30000000000000071054273576')"
      ]
     },
     "execution_count": 18,
     "metadata": {},
     "output_type": "execute_result"
    }
   ],
   "source": [
    "mpf(12.3)"
   ]
  },
  {
   "cell_type": "code",
   "execution_count": 19,
   "id": "40b92b9e-3df2-4865-aa32-c24b51326005",
   "metadata": {},
   "outputs": [
    {
     "data": {
      "text/plain": [
       "mpf('12.29999999999999999999999996')"
      ]
     },
     "execution_count": 19,
     "metadata": {},
     "output_type": "execute_result"
    }
   ],
   "source": [
    "mpf('12.3')"
   ]
  },
  {
   "cell_type": "code",
   "execution_count": 20,
   "id": "b7a57565-6c7d-49e7-8933-fc882279cb09",
   "metadata": {},
   "outputs": [],
   "source": [
    "mp.pretty = True"
   ]
  },
  {
   "cell_type": "code",
   "execution_count": 24,
   "id": "3bd5891c-ca19-461b-9803-0e3b95193fe0",
   "metadata": {},
   "outputs": [
    {
     "name": "stdout",
     "output_type": "stream",
     "text": [
      "12.3\n"
     ]
    }
   ],
   "source": [
    "x=mpf('12.3')\n",
    "print(x)"
   ]
  },
  {
   "cell_type": "markdown",
   "id": "41120fe2-ed19-4aea-8574-ad315e4f8da4",
   "metadata": {},
   "source": [
    "## The accuracy is not lost"
   ]
  },
  {
   "cell_type": "code",
   "execution_count": 25,
   "id": "2d69ba07-7813-45bd-90e0-0f35ec849fbe",
   "metadata": {},
   "outputs": [
    {
     "data": {
      "text/plain": [
       "3.507135583350036383363493"
      ]
     },
     "execution_count": 25,
     "metadata": {},
     "output_type": "execute_result"
    }
   ],
   "source": [
    "x**mpf(0.5)"
   ]
  },
  {
   "cell_type": "markdown",
   "id": "c8b37787-870f-4b40-9ec6-35ee6d5dbca0",
   "metadata": {},
   "source": [
    "## Normal Python calculation gives less precision"
   ]
  },
  {
   "cell_type": "code",
   "execution_count": 26,
   "id": "ed1e9ce8-375a-4c84-95de-f32e53e66d79",
   "metadata": {},
   "outputs": [
    {
     "data": {
      "text/plain": [
       "3.5071355833500366"
      ]
     },
     "execution_count": 26,
     "metadata": {},
     "output_type": "execute_result"
    }
   ],
   "source": [
    "12.3**0.5"
   ]
  },
  {
   "cell_type": "markdown",
   "id": "fbf3e6ef-f308-4491-abc2-02f2233bf21e",
   "metadata": {},
   "source": [
    "## Factorial speed"
   ]
  },
  {
   "cell_type": "code",
   "execution_count": 34,
   "id": "0e77e4d3-e848-4496-ae16-21485aa0b9dd",
   "metadata": {},
   "outputs": [
    {
     "name": "stdout",
     "output_type": "stream",
     "text": [
      "15.9 µs ± 2.79 µs per loop (mean ± std. dev. of 100 runs, 10 loops each)\n"
     ]
    }
   ],
   "source": [
    "%%timeit -n10 -r100\n",
    "fac(10**5)"
   ]
  },
  {
   "cell_type": "code",
   "execution_count": 32,
   "id": "49e9a103-43f7-48cb-bd4f-f7c284ff0080",
   "metadata": {},
   "outputs": [],
   "source": [
    "from math import factorial"
   ]
  },
  {
   "cell_type": "code",
   "execution_count": 29,
   "id": "5a47ea2c-a947-4f50-9fc5-2f27ac2e4743",
   "metadata": {},
   "outputs": [
    {
     "name": "stdout",
     "output_type": "stream",
     "text": [
      "170 ms ± 11.7 ms per loop (mean ± std. dev. of 100 runs, 10 loops each)\n"
     ]
    }
   ],
   "source": [
    "%%timeit -n10 -r100\n",
    "factorial(10**5)"
   ]
  },
  {
   "cell_type": "code",
   "execution_count": 36,
   "id": "ce13492f-4a24-423d-b0f6-053d92b4409f",
   "metadata": {},
   "outputs": [
    {
     "name": "stdout",
     "output_type": "stream",
     "text": [
      "2.824229407960347874293422e+456573\n"
     ]
    },
    {
     "ename": "OverflowError",
     "evalue": "int too large to convert to float",
     "output_type": "error",
     "traceback": [
      "\u001b[1;31m---------------------------------------------------------------------------\u001b[0m",
      "\u001b[1;31mOverflowError\u001b[0m                             Traceback (most recent call last)",
      "\u001b[1;32m<ipython-input-36-1475943975fc>\u001b[0m in \u001b[0;36m<module>\u001b[1;34m\u001b[0m\n\u001b[0;32m      2\u001b[0m \u001b[0mf_python\u001b[0m \u001b[1;33m=\u001b[0m \u001b[0mfactorial\u001b[0m\u001b[1;33m(\u001b[0m\u001b[1;36m10\u001b[0m\u001b[1;33m**\u001b[0m\u001b[1;36m5\u001b[0m\u001b[1;33m)\u001b[0m\u001b[1;33m\u001b[0m\u001b[1;33m\u001b[0m\u001b[0m\n\u001b[0;32m      3\u001b[0m \u001b[0mprint\u001b[0m\u001b[1;33m(\u001b[0m\u001b[0mf_mpmath\u001b[0m\u001b[1;33m)\u001b[0m\u001b[1;33m\u001b[0m\u001b[1;33m\u001b[0m\u001b[0m\n\u001b[1;32m----> 4\u001b[1;33m \u001b[0mprint\u001b[0m\u001b[1;33m(\u001b[0m\u001b[0mfloat\u001b[0m\u001b[1;33m(\u001b[0m\u001b[0mf_python\u001b[0m\u001b[1;33m)\u001b[0m\u001b[1;33m)\u001b[0m\u001b[1;33m\u001b[0m\u001b[1;33m\u001b[0m\u001b[0m\n\u001b[0m",
      "\u001b[1;31mOverflowError\u001b[0m: int too large to convert to float"
     ]
    }
   ],
   "source": [
    "f_mpmath = fac(10**5)\n",
    "f_python = factorial(10**5)\n",
    "print(f_mpmath)\n",
    "print(float(f_python))"
   ]
  },
  {
   "cell_type": "markdown",
   "id": "4d75c52c-9dee-491f-98a8-fd3e201148d1",
   "metadata": {},
   "source": [
    "## Rational and complex numbers are treated in a native manner"
   ]
  },
  {
   "cell_type": "code",
   "execution_count": 37,
   "id": "a36d3a4f-95bd-4dd5-afce-1eff0b5acfdf",
   "metadata": {},
   "outputs": [
    {
     "data": {
      "text/plain": [
       "0.75"
      ]
     },
     "execution_count": 37,
     "metadata": {},
     "output_type": "execute_result"
    }
   ],
   "source": [
    "mpmathify('3/4')"
   ]
  },
  {
   "cell_type": "code",
   "execution_count": 40,
   "id": "f1fcbc44-bebd-4576-833a-a2aae9561712",
   "metadata": {},
   "outputs": [
    {
     "data": {
      "text/plain": [
       "1.035714285714285714285714"
      ]
     },
     "execution_count": 40,
     "metadata": {},
     "output_type": "execute_result"
    }
   ],
   "source": [
    "mpmathify('3/4') + mpmathify('2/7')"
   ]
  },
  {
   "cell_type": "code",
   "execution_count": 38,
   "id": "7fd07e91-b84d-4f99-aa7b-9d9d06bd83ca",
   "metadata": {},
   "outputs": [
    {
     "data": {
      "text/plain": [
       "(2.0 + 3.0j)"
      ]
     },
     "execution_count": 38,
     "metadata": {},
     "output_type": "execute_result"
    }
   ],
   "source": [
    "mpmathify('2+3j')"
   ]
  },
  {
   "cell_type": "code",
   "execution_count": 39,
   "id": "231f5b0c-a755-4ca6-b40a-3dfd907e886c",
   "metadata": {},
   "outputs": [
    {
     "data": {
      "text/plain": [
       "(1.674149228035540040448039 + 0.8959774761298381247157338j)"
      ]
     },
     "execution_count": 39,
     "metadata": {},
     "output_type": "execute_result"
    }
   ],
   "source": [
    "mpmathify('2+3j')**(mpf('0.5'))"
   ]
  },
  {
   "cell_type": "code",
   "execution_count": 41,
   "id": "de3ef3d0-eed0-47a1-9fdb-70fee914374a",
   "metadata": {},
   "outputs": [],
   "source": [
    "import numpy as np"
   ]
  },
  {
   "cell_type": "code",
   "execution_count": 51,
   "id": "486c5932-0c99-4f59-b8f6-8d44579c6acd",
   "metadata": {},
   "outputs": [],
   "source": [
    "A = np.random.normal(size=100)\n",
    "B = np.random.normal(size=100)"
   ]
  },
  {
   "cell_type": "code",
   "execution_count": 52,
   "id": "f2d3bd67-8b57-4962-a6d5-ce51ae05f48e",
   "metadata": {},
   "outputs": [
    {
     "name": "stdout",
     "output_type": "stream",
     "text": [
      "The slowest run took 96.61 times longer than the fastest. This could mean that an intermediate result is being cached.\n",
      "2.01 µs ± 6.12 µs per loop (mean ± std. dev. of 100 runs, 10 loops each)\n"
     ]
    }
   ],
   "source": [
    "%%timeit -n10 -r100\n",
    "A.dot(B)"
   ]
  },
  {
   "cell_type": "code",
   "execution_count": 53,
   "id": "ff4fdf7a-b808-46d1-ab78-697a504973e2",
   "metadata": {},
   "outputs": [
    {
     "name": "stdout",
     "output_type": "stream",
     "text": [
      "443 µs ± 159 µs per loop (mean ± std. dev. of 100 runs, 10 loops each)\n"
     ]
    }
   ],
   "source": [
    "%%timeit -n10 -r100\n",
    "fdot(A,B)"
   ]
  },
  {
   "cell_type": "markdown",
   "id": "214301a3-fb91-4cc5-bfb0-dd3ca87fcded",
   "metadata": {},
   "source": [
    "## Plot"
   ]
  },
  {
   "cell_type": "code",
   "execution_count": 54,
   "id": "a9b924d7-6822-4473-8e02-5fe1b5030c0c",
   "metadata": {},
   "outputs": [
    {
     "data": {
      "image/png": "[encoded data removed]",
      "text/plain": [
       "<Figure size 432x288 with 1 Axes>"
      ]
     },
     "metadata": {
      "needs_background": "light"
     },
     "output_type": "display_data"
    }
   ],
   "source": [
    "plot([cos, sin], [-4, 4])"
   ]
  },
  {
   "cell_type": "code",
   "execution_count": 55,
   "id": "83ec7cd3-3da0-4b30-bf2e-634bf7244fb3",
   "metadata": {},
   "outputs": [
    {
     "data": {
      "image/png": "[encoded data removed]",
      "text/plain": [
       "<Figure size 432x288 with 1 Axes>"
      ]
     },
     "metadata": {
      "needs_background": "light"
     },
     "output_type": "display_data"
    }
   ],
   "source": [
    "plot([fresnels, fresnelc], [-4, 4])"
   ]
  },
  {
   "cell_type": "code",
   "execution_count": 56,
   "id": "31d5c068-7513-4ad8-9064-cffec9fd39c7",
   "metadata": {},
   "outputs": [
    {
     "data": {
      "image/png": "[encoded data removed]",
      "text/plain": [
       "<Figure size 432x288 with 1 Axes>"
      ]
     },
     "metadata": {
      "needs_background": "light"
     },
     "output_type": "display_data"
    }
   ],
   "source": [
    "cplot(lambda z: z, [-2, 2], [-10, 10])"
   ]
  },
  {
   "cell_type": "code",
   "execution_count": 58,
   "id": "13ee7988-52e9-422e-a8a0-61c072fcba6a",
   "metadata": {},
   "outputs": [
    {
     "data": {
      "image/png": "[encoded data removed]",
      "text/plain": [
       "<Figure size 432x288 with 1 Axes>"
      ]
     },
     "metadata": {
      "needs_background": "light"
     },
     "output_type": "display_data"
    }
   ],
   "source": [
    "cplot(gamma, points=10000)"
   ]
  },
  {
   "cell_type": "code",
   "execution_count": 88,
   "id": "59998beb-d40a-4de4-9dd2-896631ce2272",
   "metadata": {},
   "outputs": [
    {
     "data": {
      "image/png": "[encoded data removed]",
      "text/plain": [
       "<Figure size 432x288 with 1 Axes>"
      ]
     },
     "metadata": {
      "needs_background": "light"
     },
     "output_type": "display_data"
    }
   ],
   "source": [
    "r, R = 1, 2.5\n",
    "f = lambda u, v: [r*cos(u), (R+r*sin(u))*cos(v), (R+r*sin(u))*sin(v)]\n",
    "splot(f, [0, float(2*pi)], [0, float(2*pi)],points=200,dpi=120)"
   ]
  },
  {
   "cell_type": "markdown",
   "id": "da1fd8d1-f109-42bf-a041-80c226adefd3",
   "metadata": {},
   "source": [
    "## n-th root"
   ]
  },
  {
   "cell_type": "code",
   "execution_count": 94,
   "id": "bb23a572-d52e-45e4-bbc6-abe1cc15708e",
   "metadata": {},
   "outputs": [
    {
     "name": "stdout",
     "output_type": "stream",
     "text": [
      "(1.247472705895526221523927 + 0.1662271241773525444423184j)\n",
      "(0.6478249113010029918267916 + 1.078954351705588446708222j)\n",
      "(-0.4396482547230982620878282 + 1.179206945741718717440614j)\n",
      "(-1.196057317750688078827009 + 0.3914926581963046418346134j)\n",
      "(-1.051810825389031340038652 - 0.691023585965792972199872j)\n",
      "(-0.1155293284786681638014006 - 1.253184975583352195227716j)\n",
      "(0.9077481091449566314041713 - 0.8716725182718191829981798j)\n"
     ]
    }
   ],
   "source": [
    "for r in [root(3+4j, 7, k) for k in range(7)]:\n",
    "    print(\"{}\".format(r))"
   ]
  },
  {
   "cell_type": "code",
   "execution_count": 119,
   "id": "7ea77cac-e307-408c-ae09-2e86e200aecf",
   "metadata": {},
   "outputs": [
    {
     "name": "stdout",
     "output_type": "stream",
     "text": [
      "13.4 ms ± 3.11 ms per loop (mean ± std. dev. of 20 runs, 5 loops each)\n"
     ]
    }
   ],
   "source": [
    "%%timeit -n5 -r20\n",
    "for n in range(25,35):\n",
    "    [binomial(mpf('50'),mpf(str(k))) for k in range(n+1)]"
   ]
  },
  {
   "cell_type": "code",
   "execution_count": 99,
   "id": "111ee1e5-7a48-473f-9dbc-b749bf7009bb",
   "metadata": {},
   "outputs": [],
   "source": [
    "import scipy.special"
   ]
  },
  {
   "cell_type": "code",
   "execution_count": 126,
   "id": "9454dc95-0943-4a78-ad07-03a3b3fe72d3",
   "metadata": {},
   "outputs": [
    {
     "data": {
      "text/plain": [
       "8.3333333333333333325e+97"
      ]
     },
     "execution_count": 126,
     "metadata": {},
     "output_type": "execute_result"
    }
   ],
   "source": [
    "binomial(10**20, 10**20-5)"
   ]
  },
  {
   "cell_type": "markdown",
   "id": "1514a273-77ad-4fec-9611-08ac430a617d",
   "metadata": {},
   "source": [
    "## `Scipy` cannot do calculation with these large arguments"
   ]
  },
  {
   "cell_type": "code",
   "execution_count": 128,
   "id": "f642dfee-0029-41da-a11b-a665191b7b7e",
   "metadata": {},
   "outputs": [
    {
     "ename": "TypeError",
     "evalue": "ufunc 'binom' not supported for the input types, and the inputs could not be safely coerced to any supported types according to the casting rule ''safe''",
     "output_type": "error",
     "traceback": [
      "\u001b[1;31m---------------------------------------------------------------------------\u001b[0m",
      "\u001b[1;31mTypeError\u001b[0m                                 Traceback (most recent call last)",
      "\u001b[1;32m<ipython-input-128-aacea9fae810>\u001b[0m in \u001b[0;36m<module>\u001b[1;34m\u001b[0m\n\u001b[1;32m----> 1\u001b[1;33m \u001b[0mscipy\u001b[0m\u001b[1;33m.\u001b[0m\u001b[0mspecial\u001b[0m\u001b[1;33m.\u001b[0m\u001b[0mbinom\u001b[0m\u001b[1;33m(\u001b[0m\u001b[0mint\u001b[0m\u001b[1;33m(\u001b[0m\u001b[1;36m10\u001b[0m\u001b[1;33m**\u001b[0m\u001b[1;36m20\u001b[0m\u001b[1;33m)\u001b[0m\u001b[1;33m,\u001b[0m \u001b[0mint\u001b[0m\u001b[1;33m(\u001b[0m\u001b[1;36m10\u001b[0m\u001b[1;33m**\u001b[0m\u001b[1;36m20\u001b[0m\u001b[1;33m-\u001b[0m\u001b[1;36m5\u001b[0m\u001b[1;33m)\u001b[0m\u001b[1;33m)\u001b[0m\u001b[1;33m\u001b[0m\u001b[1;33m\u001b[0m\u001b[0m\n\u001b[0m",
      "\u001b[1;31mTypeError\u001b[0m: ufunc 'binom' not supported for the input types, and the inputs could not be safely coerced to any supported types according to the casting rule ''safe''"
     ]
    }
   ],
   "source": [
    "scipy.special.binom(int(10**20), int(10**20-5))"
   ]
  },
  {
   "cell_type": "code",
   "execution_count": 129,
   "id": "2049eeaa-c8c0-4910-acc8-ad3cdb2569d6",
   "metadata": {},
   "outputs": [
    {
     "data": {
      "text/plain": [
       "2.585287397240184524055334"
      ]
     },
     "execution_count": 129,
     "metadata": {},
     "output_type": "execute_result"
    }
   ],
   "source": [
    "binomial(2.5,1.2)"
   ]
  },
  {
   "cell_type": "code",
   "execution_count": 133,
   "id": "b3ae95c5-102b-4763-a0a9-658912e6dd2f",
   "metadata": {},
   "outputs": [
    {
     "data": {
      "text/plain": [
       "-0.4150035108034928041587776"
      ]
     },
     "execution_count": 133,
     "metadata": {},
     "output_type": "execute_result"
    }
   ],
   "source": [
    "binomial(mpf('-12/5'),mpf('2/3'))"
   ]
  },
  {
   "cell_type": "code",
   "execution_count": 132,
   "id": "c14dedcc-bfdf-4097-ba92-2559d469d877",
   "metadata": {},
   "outputs": [
    {
     "data": {
      "text/plain": [
       "-0.417154501641134"
      ]
     },
     "execution_count": 132,
     "metadata": {},
     "output_type": "execute_result"
    }
   ],
   "source": [
    "scipy.special.binom(-2.4,0.667)"
   ]
  },
  {
   "cell_type": "markdown",
   "id": "db1658d2-6cf6-4a63-b97a-4bf978cb54df",
   "metadata": {},
   "source": [
    "## Hyperfactorial"
   ]
  },
  {
   "cell_type": "markdown",
   "id": "0faeb9a7-c8ef-42aa-9dc1-ce9c01bd617e",
   "metadata": {},
   "source": [
    "### Using `mpmath`"
   ]
  },
  {
   "cell_type": "code",
   "execution_count": 146,
   "id": "fbacf692-5b7e-480f-933a-610857c598eb",
   "metadata": {},
   "outputs": [
    {
     "name": "stdout",
     "output_type": "stream",
     "text": [
      "341 µs ± 135 µs per loop (mean ± std. dev. of 20 runs, 5 loops each)\n"
     ]
    }
   ],
   "source": [
    "%%timeit -n5 -r20\n",
    "hyperfac(200)"
   ]
  },
  {
   "cell_type": "markdown",
   "id": "092a793b-6107-4322-866b-9c2e54c5e5ac",
   "metadata": {},
   "source": [
    "### Using pure Python"
   ]
  },
  {
   "cell_type": "code",
   "execution_count": 147,
   "id": "21f4243c-d5ae-4544-b3b4-7151c1b44efc",
   "metadata": {},
   "outputs": [
    {
     "name": "stdout",
     "output_type": "stream",
     "text": [
      "11.5 ms ± 827 µs per loop (mean ± std. dev. of 20 runs, 5 loops each)\n"
     ]
    }
   ],
   "source": [
    "%%timeit -n5 -r20\n",
    "prod=1\n",
    "for n in range(1,201):\n",
    "    prod*=n**n"
   ]
  },
  {
   "cell_type": "markdown",
   "id": "9efb085d-efd7-49ed-8111-8f87e2cf21b2",
   "metadata": {},
   "source": [
    "### How big is this number?"
   ]
  },
  {
   "cell_type": "code",
   "execution_count": 148,
   "id": "0f2276c8-af49-4218-852d-6854fabfb5cd",
   "metadata": {},
   "outputs": [
    {
     "data": {
      "text/plain": [
       "1.142560024245405712989778e+41908"
      ]
     },
     "execution_count": 148,
     "metadata": {},
     "output_type": "execute_result"
    }
   ],
   "source": [
    "hyperfac(200)"
   ]
  },
  {
   "cell_type": "code",
   "execution_count": null,
   "id": "2c0251a6-dd4a-4eb9-bcc5-501da08dea18",
   "metadata": {},
   "outputs": [],
   "source": []
  },
  {
   "cell_type": "code",
   "execution_count": 174,
   "id": "05566d6c-f212-4c27-b7dc-19e7f7254569",
   "metadata": {},
   "outputs": [],
   "source": [
    "mp.dps=25"
   ]
  },
  {
   "cell_type": "markdown",
   "id": "9c23b319-b4f3-4e52-939c-d6b58fbfe16d",
   "metadata": {},
   "source": [
    "## Fibonacci numbers"
   ]
  },
  {
   "cell_type": "code",
   "execution_count": 175,
   "id": "50c20d2f-8028-4df6-9425-6fb610ceed5d",
   "metadata": {},
   "outputs": [
    {
     "data": {
      "text/plain": [
       "6765.0"
      ]
     },
     "execution_count": 175,
     "metadata": {},
     "output_type": "execute_result"
    }
   ],
   "source": [
    "fib(20)"
   ]
  },
  {
   "cell_type": "code",
   "execution_count": 176,
   "id": "7a838582-7f48-476b-a3d2-8952c7b91e15",
   "metadata": {},
   "outputs": [
    {
     "data": {
      "text/plain": [
       "1.256941107429143065410115e+668760"
      ]
     },
     "execution_count": 176,
     "metadata": {},
     "output_type": "execute_result"
    }
   ],
   "source": [
    "fib(20**5)"
   ]
  },
  {
   "cell_type": "code",
   "execution_count": 172,
   "id": "f5233f7c-04e4-4879-ab0e-b13346faf2f0",
   "metadata": {},
   "outputs": [
    {
     "data": {
      "text/plain": [
       "2.117027057916099911684598"
      ]
     },
     "execution_count": 172,
     "metadata": {},
     "output_type": "execute_result"
    }
   ],
   "source": [
    "fib(pi)"
   ]
  },
  {
   "cell_type": "code",
   "execution_count": 173,
   "id": "ffa5cf8f-40f4-4b0a-9d01-ffe751799727",
   "metadata": {},
   "outputs": [
    {
     "data": {
      "text/plain": [
       "(-5248.511307283720182781954 - 14195.96228835301088580928j)"
      ]
     },
     "execution_count": 173,
     "metadata": {},
     "output_type": "execute_result"
    }
   ],
   "source": [
    "fib(3+4j)"
   ]
  },
  {
   "cell_type": "markdown",
   "id": "4439101d-e2f2-40d0-871e-251b81deec7d",
   "metadata": {},
   "source": [
    "## Polynomial evaluation\n",
    "\n",
    "$$\\left( {3x^7+-2x^5+5x^4-3} \\right)_{x=0.27}=-2.97598\\cdots$$"
   ]
  },
  {
   "cell_type": "code",
   "execution_count": 182,
   "id": "d08e608a-e3c8-4538-81a2-8c6c84cbc418",
   "metadata": {},
   "outputs": [
    {
     "data": {
      "text/plain": [
       "-2.975983920803909993806701"
      ]
     },
     "execution_count": 182,
     "metadata": {},
     "output_type": "execute_result"
    }
   ],
   "source": [
    "polyval([3, 0, -2, 5, 0, 0, 0,-3], 0.27)"
   ]
  },
  {
   "cell_type": "markdown",
   "id": "af65db2c-188f-44a2-bfc0-cf31408337a6",
   "metadata": {},
   "source": [
    "## Polynomial root\n",
    "\n",
    "$$3x^7+-2x^5+5x^4=3$$"
   ]
  },
  {
   "cell_type": "code",
   "execution_count": 181,
   "id": "05c78e8e-f26e-413a-8d71-8289405c463a",
   "metadata": {},
   "outputs": [
    {
     "data": {
      "text/plain": [
       "[-1.295821155626593414551295,\n",
       " -0.8973346781104871960058213,\n",
       " 0.8700356165162543117430376,\n",
       " (-0.1021871544563401270795588 - 0.8141076161287989904493385j),\n",
       " (-0.1021871544563401270795588 + 0.8141076161287989904493385j),\n",
       " (0.7637472630667532764865984 - 0.9407317375480711196626355j),\n",
       " (0.7637472630667532764865984 + 0.9407317375480711196626355j)]"
      ]
     },
     "execution_count": 181,
     "metadata": {},
     "output_type": "execute_result"
    }
   ],
   "source": [
    "polyroots([3, 0, -2, 5, 0, 0, 0,-3])"
   ]
  },
  {
   "cell_type": "markdown",
   "id": "f54aaa3e-8efd-4adf-9caa-871896142c44",
   "metadata": {},
   "source": [
    "## Root-finding"
   ]
  },
  {
   "cell_type": "code",
   "execution_count": 202,
   "id": "c8208724-fb40-4d75-a227-46e26a26473d",
   "metadata": {},
   "outputs": [],
   "source": [
    "def func1(x):\n",
    "    return exp(-0.1*x)*sin(x**2)"
   ]
  },
  {
   "cell_type": "code",
   "execution_count": 207,
   "id": "815792a0-2284-4929-bf32-8efb5ed8a288",
   "metadata": {},
   "outputs": [
    {
     "data": {
      "image/png": "[encoded data removed]",
      "text/plain": [
       "<Figure size 432x288 with 1 Axes>"
      ]
     },
     "metadata": {
      "needs_background": "light"
     },
     "output_type": "display_data"
    }
   ],
   "source": [
    "plot(func1,[-2,5])"
   ]
  },
  {
   "cell_type": "code",
   "execution_count": 209,
   "id": "aa7412e7-a9f8-4d64-ab60-85b01cc70066",
   "metadata": {},
   "outputs": [
    {
     "name": "stdout",
     "output_type": "stream",
     "text": [
      "Solution near -2: -1.772453850905516027298168\n",
      "Solution near -1: -0.0000005430976634644979218348307\n",
      "Solution near 0: 0.0\n",
      "Solution near 1: 0.0000002920122051525101216309755\n",
      "Solution near 2: 1.772453850905516027298167\n",
      "Solution near 3: 3.069980123839465465438655\n",
      "Solution near 4: 3.963327297606011013345029\n",
      "Solution near 5: 5.01325654926200100483153\n"
     ]
    }
   ],
   "source": [
    "for x0 in range(-2,6):\n",
    "    r = findroot(func1,x0=x0,tol=1e-10,solver=\"newton\")\n",
    "    print(f\"Solution near {x0}: {r}\")"
   ]
  },
  {
   "cell_type": "markdown",
   "id": "60d26a89-005a-4aac-90bb-bcc632d14f1f",
   "metadata": {},
   "source": [
    "## Numerical calculus"
   ]
  },
  {
   "cell_type": "markdown",
   "id": "19c3660e-1b5e-4fa3-8e52-916228463781",
   "metadata": {},
   "source": [
    "### Differentiation of any order\n",
    "\n",
    "$$\\left.\\frac{d}{dx}\\left( {x^2+x}\\right ) \\right\\vert_{x=1.0}=3.0$$\n",
    "$$\\left.\\frac{d^2}{dx^2}\\left( {x^2+x}\\right ) \\right\\vert_{x=1.0}=2.0$$\n",
    "$$\\left.\\frac{d^3}{dx^3}\\left( {x^2+x}\\right ) \\right\\vert_{x=1.0}=0.0$$"
   ]
  },
  {
   "cell_type": "code",
   "execution_count": 210,
   "id": "c062333d-34de-40f4-8d8e-52b501370ac2",
   "metadata": {},
   "outputs": [
    {
     "name": "stdout",
     "output_type": "stream",
     "text": [
      "3.0\n",
      "2.0\n",
      "0.0\n"
     ]
    }
   ],
   "source": [
    "print(diff(lambda x: x**2 + x, 1.0))\n",
    "print(diff(lambda x: x**2 + x, 1.0, 2))\n",
    "print(diff(lambda x: x**2 + x, 1.0, 3))"
   ]
  },
  {
   "cell_type": "markdown",
   "id": "2b8789d0-e300-409d-82b8-414d8c40385d",
   "metadata": {},
   "source": [
    "### Partial derivative"
   ]
  },
  {
   "cell_type": "markdown",
   "id": "3c7f9de7-460f-4750-8348-8322fb316d0c",
   "metadata": {},
   "source": [
    "$$\\left.\\frac{\\partial}{\\partial x \\partial y} \\left( 3xy+2y-x \\right) \\right\\vert_{x=0.25,y=0.5}$$"
   ]
  },
  {
   "cell_type": "code",
   "execution_count": 211,
   "id": "f1c2171a-31e2-4bc4-b0fc-45bd02244296",
   "metadata": {},
   "outputs": [
    {
     "data": {
      "text/plain": [
       "2.75"
      ]
     },
     "execution_count": 211,
     "metadata": {},
     "output_type": "execute_result"
    }
   ],
   "source": [
    "diff(lambda x,y: 3*x*y + 2*y - x, (0.25, 0.5), (0,1))"
   ]
  },
  {
   "cell_type": "markdown",
   "id": "d15e7c50-6816-4f6a-a7f1-b32ff779ef8c",
   "metadata": {},
   "source": [
    "### 1-D integrals\n",
    "\n",
    "$\\int_{0}^{\\infty}\\frac{1}{1+x^2}=\\frac{\\pi}{2}$\n",
    "\n",
    "$\\int_{-\\infty}^{\\infty}\\text{exp}(-x^2)=\\sqrt{\\pi}$"
   ]
  },
  {
   "cell_type": "code",
   "execution_count": 217,
   "id": "7e9e5bd8-7a99-48c1-91f0-1dcda1e8de4d",
   "metadata": {},
   "outputs": [],
   "source": [
    "mp.dps=50"
   ]
  },
  {
   "cell_type": "code",
   "execution_count": 218,
   "id": "bae76a37-89b2-46a9-9598-e4f4fcc6493c",
   "metadata": {},
   "outputs": [
    {
     "data": {
      "text/plain": [
       "1.5707963267948966192313216916397514420985846996876"
      ]
     },
     "execution_count": 218,
     "metadata": {},
     "output_type": "execute_result"
    }
   ],
   "source": [
    "quad(lambda x: 1/(x**2+1), [0, inf])"
   ]
  },
  {
   "cell_type": "code",
   "execution_count": 219,
   "id": "1bdca06d-c0d4-46d8-af3d-3caaeeed9938",
   "metadata": {},
   "outputs": [
    {
     "data": {
      "text/plain": [
       "1.7724538509055160272981674833411451827975494561224"
      ]
     },
     "execution_count": 219,
     "metadata": {},
     "output_type": "execute_result"
    }
   ],
   "source": [
    "quad(lambda x: exp(-x**2), [-inf, inf])"
   ]
  },
  {
   "cell_type": "markdown",
   "id": "9973d560-0ee1-4678-8682-408731a3544e",
   "metadata": {},
   "source": [
    "### 2-D integrals\n",
    "\n",
    "$\\int_{0}^{1}\\int_{0}^{1}\\frac{x-1}{(1-xy).\\text{log}(xy)}$"
   ]
  },
  {
   "cell_type": "code",
   "execution_count": 221,
   "id": "cbc70db2-bfc2-4d46-bb14-b24ffe005267",
   "metadata": {},
   "outputs": [
    {
     "data": {
      "text/plain": [
       "0.577215664901532860606512090082"
      ]
     },
     "execution_count": 221,
     "metadata": {},
     "output_type": "execute_result"
    }
   ],
   "source": [
    "mp.dps = 30\n",
    "f = lambda x, y: (x-1)/((1-x*y)*log(x*y))\n",
    "quad(f, [0, 1], [0, 1])"
   ]
  },
  {
   "cell_type": "markdown",
   "id": "7bb1f695-349a-4516-9374-d6b5ce1261a4",
   "metadata": {},
   "source": [
    "## Ordinary differential equation"
   ]
  },
  {
   "cell_type": "markdown",
   "id": "ef14d34c-bb91-49c7-8454-35d8a512dd38",
   "metadata": {},
   "source": [
    "$y'(x)=y(x), y(0)=1$ \n",
    "\n",
    "$\\rightarrow y(x)=\\text{exp}(x)$"
   ]
  },
  {
   "cell_type": "code",
   "execution_count": 224,
   "id": "45e2aa6c-8331-4a1b-b20b-8436ebc1f271",
   "metadata": {},
   "outputs": [],
   "source": [
    "f = odefun(lambda x, y: y, 0, 1)"
   ]
  },
  {
   "cell_type": "code",
   "execution_count": 225,
   "id": "ce9987ef-9829-48b4-bd42-6ad2fe2d8c6e",
   "metadata": {},
   "outputs": [
    {
     "data": {
      "text/plain": [
       "1.0"
      ]
     },
     "execution_count": 225,
     "metadata": {},
     "output_type": "execute_result"
    }
   ],
   "source": [
    "f(0.0)"
   ]
  },
  {
   "cell_type": "code",
   "execution_count": 226,
   "id": "ad0eefa3-dd54-467f-a00a-59cddb6548ce",
   "metadata": {},
   "outputs": [
    {
     "data": {
      "text/plain": [
       "2.71828182845904523536028747135"
      ]
     },
     "execution_count": 226,
     "metadata": {},
     "output_type": "execute_result"
    }
   ],
   "source": [
    "f(1)"
   ]
  },
  {
   "cell_type": "markdown",
   "id": "e351a8ef-47d7-4d4a-acd5-b2bdf1e7f7b8",
   "metadata": {},
   "source": [
    "$y'(x)=y(x), y(0)=\\pi/2$ \n",
    "\n",
    "$\\rightarrow y(x)=2\\text{tan}^{-1}\\text{exp}(x^2/2)$"
   ]
  },
  {
   "cell_type": "code",
   "execution_count": 227,
   "id": "35d3d9d3-c67c-4160-9548-63615e2f9543",
   "metadata": {},
   "outputs": [],
   "source": [
    "f = odefun(lambda x, y: x*sin(y), 0, pi/2)"
   ]
  },
  {
   "cell_type": "code",
   "execution_count": 228,
   "id": "059d40a8-4ca4-4bd3-82b3-0d199edabaa7",
   "metadata": {},
   "outputs": [
    {
     "data": {
      "text/plain": [
       "2.0511774059286260678362079816"
      ]
     },
     "execution_count": 228,
     "metadata": {},
     "output_type": "execute_result"
    }
   ],
   "source": [
    "f(1)"
   ]
  },
  {
   "cell_type": "code",
   "execution_count": null,
   "id": "c0657e90-49da-4c1f-8c01-ec6f9a87bbe8",
   "metadata": {},
   "outputs": [],
   "source": []
  }
 ],
 "metadata": {
  "kernelspec": {
   "display_name": "Python 3",
   "language": "python",
   "name": "python3"
  },
  "language_info": {
   "codemirror_mode": {
    "name": "ipython",
    "version": 3
   },
   "file_extension": ".py",
   "mimetype": "text/x-python",
   "name": "python",
   "nbconvert_exporter": "python",
   "pygments_lexer": "ipython3",
   "version": "3.9.4"
  }
 },
 "nbformat": 4,
 "nbformat_minor": 5
}
