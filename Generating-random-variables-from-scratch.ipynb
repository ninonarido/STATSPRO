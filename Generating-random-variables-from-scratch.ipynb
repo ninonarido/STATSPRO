{
 "cells": [
  {
   "cell_type": "markdown",
   "metadata": {},
   "source": [
    "# Generating random variables from scratch\n",
    "\n",
    "## Prof. Nino A. Narido\n",
    "\n",
    "---\n",
    "\n",
    "## What is Notebook about?\n",
    "\n",
    "[Random variables](https://en.wikipedia.org/wiki/Random_variable) are an integral part of data science, machine learning, and statistical modeling. They play an increasingly important role in the systems and services around us that employ artificial intelligence or deep neural networks.\n",
    "\n",
    "The concept and properties of random variables are used in\n",
    "\n",
    "- regression techniques,\n",
    "- ensemble methods like random forests, gradient boosting,\n",
    "- deep learning,\n",
    "- clustering algorithms,\n",
    "- natural language processing,\n",
    "- reinforcement learning,\n",
    "- advanced search algorithms in AI and game theory.\n",
    "\n",
    "This Notebook aims to show how you can generate random variables from scratch with simple programming.\n",
    "\n",
    "Note that phrase _“from scratch”_. It means we will not call a third-party library or subroutine. Instead, we will write our own simple functions to generate such random variables.\n",
    "\n",
    "**Can you do the following?**\n",
    "\n",
    "- Addition, multiplication, division, and modulus\n",
    "- Sine, cosine, and logarithm operations\n",
    "\n",
    "We will show how to use these rudimentary mathematical operations to generate,\n",
    "\n",
    "- Uniform random variates\n",
    "- Random variates from the Exponential Distribution\n",
    "- Random variates from the Normal Distribution\n",
    "- etc.\n",
    "\n",
    "## In software, you gotta embrace the ‘Pseudo’\n",
    "\n",
    "Mother nature offers numerous instances of true random processes. Nuclear decay is one such instance.\n",
    "\n",
    "It turns out that true random processes can only be emulated and modeled with the so-called [hardware random generators](https://en.wikipedia.org/wiki/Hardware_random_number_generator), a device that generates random numbers from a physical process, rather than by means of an algorithm. Such devices are often based on quantum-mechanical phenomena that generate low-level, stochastic “noise” signals, such as thermal noise, the photoelectric effect, interference of optical beams, and other quantum phenomena.\n",
    "\n",
    "Unfortunately, in everyday computing systems, and in an algorithmic setting, we only encounter the so-called [‘pseudo-random’ numbers](https://en.wikipedia.org/wiki/Pseudorandom_number_generator). They are not truly random as a natural process can be, and at some level, they are deterministic. A [seed number is supplied to an algorithm](https://pynative.com/python-random-seed/), which generates a series of such numbers.\n",
    "\n",
    "However, for all practical computing purposes, these ‘pseudo-random’ numbers are sufficient if they do not exhibit an obvious repeating pattern or predictability.\n",
    "\n",
    "Complex and elaborate pseudo-random generators are available in all major programming languages. In many cases, they use special types of mathematics such as [Modular Arithmetic](https://en.wikipedia.org/wiki/Modular_arithmetic) or [Marsenne Twister](https://en.wikipedia.org/wiki/Mersenne_Twister). Here is the link to the [`random` module of Python](https://docs.python.org/3/library/random.html), for example.\n",
    "\n",
    "There is also a wholly separate branch of research and development around [cryptographically secured pseudo random generators](https://en.wikipedia.org/wiki/Cryptographically_secure_pseudorandom_number_generator) for encryption systems. Imagine what can happen if someone can guess or tease out the exact algorithm for generating the hash keys for your Google password?\n",
    "\n",
    "In this Notebook, we will write a very simple program with the help of rudimentary mathematical operations, to build our random generator. In fact, we will use a method called a [linear congruential generator](https://en.wikipedia.org/wiki/Linear_congruential_generator), which was popular in the old days of pseudo-random generation.\n",
    "\n",
    "The output of our program will take the form of a simple [Uniform Distribution](https://en.wikipedia.org/wiki/Uniform_distribution_(continuous)). Thereafter, we will use statistical theorems and transformations to generate random variables, corresponding to other distributions, based on this random generator.\n",
    "\n",
    "## Article\n",
    "\n",
    "Read my article on Medium on this topic here: [\"How to generate random variables from scratch (no library used)\"](https://towardsdatascience.com/how-to-generate-random-variables-from-scratch-no-library-used-4b71eb3c8dc7)\n",
    "\n",
    "---\n"
   ]
  },
  {
   "cell_type": "markdown",
   "metadata": {},
   "source": [
    "## The code and the demo\n",
    "\n",
    "### Uniform random generator based on _\"Linear Congruential Generator\"_"
   ]
  },
  {
   "cell_type": "code",
   "execution_count": 1,
   "metadata": {},
   "outputs": [],
   "source": [
    "import numpy as np\n",
    "import matplotlib.pyplot as plt\n",
    "from collections import Counter\n",
    "import time"
   ]
  },
  {
   "cell_type": "code",
   "execution_count": 2,
   "metadata": {},
   "outputs": [],
   "source": [
    "def pseudo_uniform_bad(mult=5,\n",
    "                       mod=11,\n",
    "                       seed=1,\n",
    "                       size=1):\n",
    "    \"\"\"\n",
    "    A bad pseudo random generator with small multipliers and modulus\n",
    "    \"\"\"\n",
    "    U = np.zeros(size)\n",
    "    x = (seed*mult+1)%mod\n",
    "    U[0] = x/mod\n",
    "    for i in range(1,size):\n",
    "        x = (x*mult+1)%mod\n",
    "        U[i] = x/mod\n",
    "    return U"
   ]
  },
  {
   "cell_type": "code",
   "execution_count": 3,
   "metadata": {},
   "outputs": [
    {
     "data": {
      "image/png": "[encoded data removed]",
      "text/plain": [
       "<Figure size 432x288 with 1 Axes>"
      ]
     },
     "metadata": {
      "needs_background": "light"
     },
     "output_type": "display_data"
    }
   ],
   "source": [
    "l=pseudo_uniform_bad(seed=3,size=1000)\n",
    "plt.hist(l,bins=20,edgecolor='k')\n",
    "plt.xticks(fontsize=15)\n",
    "plt.yticks(fontsize=15)\n",
    "plt.show()"
   ]
  },
  {
   "cell_type": "code",
   "execution_count": 4,
   "metadata": {},
   "outputs": [],
   "source": [
    "def pseudo_uniform_good(mult=16807,\n",
    "                        mod=(2**31)-1,\n",
    "                        seed=123456789,\n",
    "                        size=1):\n",
    "    \"\"\"\n",
    "    A reasoanbly good pseudo random generator\n",
    "    \"\"\"\n",
    "    U = np.zeros(size)\n",
    "    x = (seed*mult+1)%mod\n",
    "    U[0] = x/mod\n",
    "    for i in range(1,size):\n",
    "        x = (x*mult+1)%mod\n",
    "        U[i] = x/mod\n",
    "    return U"
   ]
  },
  {
   "cell_type": "code",
   "execution_count": 5,
   "metadata": {},
   "outputs": [
    {
     "data": {
      "image/png": "[encoded data removed]",
      "text/plain": [
       "<Figure size 432x288 with 1 Axes>"
      ]
     },
     "metadata": {
      "needs_background": "light"
     },
     "output_type": "display_data"
    }
   ],
   "source": [
    "l=pseudo_uniform_good(size=10000)\n",
    "plt.hist(l,bins=20,edgecolor='k')\n",
    "plt.xticks(fontsize=15)\n",
    "plt.yticks(fontsize=15)\n",
    "plt.show()"
   ]
  },
  {
   "cell_type": "code",
   "execution_count": 6,
   "metadata": {},
   "outputs": [],
   "source": [
    "def pseudo_uniform(low=0,\n",
    "                   high=1,\n",
    "                  seed=123456789,\n",
    "                  size=1):\n",
    "    \"\"\"\n",
    "    Generates uniformly random number between `low` and `high` limits\n",
    "    \"\"\"\n",
    "    return low+(high-low)*pseudo_uniform_good(seed=seed,size=size)"
   ]
  },
  {
   "cell_type": "code",
   "execution_count": 7,
   "metadata": {},
   "outputs": [
    {
     "data": {
      "image/png": "[encoded data removed]",
      "text/plain": [
       "<Figure size 432x288 with 1 Axes>"
      ]
     },
     "metadata": {
      "needs_background": "light"
     },
     "output_type": "display_data"
    }
   ],
   "source": [
    "l=pseudo_uniform(low=-5,high=7,size=10000)\n",
    "plt.hist(l,bins=20,edgecolor='k')\n",
    "plt.xticks(fontsize=15)\n",
    "plt.yticks(fontsize=15)\n",
    "plt.xlim(-6,8)\n",
    "plt.show()"
   ]
  },
  {
   "cell_type": "markdown",
   "metadata": {},
   "source": [
    "### Sample picker"
   ]
  },
  {
   "cell_type": "code",
   "execution_count": 8,
   "metadata": {},
   "outputs": [],
   "source": [
    "def sample_pick(lst):\n",
    "    \"\"\"\n",
    "    Picks up a random sample from a given list\n",
    "    \"\"\"\n",
    "    # Sets seed based on the decimal portion of the current system clock\n",
    "    t = time.perf_counter()\n",
    "    seed = int(10**9*float(str(t-int(t))[0:]))\n",
    "    # Random sample as an index\n",
    "    l = len(lst)\n",
    "    s = pseudo_uniform(low=0,high=l,seed=seed,size=1)\n",
    "    idx = int(s)\n",
    "    \n",
    "    return (lst[idx])"
   ]
  },
  {
   "cell_type": "code",
   "execution_count": 9,
   "metadata": {},
   "outputs": [],
   "source": [
    "dice_faces = ['one','two','three','four','five','six']"
   ]
  },
  {
   "cell_type": "code",
   "execution_count": 10,
   "metadata": {},
   "outputs": [
    {
     "name": "stdout",
     "output_type": "stream",
     "text": [
      "four, one, two, three, four, five, five, six, one, three, five, six, one, two, four, five, six, one, one, two, four, five, one, three, four, six, one, three, four, six, "
     ]
    }
   ],
   "source": [
    "for _ in range(30):\n",
    "    print(sample_pick(dice_faces),end=', ')"
   ]
  },
  {
   "cell_type": "code",
   "execution_count": 11,
   "metadata": {},
   "outputs": [
    {
     "data": {
      "image/png": "[encoded data removed]",
      "text/plain": [
       "<Figure size 432x288 with 1 Axes>"
      ]
     },
     "metadata": {
      "needs_background": "light"
     },
     "output_type": "display_data"
    }
   ],
   "source": [
    "l = []\n",
    "for _ in range(10000):\n",
    "    t = time.perf_counter()\n",
    "    seed = int(10**9*float(str(t-int(t))[0:]))\n",
    "    l.append(float(pseudo_uniform(0,6,seed=seed,size=1)))\n",
    "    \n",
    "plt.hist(l,bins=20,edgecolor='k')\n",
    "plt.xticks(fontsize=15)\n",
    "plt.yticks(fontsize=15)\n",
    "plt.xlim(-1,7)\n",
    "plt.show()"
   ]
  },
  {
   "cell_type": "markdown",
   "metadata": {},
   "source": [
    "### Bernoulli"
   ]
  },
  {
   "cell_type": "code",
   "execution_count": 12,
   "metadata": {},
   "outputs": [],
   "source": [
    "def pseudo_bernoulli(p=0.5,size=1):\n",
    "    \"\"\"\n",
    "    Bernoulli generator from uniform generator\n",
    "    \"\"\"\n",
    "    # Sets seed based on the decimal portion of the current system clock\n",
    "    t = time.perf_counter()\n",
    "    seed = int(10**9*float(str(t-int(t))[0:]))\n",
    "    B = pseudo_uniform(seed=seed,size=size)\n",
    "    B = (B<=p).astype(int)\n",
    "    \n",
    "    return B"
   ]
  },
  {
   "cell_type": "code",
   "execution_count": 13,
   "metadata": {},
   "outputs": [
    {
     "data": {
      "image/png": "[encoded data removed]",
      "text/plain": [
       "<Figure size 432x288 with 1 Axes>"
      ]
     },
     "metadata": {
      "needs_background": "light"
     },
     "output_type": "display_data"
    }
   ],
   "source": [
    "l=pseudo_bernoulli(p=0.2,size=1000)\n",
    "plt.hist(l,bins=20,edgecolor='k')\n",
    "plt.xticks(fontsize=15)\n",
    "plt.yticks(fontsize=15)\n",
    "plt.show()"
   ]
  },
  {
   "cell_type": "markdown",
   "metadata": {},
   "source": [
    "### Binomial"
   ]
  },
  {
   "cell_type": "code",
   "execution_count": 14,
   "metadata": {},
   "outputs": [],
   "source": [
    "def pseudo_binomial(n=100,\n",
    "                   p=0.5,\n",
    "                   size=1):\n",
    "    \"\"\"\n",
    "    Binomial distribution from the Uniform generator\n",
    "    \"\"\"\n",
    "    binom = []\n",
    "    for _ in range(size):\n",
    "        t = time.perf_counter()\n",
    "        seed = int(10**9*float(str(t-int(t))[0:]))\n",
    "        U = pseudo_uniform(size=n,seed=seed)\n",
    "        Y = (U <= p).astype(int)\n",
    "        binom.append(np.sum(Y))\n",
    "    \n",
    "    return binom"
   ]
  },
  {
   "cell_type": "code",
   "execution_count": 15,
   "metadata": {},
   "outputs": [
    {
     "data": {
      "text/plain": [
       "[69, 74, 75, 72, 80, 75, 69, 78, 79, 84, 75, 83, 83, 63, 68]"
      ]
     },
     "execution_count": 15,
     "metadata": {},
     "output_type": "execute_result"
    }
   ],
   "source": [
    "# 100 loaded coins, each with probability of head 0.75, are flipped \n",
    "# This trial/experiment is repeated for 15 times\n",
    "# The number of heads in each experiment are given below\n",
    "pseudo_binomial(n=100,p=0.75,size=15)"
   ]
  },
  {
   "cell_type": "markdown",
   "metadata": {},
   "source": [
    "### Normal"
   ]
  },
  {
   "cell_type": "code",
   "execution_count": 16,
   "metadata": {},
   "outputs": [],
   "source": [
    "def pseudo_normal(mu=0.0,sigma=1.0,size=1):\n",
    "    \"\"\"\n",
    "    Generates Normal distribution from the Uniform distribution using Box-Muller transform\n",
    "    \"\"\"\n",
    "    # A pair of Uniform distributions\n",
    "    t = time.perf_counter()\n",
    "    seed1 = int(10**9*float(str(t-int(t))[0:]))\n",
    "    U1 = pseudo_uniform(seed=seed1,size=size)\n",
    "    t = time.perf_counter()\n",
    "    seed2 = int(10**9*float(str(t-int(t))[0:]))\n",
    "    U2 = pseudo_uniform(seed=seed2,size=size)\n",
    "    # Standard Normal pair\n",
    "    Z0 = np.sqrt(-2*np.log(U1))*np.cos(2*np.pi*U2)\n",
    "    Z1 = np.sqrt(-2*np.log(U1))*np.sin(2*np.pi*U2)\n",
    "    # Scaling\n",
    "    Z0 = Z0*sigma+mu\n",
    "    \n",
    "    return Z0"
   ]
  },
  {
   "cell_type": "code",
   "execution_count": 17,
   "metadata": {},
   "outputs": [
    {
     "data": {
      "image/png": "[encoded data removed]",
      "text/plain": [
       "<Figure size 432x288 with 1 Axes>"
      ]
     },
     "metadata": {
      "needs_background": "light"
     },
     "output_type": "display_data"
    }
   ],
   "source": [
    "l1=pseudo_normal(size=10000)\n",
    "plt.hist(l1,bins=25,edgecolor='k',alpha=0.5,color='blue')\n",
    "l2=pseudo_normal(mu=-3,sigma=2.0,size=10000)\n",
    "plt.hist(l2,bins=25,edgecolor='k',alpha=0.5,color='red')\n",
    "l3=pseudo_normal(mu=3,sigma=0.5,size=10000)\n",
    "plt.hist(l3,bins=25,edgecolor='k',alpha=0.5,color='green')\n",
    "\n",
    "plt.xticks(fontsize=15)\n",
    "plt.yticks(fontsize=15)\n",
    "plt.legend([\"$\\mu$:0, $\\sigma$:1.0\",\n",
    "           \"$\\mu$:-3, $\\sigma$:2.0\",\n",
    "           \"$\\mu$:3, $\\sigma$:0.5\"],fontsize=14)\n",
    "plt.show()"
   ]
  },
  {
   "cell_type": "code",
   "execution_count": 18,
   "metadata": {},
   "outputs": [
    {
     "data": {
      "image/png": "[encoded data removed]",
      "text/plain": [
       "<Figure size 432x288 with 1 Axes>"
      ]
     },
     "metadata": {
      "needs_background": "light"
     },
     "output_type": "display_data"
    }
   ],
   "source": [
    "l=pseudo_normal(size=10000)\n",
    "plt.hist(l,bins=25,edgecolor='k')\n",
    "plt.xticks(fontsize=15)\n",
    "plt.yticks(fontsize=15)\n",
    "plt.show()"
   ]
  },
  {
   "cell_type": "markdown",
   "metadata": {},
   "source": [
    "### Exponential"
   ]
  },
  {
   "cell_type": "code",
   "execution_count": 19,
   "metadata": {},
   "outputs": [],
   "source": [
    "def pseudo_exp(lamb,size=1):\n",
    "    \"\"\"\n",
    "    Generates exponential distribution from the Uniform distribution\n",
    "    \"\"\"\n",
    "    t = time.perf_counter()\n",
    "    seed = int(10**9*float(str(t-int(t))[0:]))\n",
    "    U = pseudo_uniform(size=size,seed=seed)\n",
    "    X = -(1/lamb)*(np.log(1-U))\n",
    "    \n",
    "    return X"
   ]
  },
  {
   "cell_type": "code",
   "execution_count": 20,
   "metadata": {},
   "outputs": [
    {
     "data": {
      "image/png": "[encoded data removed]",
      "text/plain": [
       "<Figure size 432x288 with 1 Axes>"
      ]
     },
     "metadata": {
      "needs_background": "light"
     },
     "output_type": "display_data"
    }
   ],
   "source": [
    "l=pseudo_exp(lamb=0.1,size=10000)\n",
    "plt.hist(l,bins=20,edgecolor='k')\n",
    "plt.xticks(fontsize=15)\n",
    "plt.yticks(fontsize=15)\n",
    "plt.show()"
   ]
  },
  {
   "cell_type": "markdown",
   "metadata": {},
   "source": [
    "### Poisson"
   ]
  },
  {
   "cell_type": "code",
   "execution_count": 21,
   "metadata": {},
   "outputs": [],
   "source": [
    "def pseudo_poisson(alpha,size=1):\n",
    "    \"\"\"\n",
    "    \"\"\"\n",
    "    poisson = []\n",
    "    for _ in range(size):\n",
    "        t = time.perf_counter()\n",
    "        seed = int(10**9*float(str(t-int(t))[0:]))\n",
    "        U = pseudo_uniform(seed=seed,size=5*alpha)\n",
    "        X,P,i = 0,1,0\n",
    "        while P >= np.exp(-alpha):\n",
    "            P = U[i]*P\n",
    "            X+=1\n",
    "            i+=1\n",
    "        poisson.append(X)\n",
    "    return np.array(poisson)"
   ]
  },
  {
   "cell_type": "code",
   "execution_count": 22,
   "metadata": {},
   "outputs": [],
   "source": [
    "l1=pseudo_poisson(alpha=5,size=10000)\n",
    "l2=pseudo_poisson(alpha=10,size=10000)\n",
    "l3=pseudo_poisson(alpha=20,size=10000)\n",
    "\n",
    "d1=dict(Counter(l1))\n",
    "d2=dict(Counter(l2))\n",
    "d3=dict(Counter(l3))\n",
    "\n",
    "k1 = [k for k in d1.keys()]\n",
    "v1 = [v for v in d1.values()]\n",
    "k2 = [k for k in d2.keys()]\n",
    "v2 = [v for v in d2.values()]\n",
    "k3 = [k for k in d3.keys()]\n",
    "v3 = [v for v in d3.values()]"
   ]
  },
  {
   "cell_type": "code",
   "execution_count": 23,
   "metadata": {},
   "outputs": [
    {
     "data": {
      "image/png": "[encoded data removed]",
      "text/plain": [
       "<Figure size 432x288 with 1 Axes>"
      ]
     },
     "metadata": {
      "needs_background": "light"
     },
     "output_type": "display_data"
    }
   ],
   "source": [
    "plt.scatter(k1,v1,c='blue')\n",
    "plt.scatter(k2,v2,c='k')\n",
    "plt.scatter(k3,v3,c='green')\n",
    "plt.legend([\"Rate parameter \"+\"$\\lambda$: \"+str(i) for i in (5,10,20)],fontsize=15)\n",
    "plt.xticks(fontsize=15)\n",
    "plt.yticks(fontsize=15)\n",
    "plt.show()"
   ]
  }
 ],
 "metadata": {
  "kernelspec": {
   "display_name": "Python 3 (ipykernel)",
   "language": "python",
   "name": "python3"
  },
  "language_info": {
   "codemirror_mode": {
    "name": "ipython",
    "version": 3
   },
   "file_extension": ".py",
   "mimetype": "text/x-python",
   "name": "python",
   "nbconvert_exporter": "python",
   "pygments_lexer": "ipython3",
   "version": "3.10.11"
  }
 },
 "nbformat": 4,
 "nbformat_minor": 4
}
